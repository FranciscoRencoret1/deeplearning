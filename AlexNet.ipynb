{
  "nbformat": 4,
  "nbformat_minor": 0,
  "metadata": {
    "colab": {
      "name": "AlexNet.ipynb",
      "version": "0.3.2",
      "provenance": [],
      "collapsed_sections": []
    },
    "kernelspec": {
      "name": "python3",
      "display_name": "Python 3"
    },
    "accelerator": "GPU"
  },
  "cells": [
    {
      "cell_type": "markdown",
      "metadata": {
        "id": "view-in-github",
        "colab_type": "text"
      },
      "source": [
        "[View in Colaboratory](https://colab.research.google.com/github/FranciscoRencoret1/deeplearning/blob/master/AlexNet.ipynb)"
      ]
    },
    {
      "metadata": {
        "id": "gaRMhhinpb6V",
        "colab_type": "code",
        "colab": {
          "base_uri": "https://localhost:8080/",
          "height": 309
        },
        "outputId": "1687972d-88f5-4e77-b63c-4fe53fdf97ab"
      },
      "cell_type": "code",
      "source": [
        "!wget https://www.dropbox.com/s/c0d7npcg1yysnux/MIT-10-Classes.zip?dl=0\n",
        "!unzip -q MIT-10-Classes.zip?dl=0"
      ],
      "execution_count": 3,
      "outputs": [
        {
          "output_type": "stream",
          "text": [
            "--2018-04-21 19:34:28--  https://www.dropbox.com/s/c0d7npcg1yysnux/MIT-10-Classes.zip?dl=0\n",
            "Resolving www.dropbox.com (www.dropbox.com)... 162.125.7.1, 2620:100:6016:1::a27d:101\n",
            "Connecting to www.dropbox.com (www.dropbox.com)|162.125.7.1|:443... connected.\n",
            "HTTP request sent, awaiting response... 302 Found\n",
            "Location: https://dl.dropboxusercontent.com/content_link/L5S6Z1kwskaXIroZmvk3ElWSovtMspDVicM7d1Rdc0zQAleCbOAFD96dtiofctEw/file [following]\n",
            "--2018-04-21 19:34:29--  https://dl.dropboxusercontent.com/content_link/L5S6Z1kwskaXIroZmvk3ElWSovtMspDVicM7d1Rdc0zQAleCbOAFD96dtiofctEw/file\n",
            "Resolving dl.dropboxusercontent.com (dl.dropboxusercontent.com)... 162.125.7.6, 2620:100:6016:6::a27d:106\n",
            "Connecting to dl.dropboxusercontent.com (dl.dropboxusercontent.com)|162.125.7.6|:443... connected.\n",
            "HTTP request sent, awaiting response... 200 OK\n",
            "Length: 139459806 (133M) [application/zip]\n",
            "Saving to: ‘MIT-10-Classes.zip?dl=0’\n",
            "\n",
            "MIT-10-Classes.zip? 100%[===================>] 133.00M  33.7MB/s    in 4.0s    \n",
            "\n",
            "2018-04-21 19:34:34 (33.7 MB/s) - ‘MIT-10-Classes.zip?dl=0’ saved [139459806/139459806]\n",
            "\n"
          ],
          "name": "stdout"
        }
      ]
    },
    {
      "metadata": {
        "id": "RwWQW2-dpisq",
        "colab_type": "code",
        "colab": {}
      },
      "cell_type": "code",
      "source": [
        "#Definicion de librerias con la funciones que seran utilizadas por Keras.\n",
        "from keras.layers import Activation, Dense, Flatten, Dropout\n",
        "from keras.models import Sequential\n",
        "from keras.layers.convolutional import Convolution2D, ZeroPadding2D\n",
        "from keras.layers.normalization import BatchNormalization\n",
        "from keras.layers.pooling import MaxPooling2D\n",
        "from keras import optimizers\n",
        "from keras.preprocessing.image import ImageDataGenerator, load_img, img_to_array\n",
        "from keras.utils import to_categorical"
      ],
      "execution_count": 0,
      "outputs": []
    },
    {
      "metadata": {
        "id": "EAJfvrMUl0Pm",
        "colab_type": "code",
        "colab": {
          "base_uri": "https://localhost:8080/",
          "height": 34
        },
        "outputId": "fde898fe-18bc-4180-e82c-34d9a7dc8337"
      },
      "cell_type": "code",
      "source": [
        "#Definicion de contenedor y primera capa de AlexNet.\n",
        "modelAlexNet = Sequential()\n",
        "modelAlexNet.add(ZeroPadding2D((2,2), input_shape=(224, 224, 3)))\n",
        "modelAlexNet.add(Convolution2D(96, (11,11), strides=(4,4), padding=\"valid\"))\n",
        "modelAlexNet.add(Activation(activation=\"relu\"))\n",
        "output_shape_first_layer = modelAlexNet.output_shape\n",
        "print('Los mapas de activación de la capa 1 de convolción tienen tamaño: {}'.format(output_shape_first_layer))\n",
        "modelAlexNet.add(BatchNormalization())\n",
        "modelAlexNet.add(MaxPooling2D((3,3), strides=(2,2)))"
      ],
      "execution_count": 6,
      "outputs": [
        {
          "output_type": "stream",
          "text": [
            "Los mapas de activación de la capa 1 de convolción tienen tamaño: (None, 55, 55, 96)\n"
          ],
          "name": "stdout"
        }
      ]
    },
    {
      "metadata": {
        "id": "JKwyKBFDmMix",
        "colab_type": "code",
        "colab": {
          "base_uri": "https://localhost:8080/",
          "height": 34
        },
        "outputId": "5efdee66-0cf6-493b-96a6-596be774b9fa"
      },
      "cell_type": "code",
      "source": [
        "#Definicion de la segunda capa de AlexNet.\n",
        "modelAlexNet.add(ZeroPadding2D((2,2)))\n",
        "modelAlexNet.add(Convolution2D(256, (5, 5), padding=\"valid\"))\n",
        "modelAlexNet.add(Activation(activation=\"relu\"))\n",
        "output_shape_second_layer = modelAlexNet.output_shape\n",
        "print('Los mapas de activación de la capa 2 de convolción tienen tamaño: {}'.format(output_shape_second_layer))\n",
        "modelAlexNet.add(BatchNormalization())\n",
        "modelAlexNet.add(MaxPooling2D((3,3), strides=(2,2)))"
      ],
      "execution_count": 7,
      "outputs": [
        {
          "output_type": "stream",
          "text": [
            "Los mapas de activación de la capa 2 de convolción tienen tamaño: (None, 27, 27, 256)\n"
          ],
          "name": "stdout"
        }
      ]
    },
    {
      "metadata": {
        "id": "HwtwFVksmOwa",
        "colab_type": "code",
        "colab": {
          "base_uri": "https://localhost:8080/",
          "height": 34
        },
        "outputId": "7f63205b-5255-4fcf-eea4-86d0c8e38580"
      },
      "cell_type": "code",
      "source": [
        "#Definicion de la tercera capa de AlexNet\n",
        "modelAlexNet.add(ZeroPadding2D((1,1)))\n",
        "modelAlexNet.add(Convolution2D(384, (3, 3), strides=(1,1), padding=\"valid\"))\n",
        "modelAlexNet.add(Activation(activation=\"relu\"))\n",
        "output_shape_third_layer = modelAlexNet.output_shape\n",
        "print('Los mapas de activación de la capa 3 de convolción tienen tamaño: {}'.format(output_shape_third_layer))"
      ],
      "execution_count": 8,
      "outputs": [
        {
          "output_type": "stream",
          "text": [
            "Los mapas de activación de la capa 3 de convolción tienen tamaño: (None, 13, 13, 384)\n"
          ],
          "name": "stdout"
        }
      ]
    },
    {
      "metadata": {
        "id": "gw8XwG-FmRY9",
        "colab_type": "code",
        "colab": {
          "base_uri": "https://localhost:8080/",
          "height": 34
        },
        "outputId": "f9582625-7a65-4675-ecb0-6c9b50a69426"
      },
      "cell_type": "code",
      "source": [
        "#Definicion de la cuarta capa de AlexNet\n",
        "modelAlexNet.add(ZeroPadding2D((1,1)))\n",
        "modelAlexNet.add(Convolution2D(384, (3, 3), strides=(1,1), padding=\"valid\"))\n",
        "modelAlexNet.add(Activation(activation=\"relu\"))\n",
        "output_shape_fourth_layer = modelAlexNet.output_shape\n",
        "print('Los mapas de activación de la capa 4 de convolción tienen tamaño: {}'.format(output_shape_fourth_layer))"
      ],
      "execution_count": 9,
      "outputs": [
        {
          "output_type": "stream",
          "text": [
            "Los mapas de activación de la capa 4 de convolción tienen tamaño: (None, 13, 13, 384)\n"
          ],
          "name": "stdout"
        }
      ]
    },
    {
      "metadata": {
        "id": "OBN5fbkKmTx6",
        "colab_type": "code",
        "colab": {
          "base_uri": "https://localhost:8080/",
          "height": 34
        },
        "outputId": "7bf807ab-de6d-4cfd-a53d-3633d613aa33"
      },
      "cell_type": "code",
      "source": [
        "#Definicion de la quinta capa de AlexNet\n",
        "modelAlexNet.add(ZeroPadding2D((1,1)))\n",
        "modelAlexNet.add(Convolution2D(256, (3, 3), strides=(1,1), padding=\"valid\"))\n",
        "modelAlexNet.add(Activation(activation=\"relu\"))\n",
        "output_shape_fifth_layer = modelAlexNet.output_shape\n",
        "print('Los mapas de activación de la capa 5 de convolción tienen tamaño: {}'.format(output_shape_fifth_layer))\n",
        "modelAlexNet.add(MaxPooling2D((3,3), strides=(2,2)))"
      ],
      "execution_count": 10,
      "outputs": [
        {
          "output_type": "stream",
          "text": [
            "Los mapas de activación de la capa 5 de convolción tienen tamaño: (None, 13, 13, 256)\n"
          ],
          "name": "stdout"
        }
      ]
    },
    {
      "metadata": {
        "id": "YZ73NGtrpFf7",
        "colab_type": "code",
        "colab": {}
      },
      "cell_type": "code",
      "source": [
        "modelAlexNet.add(Flatten())"
      ],
      "execution_count": 0,
      "outputs": []
    },
    {
      "metadata": {
        "id": "aJQjJvNjouQU",
        "colab_type": "code",
        "colab": {}
      },
      "cell_type": "code",
      "source": [
        "#Definicion de la capa 6 de AlexNet\n",
        "modelAlexNet.add(Dense(4096, input_shape=(9216,), activation='relu', kernel_initializer='glorot_uniform', use_bias=True))\n",
        "modelAlexNet.add(Dropout(0.5))\n",
        "output_shape_sixth_layer = modelAlexNet.output_shape"
      ],
      "execution_count": 0,
      "outputs": []
    },
    {
      "metadata": {
        "id": "JVqaf_GMmV4e",
        "colab_type": "code",
        "colab": {}
      },
      "cell_type": "code",
      "source": [
        "#Definición de la capa 7 de AlexNet\n",
        "modelAlexNet.add(Dense(4096, activation='relu', kernel_initializer='glorot_uniform', use_bias=True))\n",
        "modelAlexNet.add(Dropout(0.5))\n",
        "output_shape_seventh_layer = modelAlexNet.output_shape"
      ],
      "execution_count": 0,
      "outputs": []
    },
    {
      "metadata": {
        "id": "eRNPExCHmZhH",
        "colab_type": "code",
        "colab": {}
      },
      "cell_type": "code",
      "source": [
        "#Definición de la capa 8 de AlexNet\n",
        "modelAlexNet.add(Dense(10, activation='softmax', kernel_initializer='glorot_uniform', use_bias=True))\n",
        "output_shape_eighths_layer = modelAlexNet.output_shape"
      ],
      "execution_count": 0,
      "outputs": []
    },
    {
      "metadata": {
        "id": "e0HIcPsonUHB",
        "colab_type": "code",
        "colab": {}
      },
      "cell_type": "code",
      "source": [
        "modelAlexNet.compile(optimizer=optimizers.Adam(lr=5e-4),\n",
        "              loss='categorical_crossentropy',\n",
        "              metrics=['accuracy'])"
      ],
      "execution_count": 0,
      "outputs": []
    },
    {
      "metadata": {
        "id": "Ny0BECXfnXD_",
        "colab_type": "code",
        "colab": {
          "base_uri": "https://localhost:8080/",
          "height": 51
        },
        "outputId": "6cf5933c-657d-484c-c23c-206939afd723"
      },
      "cell_type": "code",
      "source": [
        "#Load the images\n",
        "train_datagen = ImageDataGenerator(rescale=1./255)\n",
        "\n",
        "train_generator = train_datagen.flow_from_directory(\n",
        "        './MIT-10-Classes/Imgs/TrainSetImgs',\n",
        "        target_size=(224, 224),\n",
        "        batch_size=32,\n",
        "        class_mode='categorical')\n"
      ],
      "execution_count": 16,
      "outputs": [
        {
          "output_type": "stream",
          "text": [
            "Found 799 images belonging to 10 classes.\n",
            "Found 201 images belonging to 10 classes.\n"
          ],
          "name": "stdout"
        }
      ]
    },
    {
      "metadata": {
        "id": "TIXHGaH7n6Mr",
        "colab_type": "code",
        "colab": {
          "base_uri": "https://localhost:8080/",
          "height": 1754
        },
        "outputId": "ce167ac9-d1b8-496f-e67a-8adb47d35fec"
      },
      "cell_type": "code",
      "source": [
        "modelAlexNet.fit_generator(\n",
        "        train_generator,\n",
        "        steps_per_epoch = train_generator.samples / 32,\n",
        "        epochs=25,\n",
        "        verbose=1)"
      ],
      "execution_count": 17,
      "outputs": [
        {
          "output_type": "stream",
          "text": [
            "Epoch 1/50\n",
            "25/24 [==============================] - 9s 340ms/step - loss: 3.0145 - acc: 0.1100\n",
            "Epoch 2/50\n",
            "25/24 [==============================] - 7s 275ms/step - loss: 2.1548 - acc: 0.2179\n",
            "Epoch 3/50\n",
            "25/24 [==============================] - 7s 274ms/step - loss: 2.0155 - acc: 0.2792\n",
            "Epoch 4/50\n",
            "25/24 [==============================] - 7s 272ms/step - loss: 1.9025 - acc: 0.3328\n",
            "Epoch 5/50\n",
            "25/24 [==============================] - 7s 275ms/step - loss: 1.7763 - acc: 0.3729\n",
            "Epoch 6/50\n",
            "25/24 [==============================] - 7s 274ms/step - loss: 1.6151 - acc: 0.4105\n",
            "Epoch 7/50\n",
            "25/24 [==============================] - 7s 274ms/step - loss: 1.5132 - acc: 0.4705\n",
            "Epoch 8/50\n",
            "25/24 [==============================] - 7s 274ms/step - loss: 1.4552 - acc: 0.5005\n",
            "Epoch 9/50\n",
            "14/24 [===============>..............] - ETA: 3s - loss: 1.2674 - acc: 0.5861"
          ],
          "name": "stdout"
        },
        {
          "output_type": "stream",
          "text": [
            "25/24 [==============================] - 7s 273ms/step - loss: 1.2696 - acc: 0.5795\n",
            "Epoch 10/50\n",
            "25/24 [==============================] - 7s 273ms/step - loss: 1.1245 - acc: 0.6144\n",
            "Epoch 11/50\n",
            "25/24 [==============================] - 6s 255ms/step - loss: 0.8619 - acc: 0.6971\n",
            "Epoch 12/50\n",
            "25/24 [==============================] - 7s 277ms/step - loss: 0.7394 - acc: 0.7648\n",
            "Epoch 13/50\n",
            "25/24 [==============================] - 7s 273ms/step - loss: 0.7013 - acc: 0.7748\n",
            "Epoch 14/50\n",
            "25/24 [==============================] - 7s 273ms/step - loss: 0.5136 - acc: 0.8223\n",
            "Epoch 15/50\n",
            "25/24 [==============================] - 7s 271ms/step - loss: 0.4315 - acc: 0.8623\n",
            "Epoch 16/50\n",
            "25/24 [==============================] - 7s 272ms/step - loss: 0.4027 - acc: 0.8610\n",
            "Epoch 17/50\n",
            "16/24 [==================>...........] - ETA: 2s - loss: 0.3003 - acc: 0.9160"
          ],
          "name": "stdout"
        },
        {
          "output_type": "stream",
          "text": [
            "25/24 [==============================] - 7s 273ms/step - loss: 0.2992 - acc: 0.9098\n",
            "Epoch 18/50\n",
            "25/24 [==============================] - 7s 274ms/step - loss: 0.2304 - acc: 0.9249\n",
            "Epoch 19/50\n",
            "25/24 [==============================] - 7s 273ms/step - loss: 0.2728 - acc: 0.9134\n",
            "Epoch 20/50\n",
            "25/24 [==============================] - 7s 272ms/step - loss: 0.4047 - acc: 0.8922\n",
            "Epoch 21/50\n",
            "25/24 [==============================] - 7s 274ms/step - loss: 0.3157 - acc: 0.9012\n",
            "Epoch 22/50\n",
            "25/24 [==============================] - 7s 273ms/step - loss: 0.2021 - acc: 0.9274\n",
            "Epoch 23/50\n",
            "25/24 [==============================] - 7s 274ms/step - loss: 0.1527 - acc: 0.9499\n",
            "Epoch 24/50\n",
            "25/24 [==============================] - 7s 274ms/step - loss: 0.1705 - acc: 0.9475\n",
            "Epoch 25/50\n",
            "17/24 [===================>..........] - ETA: 2s - loss: 0.2273 - acc: 0.9337"
          ],
          "name": "stdout"
        },
        {
          "output_type": "stream",
          "text": [
            "25/24 [==============================] - 7s 276ms/step - loss: 0.2240 - acc: 0.9312\n",
            "Epoch 26/50\n",
            "25/24 [==============================] - 7s 274ms/step - loss: 0.2176 - acc: 0.9448\n",
            "Epoch 27/50\n",
            "25/24 [==============================] - 7s 273ms/step - loss: 0.2533 - acc: 0.9337\n",
            "Epoch 28/50\n",
            "25/24 [==============================] - 7s 271ms/step - loss: 0.1786 - acc: 0.9474\n",
            "Epoch 29/50\n",
            "25/24 [==============================] - 7s 276ms/step - loss: 0.1251 - acc: 0.9637\n",
            "Epoch 30/50\n",
            "25/24 [==============================] - 7s 272ms/step - loss: 0.1669 - acc: 0.9500\n",
            "Epoch 31/50\n",
            "25/24 [==============================] - 7s 272ms/step - loss: 0.1519 - acc: 0.9500\n",
            "Epoch 32/50\n",
            "25/24 [==============================] - 7s 273ms/step - loss: 0.0859 - acc: 0.9737\n",
            "Epoch 33/50\n",
            "16/24 [==================>...........] - ETA: 2s - loss: 0.0783 - acc: 0.9746"
          ],
          "name": "stdout"
        },
        {
          "output_type": "stream",
          "text": [
            "25/24 [==============================] - 7s 273ms/step - loss: 0.0705 - acc: 0.9787\n",
            "Epoch 34/50\n",
            "25/24 [==============================] - 7s 274ms/step - loss: 0.1080 - acc: 0.9687\n",
            "Epoch 35/50\n",
            "25/24 [==============================] - 7s 275ms/step - loss: 0.2308 - acc: 0.9450\n",
            "Epoch 36/50\n",
            "25/24 [==============================] - 7s 272ms/step - loss: 0.2349 - acc: 0.9412\n",
            "Epoch 37/50\n",
            "25/24 [==============================] - 7s 271ms/step - loss: 0.1962 - acc: 0.9412\n",
            "Epoch 38/50\n",
            "25/24 [==============================] - 7s 273ms/step - loss: 0.2061 - acc: 0.9448\n",
            "Epoch 39/50\n",
            "25/24 [==============================] - 7s 268ms/step - loss: 0.1793 - acc: 0.9487\n",
            "Epoch 40/50\n",
            "25/24 [==============================] - 7s 270ms/step - loss: 0.0557 - acc: 0.9812\n",
            "Epoch 41/50\n",
            "16/24 [==================>...........] - ETA: 2s - loss: 0.1019 - acc: 0.9726"
          ],
          "name": "stdout"
        },
        {
          "output_type": "stream",
          "text": [
            "25/24 [==============================] - 7s 272ms/step - loss: 0.0999 - acc: 0.9700\n",
            "Epoch 42/50\n",
            "25/24 [==============================] - 7s 271ms/step - loss: 0.1116 - acc: 0.9700\n",
            "Epoch 43/50\n",
            "25/24 [==============================] - 7s 271ms/step - loss: 0.1471 - acc: 0.9687\n",
            "Epoch 44/50\n",
            "25/24 [==============================] - 7s 276ms/step - loss: 0.2206 - acc: 0.9411\n",
            "Epoch 45/50\n",
            "25/24 [==============================] - 7s 273ms/step - loss: 0.2958 - acc: 0.9387\n",
            "Epoch 46/50\n",
            "25/24 [==============================] - 7s 280ms/step - loss: 0.1771 - acc: 0.9486\n",
            "Epoch 47/50\n",
            "25/24 [==============================] - 7s 278ms/step - loss: 0.1990 - acc: 0.9575\n",
            "Epoch 48/50\n",
            "25/24 [==============================] - 7s 278ms/step - loss: 0.1885 - acc: 0.9625\n",
            "Epoch 49/50\n",
            "17/24 [===================>..........] - ETA: 2s - loss: 0.1912 - acc: 0.9593"
          ],
          "name": "stdout"
        },
        {
          "output_type": "stream",
          "text": [
            "25/24 [==============================] - 7s 277ms/step - loss: 0.1554 - acc: 0.9636\n",
            "Epoch 50/50\n",
            "25/24 [==============================] - 7s 280ms/step - loss: 0.1021 - acc: 0.9661\n"
          ],
          "name": "stdout"
        },
        {
          "output_type": "execute_result",
          "data": {
            "text/plain": [
              "<keras.callbacks.History at 0x7f4fa158eda0>"
            ]
          },
          "metadata": {
            "tags": []
          },
          "execution_count": 17
        }
      ]
    },
    {
      "metadata": {
        "id": "pHrykj7ln8D4",
        "colab_type": "code",
        "colab": {
          "base_uri": "https://localhost:8080/",
          "height": 34
        },
        "outputId": "016a0782-a5ce-432c-ad77-f7c78e02789f"
      },
      "cell_type": "code",
      "source": [
        "print(\"Saving Model\")\n",
        "modelAlexNet.save('modelAlexNet.h5')"
      ],
      "execution_count": 18,
      "outputs": [
        {
          "output_type": "stream",
          "text": [
            "Saving Model\n"
          ],
          "name": "stdout"
        }
      ]
    },
    {
      "metadata": {
        "id": "abjE9z8XrKZm",
        "colab_type": "code",
        "colab": {}
      },
      "cell_type": "code",
      "source": [
        "import scipy.io as sio\n",
        "import numpy as np\n",
        "import cv2\n",
        "from sklearn.metrics import accuracy_score, confusion_matrix\n",
        "from sklearn.preprocessing import LabelEncoder"
      ],
      "execution_count": 0,
      "outputs": []
    },
    {
      "metadata": {
        "id": "XD1fvsogrMft",
        "colab_type": "code",
        "colab": {}
      },
      "cell_type": "code",
      "source": [
        "def load_test_set(directory):\n",
        "    #Load the clases\n",
        "    cls = os.listdir(directory)\n",
        "    #Create empty arrays\n",
        "    X = []\n",
        "    Y = []\n",
        "    #Load the set\n",
        "    for cl in cls:\n",
        "        for img in os.listdir(directory + '/' + cl):\n",
        "            img_arr = img_to_array(load_img(directory + '/' + cl + '/' + img))\n",
        "            resized = cv2.resize(img_arr, (224, 224))\n",
        "            X.append(resized)\n",
        "            Y.append(cl)\n",
        "    return np.array(X), np.array(Y)\n",
        "\n",
        "X_test, Y_test_string = load_test_set('./MIT-10-Classes/Imgs/TestSetImgs')"
      ],
      "execution_count": 0,
      "outputs": []
    },
    {
      "metadata": {
        "id": "EO0vMkCOz8U-",
        "colab_type": "code",
        "colab": {}
      },
      "cell_type": "code",
      "source": [
        "# Convert string classes to vector of dim (1,10). Vector has a 1 on the\n",
        "# corresponding class and 0 on the rest.\n",
        "encoder = LabelEncoder()\n",
        "encoder.fit(Y_test_string)\n",
        "encoded_Y = encoder.transform(Y_test_string)\n",
        "Y_test = to_categorical(encoded_Y)"
      ],
      "execution_count": 0,
      "outputs": []
    },
    {
      "metadata": {
        "id": "1N_fuu4QvrTP",
        "colab_type": "code",
        "colab": {
          "base_uri": "https://localhost:8080/",
          "height": 51
        },
        "outputId": "75444c59-88d8-4388-80a9-110d8de8eb5d"
      },
      "cell_type": "code",
      "source": [
        "Y_pred = modelAlexNet.predict(X_test)\n",
        "res = 0\n",
        "for i in range(Y_pred.shape[0]):\n",
        "  if np.array_equal(Y_pred[i], Y_test[i]) == True:\n",
        "    res += 1\n",
        "print(res)\n",
        "print(res/Y_pred.shape[0])"
      ],
      "execution_count": 96,
      "outputs": [
        {
          "output_type": "stream",
          "text": [
            "40\n",
            "0.19900497512437812\n"
          ],
          "name": "stdout"
        }
      ]
    },
    {
      "metadata": {
        "id": "KA-D8gP_vt7w",
        "colab_type": "code",
        "colab": {}
      },
      "cell_type": "code",
      "source": [
        ""
      ],
      "execution_count": 0,
      "outputs": []
    }
  ]
}