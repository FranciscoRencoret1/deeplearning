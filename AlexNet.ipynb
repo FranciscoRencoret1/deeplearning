{
  "nbformat": 4,
  "nbformat_minor": 0,
  "metadata": {
    "colab": {
      "name": "AlexNet.ipynb",
      "version": "0.3.2",
      "views": {},
      "default_view": {},
      "provenance": [],
      "collapsed_sections": []
    },
    "kernelspec": {
      "name": "python3",
      "display_name": "Python 3"
    },
    "accelerator": "GPU"
  },
  "cells": [
    {
      "metadata": {
        "id": "WDgSKsiv8_PW",
        "colab_type": "text"
      },
      "cell_type": "markdown",
      "source": [
        "# Tarea 1 Deep Learning\n",
        "\n",
        "Francisco Rencoret (FranciscoRencoret1) - Raimundo Manterola (rmant)"
      ]
    },
    {
      "metadata": {
        "id": "kZHwKqX0e8Kw",
        "colab_type": "text"
      },
      "cell_type": "markdown",
      "source": [
        "Instalamos las dependencias necesarias y vemos cuanta GPU tenemos disponible"
      ]
    },
    {
      "metadata": {
        "id": "oMqfzvHT7fq7",
        "colab_type": "code",
        "colab": {
          "autoexec": {
            "startup": false,
            "wait_interval": 0
          },
          "base_uri": "https://localhost:8080/",
          "height": 173
        },
        "outputId": "29273ec7-eb32-4215-9a83-19a7f9015a09",
        "executionInfo": {
          "status": "ok",
          "timestamp": 1525048269946,
          "user_tz": 180,
          "elapsed": 8226,
          "user": {
            "displayName": "Raimundo Manterola",
            "photoUrl": "//lh6.googleusercontent.com/-8YXattyAAPc/AAAAAAAAAAI/AAAAAAAAAAs/4eQTWPFW4YM/s50-c-k-no/photo.jpg",
            "userId": "108401720196473743384"
          }
        }
      },
      "cell_type": "code",
      "source": [
        "!ln -sf /opt/bin/nvidia-smi /usr/bin/nvidia-smi\n",
        "!pip install gputil\n",
        "!pip install psutil\n",
        "!pip install humanize\n",
        "import psutil\n",
        "import humanize\n",
        "import os\n",
        "import cv2\n",
        "import numpy as np\n",
        "import GPUtil as GPU\n",
        "GPUs = GPU.getGPUs()\n",
        "gpu = GPUs[0] # Only one GPU on Colab and isn’t guaranteed\n",
        "def printm():\n",
        "    process = psutil.Process(os.getpid())\n",
        "    print(\"Gen RAM Free: \" + humanize.naturalsize(psutil.virtual_memory().available),\"IProcsize:\"+ humanize.naturalsize(process.memory_info().rss))\n",
        "    print(\"GPU RAM Free: {0:.0f}MB | Used: {1:.0f}MB | Util {2:3.0f}% |Total{3:.0f}MB\".format(gpu.memoryFree,gpu.memoryUsed, gpu.memoryUtil*100,gpu.memoryTotal))\n",
        "    \n",
        "printm()\n",
        "    "
      ],
      "execution_count": 1,
      "outputs": [
        {
          "output_type": "stream",
          "text": [
            "Looking in indexes: https://pypi.org/simple, https://legacy.pypi.org/simple\r\n",
            "Requirement already satisfied: gputil in /usr/local/lib/python3.6/dist-packages (1.3.0)\r\n",
            "Requirement already satisfied: numpy in /usr/local/lib/python3.6/dist-packages (from gputil) (1.14.2)\n",
            "Looking in indexes: https://pypi.org/simple, https://legacy.pypi.org/simple\n",
            "Requirement already satisfied: psutil in /usr/local/lib/python3.6/dist-packages (5.4.5)\n",
            "Looking in indexes: https://pypi.org/simple, https://legacy.pypi.org/simple\n",
            "Requirement already satisfied: humanize in /usr/local/lib/python3.6/dist-packages (0.5.1)\n",
            "Gen RAM Free: 12.7 GB IProcsize:140.3 MB\n",
            "GPU RAM Free: 11438MB | Used: 1MB | Util   0% |Total11439MB\n"
          ],
          "name": "stdout"
        }
      ]
    },
    {
      "metadata": {
        "id": "8RQzcmjIdfY6",
        "colab_type": "text"
      },
      "cell_type": "markdown",
      "source": [
        "### Saving files from Google Colab"
      ]
    },
    {
      "metadata": {
        "id": "C9TDJI2Hdoc8",
        "colab_type": "code",
        "colab": {
          "autoexec": {
            "startup": false,
            "wait_interval": 0
          }
        }
      },
      "cell_type": "code",
      "source": [
        "!pip install -U -q PyDrive"
      ],
      "execution_count": 0,
      "outputs": []
    },
    {
      "metadata": {
        "id": "0E7K5vGRdygS",
        "colab_type": "code",
        "colab": {
          "autoexec": {
            "startup": false,
            "wait_interval": 0
          }
        }
      },
      "cell_type": "code",
      "source": [
        "import tensorflow as tf\n",
        "import timeit\n",
        "\n",
        "config = tf.ConfigProto()\n",
        "config.gpu_options.allow_growth = True\n",
        "\n",
        "from pydrive.auth import GoogleAuth\n",
        "from pydrive.drive import GoogleDrive\n",
        "from google.colab import auth\n",
        "from oauth2client.client import GoogleCredentials\n",
        "\n",
        "# Authenticate and create the PyDrive client.\n",
        "auth.authenticate_user()\n",
        "gauth = GoogleAuth()\n",
        "gauth.credentials = GoogleCredentials.get_application_default()\n",
        "drive = GoogleDrive(gauth)"
      ],
      "execution_count": 0,
      "outputs": []
    },
    {
      "metadata": {
        "id": "JlKQMlEHd6Wo",
        "colab_type": "text"
      },
      "cell_type": "markdown",
      "source": [
        "### Importando Keras"
      ]
    },
    {
      "metadata": {
        "id": "RwWQW2-dpisq",
        "colab_type": "code",
        "colab": {
          "autoexec": {
            "startup": false,
            "wait_interval": 0
          }
        }
      },
      "cell_type": "code",
      "source": [
        "#Definicion de librerias con la funciones que seran utilizadas por Keras.\n",
        "from keras.layers import Activation, Dense, Flatten, Dropout\n",
        "from keras.models import Sequential, load_model\n",
        "from keras.layers.convolutional import Convolution2D, ZeroPadding2D\n",
        "from keras.layers.normalization import BatchNormalization\n",
        "from keras.layers.pooling import MaxPooling2D\n",
        "from keras.preprocessing.image import ImageDataGenerator, load_img, img_to_array\n",
        "from keras.utils import to_categorical\n",
        "from keras import applications, optimizers\n",
        "from keras.callbacks import History, ModelCheckpoint, EarlyStopping\n",
        "!mkdir checkpoints"
      ],
      "execution_count": 0,
      "outputs": []
    },
    {
      "metadata": {
        "id": "luot5HE8e1py",
        "colab_type": "text"
      },
      "cell_type": "markdown",
      "source": [
        "# Parte 1 "
      ]
    },
    {
      "metadata": {
        "id": "5Sos6T0nevLg",
        "colab_type": "text"
      },
      "cell_type": "markdown",
      "source": [
        "## Descargamos el dataset que se utilizará"
      ]
    },
    {
      "metadata": {
        "id": "gaRMhhinpb6V",
        "colab_type": "code",
        "colab": {
          "autoexec": {
            "startup": false,
            "wait_interval": 0
          },
          "base_uri": "https://localhost:8080/",
          "height": 309
        },
        "outputId": "41442f02-f34b-4608-fc7a-482244318401",
        "executionInfo": {
          "status": "ok",
          "timestamp": 1525437867226,
          "user_tz": 180,
          "elapsed": 13091,
          "user": {
            "displayName": "Francisco Rencoret",
            "photoUrl": "https://lh3.googleusercontent.com/a/default-user=s128",
            "userId": "106375429238400575303"
          }
        }
      },
      "cell_type": "code",
      "source": [
        "!wget https://www.dropbox.com/s/c0d7npcg1yysnux/MIT-10-Classes.zip?dl=0\n",
        "!unzip -q MIT-10-Classes.zip?dl=0"
      ],
      "execution_count": 2,
      "outputs": [
        {
          "output_type": "stream",
          "text": [
            "--2018-05-04 12:43:56--  https://www.dropbox.com/s/c0d7npcg1yysnux/MIT-10-Classes.zip?dl=0\n",
            "Resolving www.dropbox.com (www.dropbox.com)... 162.125.9.1, 2620:100:601f:1::a27d:901\n",
            "Connecting to www.dropbox.com (www.dropbox.com)|162.125.9.1|:443... connected.\n",
            "HTTP request sent, awaiting response... 302 Found\n",
            "Location: https://dl.dropboxusercontent.com/content_link/8IAzk8Iyy2nNFRXeOv33aUy7nZ6ybI34vCWXEr54JO7A2Y3uxgmMtXHBfTrFxpoU/file [following]\n",
            "--2018-05-04 12:43:57--  https://dl.dropboxusercontent.com/content_link/8IAzk8Iyy2nNFRXeOv33aUy7nZ6ybI34vCWXEr54JO7A2Y3uxgmMtXHBfTrFxpoU/file\n",
            "Resolving dl.dropboxusercontent.com (dl.dropboxusercontent.com)... 162.125.66.6, 2620:100:601f:6::a27d:906\n",
            "Connecting to dl.dropboxusercontent.com (dl.dropboxusercontent.com)|162.125.66.6|:443... connected.\n",
            "HTTP request sent, awaiting response... 200 OK\n",
            "Length: 139459806 (133M) [application/zip]\n",
            "Saving to: ‘MIT-10-Classes.zip?dl=0’\n",
            "\n",
            "MIT-10-Classes.zip? 100%[===================>] 133.00M  29.7MB/s    in 6.5s    \n",
            "\n",
            "2018-05-04 12:44:05 (20.4 MB/s) - ‘MIT-10-Classes.zip?dl=0’ saved [139459806/139459806]\n",
            "\n"
          ],
          "name": "stdout"
        }
      ]
    },
    {
      "metadata": {
        "id": "pvN7acJlyURw",
        "colab_type": "text"
      },
      "cell_type": "markdown",
      "source": [
        "## Definiendo Alexnet"
      ]
    },
    {
      "metadata": {
        "id": "EAJfvrMUl0Pm",
        "colab_type": "code",
        "colab": {
          "autoexec": {
            "startup": false,
            "wait_interval": 0
          },
          "base_uri": "https://localhost:8080/",
          "height": 34
        },
        "outputId": "35540688-64bd-426e-d319-3b583e28d98c",
        "executionInfo": {
          "status": "ok",
          "timestamp": 1525437868941,
          "user_tz": 180,
          "elapsed": 1599,
          "user": {
            "displayName": "Francisco Rencoret",
            "photoUrl": "https://lh3.googleusercontent.com/a/default-user=s128",
            "userId": "106375429238400575303"
          }
        }
      },
      "cell_type": "code",
      "source": [
        "#Definicion de contenedor y primera capa de AlexNet.\n",
        "modelAlexNet = Sequential()\n",
        "modelAlexNet.add(ZeroPadding2D((2,2), input_shape=(224, 224, 3)))\n",
        "modelAlexNet.add(Convolution2D(96, (11,11), strides=(4,4), padding=\"valid\"))\n",
        "modelAlexNet.add(Activation(activation=\"relu\"))\n",
        "output_shape_first_layer = modelAlexNet.output_shape\n",
        "print('Los mapas de activación de la capa 1 de convolción tienen tamaño: {}'.format(output_shape_first_layer))\n",
        "modelAlexNet.add(BatchNormalization())\n",
        "modelAlexNet.add(MaxPooling2D((3,3), strides=(2,2)))"
      ],
      "execution_count": 3,
      "outputs": [
        {
          "output_type": "stream",
          "text": [
            "Los mapas de activación de la capa 1 de convolción tienen tamaño: (None, 55, 55, 96)\n"
          ],
          "name": "stdout"
        }
      ]
    },
    {
      "metadata": {
        "id": "JKwyKBFDmMix",
        "colab_type": "code",
        "colab": {
          "autoexec": {
            "startup": false,
            "wait_interval": 0
          },
          "base_uri": "https://localhost:8080/",
          "height": 34
        },
        "outputId": "fbac62bf-8792-448a-f01d-0c8c2e5f041e",
        "executionInfo": {
          "status": "ok",
          "timestamp": 1525437869711,
          "user_tz": 180,
          "elapsed": 563,
          "user": {
            "displayName": "Francisco Rencoret",
            "photoUrl": "https://lh3.googleusercontent.com/a/default-user=s128",
            "userId": "106375429238400575303"
          }
        }
      },
      "cell_type": "code",
      "source": [
        "#Definicion de la segunda capa de AlexNet.\n",
        "modelAlexNet.add(ZeroPadding2D((2,2)))\n",
        "modelAlexNet.add(Convolution2D(256, (5, 5), padding=\"valid\"))\n",
        "modelAlexNet.add(Activation(activation=\"relu\"))\n",
        "output_shape_second_layer = modelAlexNet.output_shape\n",
        "print('Los mapas de activación de la capa 2 de convolción tienen tamaño: {}'.format(output_shape_second_layer))\n",
        "modelAlexNet.add(BatchNormalization())\n",
        "modelAlexNet.add(MaxPooling2D((3,3), strides=(2,2)))"
      ],
      "execution_count": 4,
      "outputs": [
        {
          "output_type": "stream",
          "text": [
            "Los mapas de activación de la capa 2 de convolción tienen tamaño: (None, 27, 27, 256)\n"
          ],
          "name": "stdout"
        }
      ]
    },
    {
      "metadata": {
        "id": "eOCC80OE9IPb",
        "colab_type": "text"
      },
      "cell_type": "markdown",
      "source": [
        "## Actividad 1"
      ]
    },
    {
      "metadata": {
        "id": "LBwKcWM79MKY",
        "colab_type": "text"
      },
      "cell_type": "markdown",
      "source": [
        "Notamos que la primera capa de AlexNet es de tamaño (55, 55, 96). Como podemos ver, nuestra primera capa tiene las mismas dimensiones:"
      ]
    },
    {
      "metadata": {
        "id": "QJu5i4Sm9Nal",
        "colab_type": "code",
        "colab": {
          "autoexec": {
            "startup": false,
            "wait_interval": 0
          },
          "base_uri": "https://localhost:8080/",
          "height": 34
        },
        "outputId": "5dffd6d7-4eaa-4167-c01d-43e4f54d3bc9",
        "executionInfo": {
          "status": "ok",
          "timestamp": 1525437872508,
          "user_tz": 180,
          "elapsed": 630,
          "user": {
            "displayName": "Francisco Rencoret",
            "photoUrl": "https://lh3.googleusercontent.com/a/default-user=s128",
            "userId": "106375429238400575303"
          }
        }
      },
      "cell_type": "code",
      "source": [
        "output_shape_first_layer"
      ],
      "execution_count": 5,
      "outputs": [
        {
          "output_type": "execute_result",
          "data": {
            "text/plain": [
              "(None, 55, 55, 96)"
            ]
          },
          "metadata": {
            "tags": []
          },
          "execution_count": 5
        }
      ]
    },
    {
      "metadata": {
        "id": "TuL7FlC79Ri4",
        "colab_type": "text"
      },
      "cell_type": "markdown",
      "source": [
        "La segunda capa de AlexNet es de tamanño (27, 27, 256). Nuestra segunda capa tiene las mismas dimensiones"
      ]
    },
    {
      "metadata": {
        "id": "QPwXzTNH9S4g",
        "colab_type": "code",
        "colab": {
          "autoexec": {
            "startup": false,
            "wait_interval": 0
          },
          "base_uri": "https://localhost:8080/",
          "height": 34
        },
        "outputId": "d85d35f5-2e39-4944-b7c8-a88038e0de92",
        "executionInfo": {
          "status": "ok",
          "timestamp": 1525437874058,
          "user_tz": 180,
          "elapsed": 737,
          "user": {
            "displayName": "Francisco Rencoret",
            "photoUrl": "https://lh3.googleusercontent.com/a/default-user=s128",
            "userId": "106375429238400575303"
          }
        }
      },
      "cell_type": "code",
      "source": [
        "output_shape_second_layer"
      ],
      "execution_count": 6,
      "outputs": [
        {
          "output_type": "execute_result",
          "data": {
            "text/plain": [
              "(None, 27, 27, 256)"
            ]
          },
          "metadata": {
            "tags": []
          },
          "execution_count": 6
        }
      ]
    },
    {
      "metadata": {
        "id": "fjjIvn9c9YHk",
        "colab_type": "text"
      },
      "cell_type": "markdown",
      "source": [
        "Ahora, vamos a mostrar un resumen de la red creada"
      ]
    },
    {
      "metadata": {
        "id": "p6HtNizz9akr",
        "colab_type": "code",
        "colab": {
          "autoexec": {
            "startup": false,
            "wait_interval": 0
          },
          "base_uri": "https://localhost:8080/",
          "height": 476
        },
        "outputId": "93f8a3bf-0d64-45c6-cd40-02de01a2f80a",
        "executionInfo": {
          "status": "ok",
          "timestamp": 1525437876182,
          "user_tz": 180,
          "elapsed": 873,
          "user": {
            "displayName": "Francisco Rencoret",
            "photoUrl": "https://lh3.googleusercontent.com/a/default-user=s128",
            "userId": "106375429238400575303"
          }
        }
      },
      "cell_type": "code",
      "source": [
        "modelAlexNet.summary()"
      ],
      "execution_count": 7,
      "outputs": [
        {
          "output_type": "stream",
          "text": [
            "_________________________________________________________________\n",
            "Layer (type)                 Output Shape              Param #   \n",
            "=================================================================\n",
            "zero_padding2d_1 (ZeroPaddin (None, 228, 228, 3)       0         \n",
            "_________________________________________________________________\n",
            "conv2d_1 (Conv2D)            (None, 55, 55, 96)        34944     \n",
            "_________________________________________________________________\n",
            "activation_1 (Activation)    (None, 55, 55, 96)        0         \n",
            "_________________________________________________________________\n",
            "batch_normalization_1 (Batch (None, 55, 55, 96)        384       \n",
            "_________________________________________________________________\n",
            "max_pooling2d_1 (MaxPooling2 (None, 27, 27, 96)        0         \n",
            "_________________________________________________________________\n",
            "zero_padding2d_2 (ZeroPaddin (None, 31, 31, 96)        0         \n",
            "_________________________________________________________________\n",
            "conv2d_2 (Conv2D)            (None, 27, 27, 256)       614656    \n",
            "_________________________________________________________________\n",
            "activation_2 (Activation)    (None, 27, 27, 256)       0         \n",
            "_________________________________________________________________\n",
            "batch_normalization_2 (Batch (None, 27, 27, 256)       1024      \n",
            "_________________________________________________________________\n",
            "max_pooling2d_2 (MaxPooling2 (None, 13, 13, 256)       0         \n",
            "=================================================================\n",
            "Total params: 651,008\n",
            "Trainable params: 650,304\n",
            "Non-trainable params: 704\n",
            "_________________________________________________________________\n"
          ],
          "name": "stdout"
        }
      ]
    },
    {
      "metadata": {
        "id": "BTjHG2jg9deT",
        "colab_type": "text"
      },
      "cell_type": "markdown",
      "source": [
        "Podemos notar que en la primera capa, teniamos filtros de tamaño 11 x 11 x 3 + 1 pesos (11 x 11 con profundidad 3 + el bias). Ahora, como la primera capa tiene 96 mapas de activacion, vamos a tener 96 de estos filtros, por lo que en la primera capa se tiene (11 x 11 x 3 + 1) x 96 = 34,944 pesos. Podemos ver que esto coincide con el valor de la segunda fila de la tabla.\n",
        "\n",
        "La segunda capa tiene filtros de 5 x 5 x 96 + 1 (5 x 5 con profundidad 96 + un bias) y tenemos 256 mapas de activacion, por lo que en total la capa tiene (5 x 5 x 96 + 1) x 256 = 614,656. Esto coincide con el valor de la septima fila de la tabla.\n",
        "\n",
        "Por otra parte, podemos notar que el batch normaliation en ambos casos calcula 4 parametros. Como la normalización consiste en:\n",
        "\n",
        "$$\\begin{equation}\n",
        "\\hat{a} =  \\frac{x - \\mu}{\\sigma}\n",
        "\\end{equation}$$\n",
        "\n",
        "y luego\n",
        "\n",
        "$$\\begin{equation}\n",
        "\\hat{x} =  \\varphi \\hat{a} + \\beta\n",
        "\\end{equation}$$\n",
        "\n",
        "la red debe calcular y almacenar $\\mu$ y $\\sigma$ (parametros no entrenables). Por otro lado, debe calcular y entrenar a $\\varphi$ y $\\beta$, por lo que por cada mapa de activacion almacena 4 pesos pero solo entrena 2. En total, primer batch tiene 96 x 4 = 384 pesos (192 entrenables) y el segundo 256 x 4 = 1024 (512 entrenables).\n",
        "\n",
        "En resumen:\n",
        "Pesos: 34,944 + 384 + 614,656 + 1024 = 651,008\n",
        "Pesos entrenables: 34,944 + 192 + 614,656 + 512 = 650,304"
      ]
    },
    {
      "metadata": {
        "id": "2bh_7ib69mCa",
        "colab_type": "text"
      },
      "cell_type": "markdown",
      "source": [
        "## Actividad 2"
      ]
    },
    {
      "metadata": {
        "id": "HwtwFVksmOwa",
        "colab_type": "code",
        "colab": {
          "autoexec": {
            "startup": false,
            "wait_interval": 0
          },
          "base_uri": "https://localhost:8080/",
          "height": 34
        },
        "outputId": "d5c6f930-df40-4aaa-a801-a38f45a15aac",
        "executionInfo": {
          "status": "ok",
          "timestamp": 1525437879631,
          "user_tz": 180,
          "elapsed": 875,
          "user": {
            "displayName": "Francisco Rencoret",
            "photoUrl": "https://lh3.googleusercontent.com/a/default-user=s128",
            "userId": "106375429238400575303"
          }
        }
      },
      "cell_type": "code",
      "source": [
        "#Definicion de la tercera capa de AlexNet\n",
        "modelAlexNet.add(ZeroPadding2D((1,1)))\n",
        "modelAlexNet.add(Convolution2D(384, (3, 3), strides=(1,1), padding=\"valid\"))\n",
        "modelAlexNet.add(Activation(activation=\"relu\"))\n",
        "output_shape_third_layer = modelAlexNet.output_shape\n",
        "print('Los mapas de activación de la capa 3 de convolción tienen tamaño: {}'.format(output_shape_third_layer))"
      ],
      "execution_count": 8,
      "outputs": [
        {
          "output_type": "stream",
          "text": [
            "Los mapas de activación de la capa 3 de convolción tienen tamaño: (None, 13, 13, 384)\n"
          ],
          "name": "stdout"
        }
      ]
    },
    {
      "metadata": {
        "id": "MvDpht6p9qtE",
        "colab_type": "text"
      },
      "cell_type": "markdown",
      "source": [
        "Verificamos que tenga las mismas dimensiones"
      ]
    },
    {
      "metadata": {
        "id": "_xkTrsDe9raD",
        "colab_type": "code",
        "colab": {
          "autoexec": {
            "startup": false,
            "wait_interval": 0
          },
          "base_uri": "https://localhost:8080/",
          "height": 34
        },
        "outputId": "ce5cc900-2382-481b-9a64-b3499ba06952",
        "executionInfo": {
          "status": "ok",
          "timestamp": 1525437881917,
          "user_tz": 180,
          "elapsed": 911,
          "user": {
            "displayName": "Francisco Rencoret",
            "photoUrl": "https://lh3.googleusercontent.com/a/default-user=s128",
            "userId": "106375429238400575303"
          }
        }
      },
      "cell_type": "code",
      "source": [
        "output_shape_third_layer"
      ],
      "execution_count": 9,
      "outputs": [
        {
          "output_type": "execute_result",
          "data": {
            "text/plain": [
              "(None, 13, 13, 384)"
            ]
          },
          "metadata": {
            "tags": []
          },
          "execution_count": 9
        }
      ]
    },
    {
      "metadata": {
        "id": "H57liRte9vPy",
        "colab_type": "text"
      },
      "cell_type": "markdown",
      "source": [
        "Volvemos a revisar el resumen de la red"
      ]
    },
    {
      "metadata": {
        "id": "0a273orG9wzC",
        "colab_type": "code",
        "colab": {
          "autoexec": {
            "startup": false,
            "wait_interval": 0
          },
          "base_uri": "https://localhost:8080/",
          "height": 578
        },
        "outputId": "b4996064-242c-42b7-ec83-b10421d4f368",
        "executionInfo": {
          "status": "ok",
          "timestamp": 1525437884022,
          "user_tz": 180,
          "elapsed": 939,
          "user": {
            "displayName": "Francisco Rencoret",
            "photoUrl": "https://lh3.googleusercontent.com/a/default-user=s128",
            "userId": "106375429238400575303"
          }
        }
      },
      "cell_type": "code",
      "source": [
        "modelAlexNet.summary()"
      ],
      "execution_count": 10,
      "outputs": [
        {
          "output_type": "stream",
          "text": [
            "_________________________________________________________________\n",
            "Layer (type)                 Output Shape              Param #   \n",
            "=================================================================\n",
            "zero_padding2d_1 (ZeroPaddin (None, 228, 228, 3)       0         \n",
            "_________________________________________________________________\n",
            "conv2d_1 (Conv2D)            (None, 55, 55, 96)        34944     \n",
            "_________________________________________________________________\n",
            "activation_1 (Activation)    (None, 55, 55, 96)        0         \n",
            "_________________________________________________________________\n",
            "batch_normalization_1 (Batch (None, 55, 55, 96)        384       \n",
            "_________________________________________________________________\n",
            "max_pooling2d_1 (MaxPooling2 (None, 27, 27, 96)        0         \n",
            "_________________________________________________________________\n",
            "zero_padding2d_2 (ZeroPaddin (None, 31, 31, 96)        0         \n",
            "_________________________________________________________________\n",
            "conv2d_2 (Conv2D)            (None, 27, 27, 256)       614656    \n",
            "_________________________________________________________________\n",
            "activation_2 (Activation)    (None, 27, 27, 256)       0         \n",
            "_________________________________________________________________\n",
            "batch_normalization_2 (Batch (None, 27, 27, 256)       1024      \n",
            "_________________________________________________________________\n",
            "max_pooling2d_2 (MaxPooling2 (None, 13, 13, 256)       0         \n",
            "_________________________________________________________________\n",
            "zero_padding2d_3 (ZeroPaddin (None, 15, 15, 256)       0         \n",
            "_________________________________________________________________\n",
            "conv2d_3 (Conv2D)            (None, 13, 13, 384)       885120    \n",
            "_________________________________________________________________\n",
            "activation_3 (Activation)    (None, 13, 13, 384)       0         \n",
            "=================================================================\n",
            "Total params: 1,536,128\n",
            "Trainable params: 1,535,424\n",
            "Non-trainable params: 704\n",
            "_________________________________________________________________\n"
          ],
          "name": "stdout"
        }
      ]
    },
    {
      "metadata": {
        "id": "1wcqgPVb90xH",
        "colab_type": "text"
      },
      "cell_type": "markdown",
      "source": [
        "## Actividad 3"
      ]
    },
    {
      "metadata": {
        "id": "gw8XwG-FmRY9",
        "colab_type": "code",
        "colab": {
          "autoexec": {
            "startup": false,
            "wait_interval": 0
          },
          "base_uri": "https://localhost:8080/",
          "height": 34
        },
        "outputId": "847eb214-c501-496b-dbfa-ba5756a7f312",
        "executionInfo": {
          "status": "ok",
          "timestamp": 1525437885535,
          "user_tz": 180,
          "elapsed": 924,
          "user": {
            "displayName": "Francisco Rencoret",
            "photoUrl": "https://lh3.googleusercontent.com/a/default-user=s128",
            "userId": "106375429238400575303"
          }
        }
      },
      "cell_type": "code",
      "source": [
        "#Definicion de la cuarta capa de AlexNet\n",
        "modelAlexNet.add(ZeroPadding2D((1,1)))\n",
        "modelAlexNet.add(Convolution2D(384, (3, 3), strides=(1,1), padding=\"valid\"))\n",
        "modelAlexNet.add(Activation(activation=\"relu\"))\n",
        "output_shape_fourth_layer = modelAlexNet.output_shape\n",
        "print('Los mapas de activación de la capa 4 de convolción tienen tamaño: {}'.format(output_shape_fourth_layer))"
      ],
      "execution_count": 11,
      "outputs": [
        {
          "output_type": "stream",
          "text": [
            "Los mapas de activación de la capa 4 de convolción tienen tamaño: (None, 13, 13, 384)\n"
          ],
          "name": "stdout"
        }
      ]
    },
    {
      "metadata": {
        "id": "OBN5fbkKmTx6",
        "colab_type": "code",
        "colab": {
          "autoexec": {
            "startup": false,
            "wait_interval": 0
          },
          "base_uri": "https://localhost:8080/",
          "height": 34
        },
        "outputId": "1f5768d3-7d5b-4113-f952-d3e26d503814",
        "executionInfo": {
          "status": "ok",
          "timestamp": 1525437886629,
          "user_tz": 180,
          "elapsed": 766,
          "user": {
            "displayName": "Francisco Rencoret",
            "photoUrl": "https://lh3.googleusercontent.com/a/default-user=s128",
            "userId": "106375429238400575303"
          }
        }
      },
      "cell_type": "code",
      "source": [
        "#Definicion de la quinta capa de AlexNet\n",
        "modelAlexNet.add(ZeroPadding2D((1,1)))\n",
        "modelAlexNet.add(Convolution2D(256, (3, 3), strides=(1,1), padding=\"valid\"))\n",
        "modelAlexNet.add(Activation(activation=\"relu\"))\n",
        "output_shape_fifth_layer = modelAlexNet.output_shape\n",
        "print('Los mapas de activación de la capa 5 de convolción tienen tamaño: {}'.format(output_shape_fifth_layer))\n",
        "modelAlexNet.add(MaxPooling2D((3,3), strides=(2,2)))"
      ],
      "execution_count": 12,
      "outputs": [
        {
          "output_type": "stream",
          "text": [
            "Los mapas de activación de la capa 5 de convolción tienen tamaño: (None, 13, 13, 256)\n"
          ],
          "name": "stdout"
        }
      ]
    },
    {
      "metadata": {
        "id": "jyujRg6c95Xv",
        "colab_type": "text"
      },
      "cell_type": "markdown",
      "source": [
        "Nuevamente verificamos que las dimensiones son correctas. Al igual que la capa 3, las dimensiones de la capa 4 son (13, 13, 384). La quinta capa tiene dimensiones (13, 13, 256). Viendo las dimensiones de AlexNet, notamos que coinciden. Ahora, revisemos el resumen del modelo para ver la cantidad de parametros:"
      ]
    },
    {
      "metadata": {
        "id": "raRDJNoq96-6",
        "colab_type": "code",
        "colab": {
          "autoexec": {
            "startup": false,
            "wait_interval": 0
          },
          "base_uri": "https://localhost:8080/",
          "height": 816
        },
        "outputId": "d8a84405-3130-4a2c-8150-292007c9b3d4",
        "executionInfo": {
          "status": "ok",
          "timestamp": 1525437887844,
          "user_tz": 180,
          "elapsed": 716,
          "user": {
            "displayName": "Francisco Rencoret",
            "photoUrl": "https://lh3.googleusercontent.com/a/default-user=s128",
            "userId": "106375429238400575303"
          }
        }
      },
      "cell_type": "code",
      "source": [
        "modelAlexNet.summary()"
      ],
      "execution_count": 13,
      "outputs": [
        {
          "output_type": "stream",
          "text": [
            "_________________________________________________________________\n",
            "Layer (type)                 Output Shape              Param #   \n",
            "=================================================================\n",
            "zero_padding2d_1 (ZeroPaddin (None, 228, 228, 3)       0         \n",
            "_________________________________________________________________\n",
            "conv2d_1 (Conv2D)            (None, 55, 55, 96)        34944     \n",
            "_________________________________________________________________\n",
            "activation_1 (Activation)    (None, 55, 55, 96)        0         \n",
            "_________________________________________________________________\n",
            "batch_normalization_1 (Batch (None, 55, 55, 96)        384       \n",
            "_________________________________________________________________\n",
            "max_pooling2d_1 (MaxPooling2 (None, 27, 27, 96)        0         \n",
            "_________________________________________________________________\n",
            "zero_padding2d_2 (ZeroPaddin (None, 31, 31, 96)        0         \n",
            "_________________________________________________________________\n",
            "conv2d_2 (Conv2D)            (None, 27, 27, 256)       614656    \n",
            "_________________________________________________________________\n",
            "activation_2 (Activation)    (None, 27, 27, 256)       0         \n",
            "_________________________________________________________________\n",
            "batch_normalization_2 (Batch (None, 27, 27, 256)       1024      \n",
            "_________________________________________________________________\n",
            "max_pooling2d_2 (MaxPooling2 (None, 13, 13, 256)       0         \n",
            "_________________________________________________________________\n",
            "zero_padding2d_3 (ZeroPaddin (None, 15, 15, 256)       0         \n",
            "_________________________________________________________________\n",
            "conv2d_3 (Conv2D)            (None, 13, 13, 384)       885120    \n",
            "_________________________________________________________________\n",
            "activation_3 (Activation)    (None, 13, 13, 384)       0         \n",
            "_________________________________________________________________\n",
            "zero_padding2d_4 (ZeroPaddin (None, 15, 15, 384)       0         \n",
            "_________________________________________________________________\n",
            "conv2d_4 (Conv2D)            (None, 13, 13, 384)       1327488   \n",
            "_________________________________________________________________\n",
            "activation_4 (Activation)    (None, 13, 13, 384)       0         \n",
            "_________________________________________________________________\n",
            "zero_padding2d_5 (ZeroPaddin (None, 15, 15, 384)       0         \n",
            "_________________________________________________________________\n",
            "conv2d_5 (Conv2D)            (None, 13, 13, 256)       884992    \n",
            "_________________________________________________________________\n",
            "activation_5 (Activation)    (None, 13, 13, 256)       0         \n",
            "_________________________________________________________________\n",
            "max_pooling2d_3 (MaxPooling2 (None, 6, 6, 256)         0         \n",
            "=================================================================\n",
            "Total params: 3,748,608\n",
            "Trainable params: 3,747,904\n",
            "Non-trainable params: 704\n",
            "_________________________________________________________________\n"
          ],
          "name": "stdout"
        }
      ]
    },
    {
      "metadata": {
        "id": "jJ1V6osP9_T6",
        "colab_type": "text"
      },
      "cell_type": "markdown",
      "source": [
        "Podemos notar que la cuarta capa tiene más parámetros que la tercera capa, porque a pesar de tener la misma estrucutra (filtros de igual tamaño pero distinta profundidad, mapas de activación de igual tamaño), vemos que su input es distinto. La tercera recibe un input de (13, 13, 256), mientras que la cuarta recibe un input de (13, 13, 384). Por lo tanto, los filtros van a tener profundidades distintas lo que se traduce en una distinta cantidad de parametros.\n",
        "\n",
        "Por otra parte, notamos que la quinta capa recibe el mismo input que la cuarta, pero como la quinta tiene menos mapas de activación, la cantidad de parametros que debe manejar es menor. \n",
        "\n",
        "Por último, notamos que como no incluimos normalización de los batches, la cantidad de parametros no entrenables no cambia."
      ]
    },
    {
      "metadata": {
        "id": "L-DjtPzK-A3z",
        "colab_type": "text"
      },
      "cell_type": "markdown",
      "source": [
        "## Actividad 4"
      ]
    },
    {
      "metadata": {
        "id": "_E12W6D5-Dim",
        "colab_type": "text"
      },
      "cell_type": "markdown",
      "source": [
        "Actualmente tenemos la matriz como un tensor de 3D. Como ahora tenemos que agregar las capas densas para clasificar, debemos tener la matríz como un vector de una dimensión, para luego poder hacer correctamente las conexiones con la capa densa. Para eso, usamos el comando Flatten, que lo que hace es poner en un solo vector todos los datos del tensor 3D, por lo que tendria dimensiones 6 x 6 x 256 = 9216. Agregamos la capa:"
      ]
    },
    {
      "metadata": {
        "id": "YZ73NGtrpFf7",
        "colab_type": "code",
        "colab": {
          "autoexec": {
            "startup": false,
            "wait_interval": 0
          }
        }
      },
      "cell_type": "code",
      "source": [
        "modelAlexNet.add(Flatten())"
      ],
      "execution_count": 0,
      "outputs": []
    },
    {
      "metadata": {
        "id": "Uq75_-oh-GBi",
        "colab_type": "code",
        "colab": {
          "autoexec": {
            "startup": false,
            "wait_interval": 0
          },
          "base_uri": "https://localhost:8080/",
          "height": 34
        },
        "outputId": "dd9470a9-9818-4ee8-a87b-2ba1efe9273f",
        "executionInfo": {
          "status": "ok",
          "timestamp": 1525437889713,
          "user_tz": 180,
          "elapsed": 655,
          "user": {
            "displayName": "Francisco Rencoret",
            "photoUrl": "https://lh3.googleusercontent.com/a/default-user=s128",
            "userId": "106375429238400575303"
          }
        }
      },
      "cell_type": "code",
      "source": [
        "modelAlexNet.output_shape"
      ],
      "execution_count": 15,
      "outputs": [
        {
          "output_type": "execute_result",
          "data": {
            "text/plain": [
              "(None, 9216)"
            ]
          },
          "metadata": {
            "tags": []
          },
          "execution_count": 15
        }
      ]
    },
    {
      "metadata": {
        "id": "zAVAHeny-H8g",
        "colab_type": "text"
      },
      "cell_type": "markdown",
      "source": [
        "Notamos que esto efectivamente hizo lo que necesitabamos, porque ahora el modelo tiene dimensiones (1, 9216)."
      ]
    },
    {
      "metadata": {
        "id": "PlQSaMab-LFI",
        "colab_type": "text"
      },
      "cell_type": "markdown",
      "source": [
        "## Actividad 5"
      ]
    },
    {
      "metadata": {
        "id": "aJQjJvNjouQU",
        "colab_type": "code",
        "colab": {
          "autoexec": {
            "startup": false,
            "wait_interval": 0
          }
        }
      },
      "cell_type": "code",
      "source": [
        "#Definicion de la capa 6 de AlexNet\n",
        "modelAlexNet.add(Dense(4096, input_shape=(9216,), activation='relu', kernel_initializer='glorot_uniform', use_bias=True))\n",
        "modelAlexNet.add(Dropout(0.5))\n",
        "output_shape_sixth_layer = modelAlexNet.output_shape"
      ],
      "execution_count": 0,
      "outputs": []
    },
    {
      "metadata": {
        "id": "u3xdT2Uh-Ozi",
        "colab_type": "text"
      },
      "cell_type": "markdown",
      "source": [
        "Esta capa deberia tener dimensiones de (1, 4092), por lo que verificamos con modelAlexNet:"
      ]
    },
    {
      "metadata": {
        "id": "_gdZV59Y-QXr",
        "colab_type": "code",
        "colab": {
          "autoexec": {
            "startup": false,
            "wait_interval": 0
          },
          "base_uri": "https://localhost:8080/",
          "height": 34
        },
        "outputId": "8a663b7e-6e1b-4c36-f14a-2bfbe17174db",
        "executionInfo": {
          "status": "ok",
          "timestamp": 1525437891620,
          "user_tz": 180,
          "elapsed": 671,
          "user": {
            "displayName": "Francisco Rencoret",
            "photoUrl": "https://lh3.googleusercontent.com/a/default-user=s128",
            "userId": "106375429238400575303"
          }
        }
      },
      "cell_type": "code",
      "source": [
        "output_shape_sixth_layer"
      ],
      "execution_count": 17,
      "outputs": [
        {
          "output_type": "execute_result",
          "data": {
            "text/plain": [
              "(None, 4096)"
            ]
          },
          "metadata": {
            "tags": []
          },
          "execution_count": 17
        }
      ]
    },
    {
      "metadata": {
        "id": "dD2u2s1T-SZO",
        "colab_type": "text"
      },
      "cell_type": "markdown",
      "source": [
        "Podemos notar que tiene las dimensiones correctas. Ahora, analizemos la cantidad de parametros que lleva la red por el momento:"
      ]
    },
    {
      "metadata": {
        "id": "i-VisYe3-S3d",
        "colab_type": "code",
        "colab": {
          "autoexec": {
            "startup": false,
            "wait_interval": 0
          },
          "base_uri": "https://localhost:8080/",
          "height": 918
        },
        "outputId": "e3517660-e420-4b18-cc42-aa776f372f4f",
        "executionInfo": {
          "status": "ok",
          "timestamp": 1525437892944,
          "user_tz": 180,
          "elapsed": 701,
          "user": {
            "displayName": "Francisco Rencoret",
            "photoUrl": "https://lh3.googleusercontent.com/a/default-user=s128",
            "userId": "106375429238400575303"
          }
        }
      },
      "cell_type": "code",
      "source": [
        "modelAlexNet.summary()"
      ],
      "execution_count": 18,
      "outputs": [
        {
          "output_type": "stream",
          "text": [
            "_________________________________________________________________\n",
            "Layer (type)                 Output Shape              Param #   \n",
            "=================================================================\n",
            "zero_padding2d_1 (ZeroPaddin (None, 228, 228, 3)       0         \n",
            "_________________________________________________________________\n",
            "conv2d_1 (Conv2D)            (None, 55, 55, 96)        34944     \n",
            "_________________________________________________________________\n",
            "activation_1 (Activation)    (None, 55, 55, 96)        0         \n",
            "_________________________________________________________________\n",
            "batch_normalization_1 (Batch (None, 55, 55, 96)        384       \n",
            "_________________________________________________________________\n",
            "max_pooling2d_1 (MaxPooling2 (None, 27, 27, 96)        0         \n",
            "_________________________________________________________________\n",
            "zero_padding2d_2 (ZeroPaddin (None, 31, 31, 96)        0         \n",
            "_________________________________________________________________\n",
            "conv2d_2 (Conv2D)            (None, 27, 27, 256)       614656    \n",
            "_________________________________________________________________\n",
            "activation_2 (Activation)    (None, 27, 27, 256)       0         \n",
            "_________________________________________________________________\n",
            "batch_normalization_2 (Batch (None, 27, 27, 256)       1024      \n",
            "_________________________________________________________________\n",
            "max_pooling2d_2 (MaxPooling2 (None, 13, 13, 256)       0         \n",
            "_________________________________________________________________\n",
            "zero_padding2d_3 (ZeroPaddin (None, 15, 15, 256)       0         \n",
            "_________________________________________________________________\n",
            "conv2d_3 (Conv2D)            (None, 13, 13, 384)       885120    \n",
            "_________________________________________________________________\n",
            "activation_3 (Activation)    (None, 13, 13, 384)       0         \n",
            "_________________________________________________________________\n",
            "zero_padding2d_4 (ZeroPaddin (None, 15, 15, 384)       0         \n",
            "_________________________________________________________________\n",
            "conv2d_4 (Conv2D)            (None, 13, 13, 384)       1327488   \n",
            "_________________________________________________________________\n",
            "activation_4 (Activation)    (None, 13, 13, 384)       0         \n",
            "_________________________________________________________________\n",
            "zero_padding2d_5 (ZeroPaddin (None, 15, 15, 384)       0         \n",
            "_________________________________________________________________\n",
            "conv2d_5 (Conv2D)            (None, 13, 13, 256)       884992    \n",
            "_________________________________________________________________\n",
            "activation_5 (Activation)    (None, 13, 13, 256)       0         \n",
            "_________________________________________________________________\n",
            "max_pooling2d_3 (MaxPooling2 (None, 6, 6, 256)         0         \n",
            "_________________________________________________________________\n",
            "flatten_1 (Flatten)          (None, 9216)              0         \n",
            "_________________________________________________________________\n",
            "dense_1 (Dense)              (None, 4096)              37752832  \n",
            "_________________________________________________________________\n",
            "dropout_1 (Dropout)          (None, 4096)              0         \n",
            "=================================================================\n",
            "Total params: 41,501,440\n",
            "Trainable params: 41,500,736\n",
            "Non-trainable params: 704\n",
            "_________________________________________________________________\n"
          ],
          "name": "stdout"
        }
      ]
    },
    {
      "metadata": {
        "id": "w-_DgkN6-WeI",
        "colab_type": "text"
      },
      "cell_type": "markdown",
      "source": [
        "Esta ultima capa esta compuesta por 4096 neuronas y recibe como input un vector de (1, 9216). Al ser una capa Dense (fully connected), sabemos que todas las entradas se conectan con todas la neuronas de la capa, por lo que la cantidad de parametros de la capa sería 4096 * 9216 = 37,752,832. Este es un numero muy grande, son 37 millones de parametros que provinen solamente de la primera capa del clasificador. \n",
        "\n",
        "Esto nos hace notar lo 'eficientes' en cuanto a memoria y a entrenamiento que son las CNN. Si sumamos las 5 capas de convolucion obtenemos 3,748,608 parametros, mientras que solo esta primera capa de la FC, tiene 37,752,832 parametros (debe entrenar y almacenar aprox 10 veces más).\n",
        "\n",
        "En total tenemos 41,501,440 parametros donde solo 704 no son entrenables. Esta cantidad no ha cambiado porque nuevamente no hemos agregado un batch normalization."
      ]
    },
    {
      "metadata": {
        "id": "odl6I6pL-XrR",
        "colab_type": "text"
      },
      "cell_type": "markdown",
      "source": [
        "## Actividad 6"
      ]
    },
    {
      "metadata": {
        "id": "JVqaf_GMmV4e",
        "colab_type": "code",
        "colab": {
          "autoexec": {
            "startup": false,
            "wait_interval": 0
          }
        }
      },
      "cell_type": "code",
      "source": [
        "#Definición de la capa 7 de AlexNet\n",
        "modelAlexNet.add(Dense(4096, activation='relu', kernel_initializer='glorot_uniform', use_bias=True))\n",
        "modelAlexNet.add(Dropout(0.5))\n",
        "output_shape_seventh_layer = modelAlexNet.output_shape"
      ],
      "execution_count": 0,
      "outputs": []
    },
    {
      "metadata": {
        "id": "eRNPExCHmZhH",
        "colab_type": "code",
        "colab": {
          "autoexec": {
            "startup": false,
            "wait_interval": 0
          }
        }
      },
      "cell_type": "code",
      "source": [
        "#Definición de la capa 8 de AlexNet\n",
        "modelAlexNet.add(Dense(10, activation='softmax', kernel_initializer='glorot_uniform', use_bias=True))\n",
        "output_shape_eighths_layer = modelAlexNet.output_shape"
      ],
      "execution_count": 0,
      "outputs": []
    },
    {
      "metadata": {
        "id": "8u6RVEGc-cj8",
        "colab_type": "code",
        "colab": {
          "autoexec": {
            "startup": false,
            "wait_interval": 0
          },
          "base_uri": "https://localhost:8080/",
          "height": 1020
        },
        "outputId": "03271036-c930-4630-8c93-2c2f73d0c907",
        "executionInfo": {
          "status": "ok",
          "timestamp": 1525437896151,
          "user_tz": 180,
          "elapsed": 568,
          "user": {
            "displayName": "Francisco Rencoret",
            "photoUrl": "https://lh3.googleusercontent.com/a/default-user=s128",
            "userId": "106375429238400575303"
          }
        }
      },
      "cell_type": "code",
      "source": [
        "modelAlexNet.summary()"
      ],
      "execution_count": 21,
      "outputs": [
        {
          "output_type": "stream",
          "text": [
            "_________________________________________________________________\n",
            "Layer (type)                 Output Shape              Param #   \n",
            "=================================================================\n",
            "zero_padding2d_1 (ZeroPaddin (None, 228, 228, 3)       0         \n",
            "_________________________________________________________________\n",
            "conv2d_1 (Conv2D)            (None, 55, 55, 96)        34944     \n",
            "_________________________________________________________________\n",
            "activation_1 (Activation)    (None, 55, 55, 96)        0         \n",
            "_________________________________________________________________\n",
            "batch_normalization_1 (Batch (None, 55, 55, 96)        384       \n",
            "_________________________________________________________________\n",
            "max_pooling2d_1 (MaxPooling2 (None, 27, 27, 96)        0         \n",
            "_________________________________________________________________\n",
            "zero_padding2d_2 (ZeroPaddin (None, 31, 31, 96)        0         \n",
            "_________________________________________________________________\n",
            "conv2d_2 (Conv2D)            (None, 27, 27, 256)       614656    \n",
            "_________________________________________________________________\n",
            "activation_2 (Activation)    (None, 27, 27, 256)       0         \n",
            "_________________________________________________________________\n",
            "batch_normalization_2 (Batch (None, 27, 27, 256)       1024      \n",
            "_________________________________________________________________\n",
            "max_pooling2d_2 (MaxPooling2 (None, 13, 13, 256)       0         \n",
            "_________________________________________________________________\n",
            "zero_padding2d_3 (ZeroPaddin (None, 15, 15, 256)       0         \n",
            "_________________________________________________________________\n",
            "conv2d_3 (Conv2D)            (None, 13, 13, 384)       885120    \n",
            "_________________________________________________________________\n",
            "activation_3 (Activation)    (None, 13, 13, 384)       0         \n",
            "_________________________________________________________________\n",
            "zero_padding2d_4 (ZeroPaddin (None, 15, 15, 384)       0         \n",
            "_________________________________________________________________\n",
            "conv2d_4 (Conv2D)            (None, 13, 13, 384)       1327488   \n",
            "_________________________________________________________________\n",
            "activation_4 (Activation)    (None, 13, 13, 384)       0         \n",
            "_________________________________________________________________\n",
            "zero_padding2d_5 (ZeroPaddin (None, 15, 15, 384)       0         \n",
            "_________________________________________________________________\n",
            "conv2d_5 (Conv2D)            (None, 13, 13, 256)       884992    \n",
            "_________________________________________________________________\n",
            "activation_5 (Activation)    (None, 13, 13, 256)       0         \n",
            "_________________________________________________________________\n",
            "max_pooling2d_3 (MaxPooling2 (None, 6, 6, 256)         0         \n",
            "_________________________________________________________________\n",
            "flatten_1 (Flatten)          (None, 9216)              0         \n",
            "_________________________________________________________________\n",
            "dense_1 (Dense)              (None, 4096)              37752832  \n",
            "_________________________________________________________________\n",
            "dropout_1 (Dropout)          (None, 4096)              0         \n",
            "_________________________________________________________________\n",
            "dense_2 (Dense)              (None, 4096)              16781312  \n",
            "_________________________________________________________________\n",
            "dropout_2 (Dropout)          (None, 4096)              0         \n",
            "_________________________________________________________________\n",
            "dense_3 (Dense)              (None, 10)                40970     \n",
            "=================================================================\n",
            "Total params: 58,323,722\n",
            "Trainable params: 58,323,018\n",
            "Non-trainable params: 704\n",
            "_________________________________________________________________\n"
          ],
          "name": "stdout"
        }
      ]
    },
    {
      "metadata": {
        "id": "Em_CF_Ky-fn-",
        "colab_type": "text"
      },
      "cell_type": "markdown",
      "source": [
        "Cantidad de filtros: 1,376\n",
        "Cantidad total de parametros: 62,379,752\n",
        "Cantidad de parámetros entrenables: 62,379,048\n",
        "Cantidad de parámetros no entrenables: 704\n",
        "\n",
        "Resumiendo las capas:\n",
        "    1. Filtros: 96\n",
        "       Cantidad de neuronas por filtro: 55 x 55 = 3,025\n",
        "       Cantidad total de neuronas de capa: 290,400\n",
        "       Parámetros: 34,944 (filtros) + 384 (batch normalization)\n",
        "       \n",
        "    2. Filtros: 256\n",
        "       Cantidad de neuronas por filtro: 27 x 27 = 729\n",
        "       Cantidad total de neuronas de capa: 186,624\n",
        "       Parámetros: 614,656 (filtros) + 1024 (batch normalization)\n",
        "       \n",
        "    3. Filtros: 384\n",
        "       Cantidad de neuronas por filtro: 13 x 13 = 169\n",
        "       Cantidad total de neuronas de capa: 64,896\n",
        "       Parámetros: 885,120 (filtros)\n",
        "       \n",
        "    4. Filtros: 384\n",
        "       Cantidad de neuronas por filtro: 13 x 13 = 169\n",
        "       Cantidad total de neuronas de capa: 64,896\n",
        "       Parámetros: 1,327,488 (filtros)\n",
        "       \n",
        "    5. Filtros: 256\n",
        "       Cantidad de neuronas por filtro: 13 x 13 = 169\n",
        "       Cantidad total de neuronas de capa: 43,264\n",
        "       Parámetros: 884,992 (filtros)\n",
        "       \n",
        "    6. Cantidad total de neuronas de capa: 4,096\n",
        "       Parámetros: 37,752,832\n",
        "    \n",
        "    7. Cantidad total de neuronas de capa: 4,096 \n",
        "       Parámetros: 16,781,312\n",
        "    \n",
        "    8. Cantidad total de neuronas de capa: 1,000\n",
        "       Parámetros: 4,097,000\n",
        " \n",
        "La capa 3 y 4 llevan 384 filtros, siendo las capas con mayor cantidad de filtros. Por otro lado, la primera capa densa es la que tiene más parámetros, 37,752,832.\n",
        " \n",
        "Como mencioné anteoriormente, notamos que las capas de convolución (1 - 5) no aportan tantos parámetros a la red. Cada las neuronas que componen un filtro comparten los pesos, por lo que se reduce mucho la cantidad de pesos por capa. Esto es principalmente para que todas las neuronas de ese filtro se activen cuando encuentren el mismo patrón, es decir, cuando el producto punto entre el input y los pesos (iguales para todos) sea alto. De esta manera, cada mapa de activación es capas de detectar un patrón sobre su input. Luego, la siguiente capa de convolución va a encontrar patrones sobre estos patrones ya encontrados por cada filtro, construyendo sobre estos y encontrando objetos de mayer abstracción. En total, estas capas proveen 3,748,608 pesos.\n",
        "\n",
        "Luego, agregamos esta otras 3 capas de fully-connected donde se conectan todas las neuronas con todas. Esto implica el entrenamiento y almacenamiento de muchos pesos. Sumando las 3 capas densas obtenemos 58,631,144 pesos. Obviamente, esta suma es muy alta por lo que requiere alto entrenamiento y varios datos para poder obtener resultados relativamente buenos. \n",
        "\n",
        "La arquitectura de las capas de convolución es óptima porque necesita pocos parametros y aún asī es capas de detectar figuras de alto nivel de complejidad; las cuales luego serán clasificadas como: caras, objetos, humanos etc... Las 3 capas densas de clasificación aportan muchos parámetros, por lo que es costoso entrenarla. Creo que una buena práctica sería probar con clasificadores más simples (SVM o KNN) primero. Si se obtienen buenos resultados con esos no es necesario implementar estas 3 capas, pero puede darse el caso de que la cantidad de features sea demasiado alta comparado con la cantidad de datos causando que estos clasificadores no clasifiquen bien. En ese caso necesitaríamos estas capas densas que se comportan bien independiente de la dimensionalidad de los datos.\n"
      ]
    },
    {
      "metadata": {
        "id": "22OVKoj4-gst",
        "colab_type": "text"
      },
      "cell_type": "markdown",
      "source": [
        "## Actividad 7"
      ]
    },
    {
      "metadata": {
        "id": "B7jGSWfH-jbm",
        "colab_type": "text"
      },
      "cell_type": "markdown",
      "source": [
        "Comenzamos cargando la data del directorio provisto"
      ]
    },
    {
      "metadata": {
        "id": "9BAYa6T1-luP",
        "colab_type": "code",
        "colab": {
          "autoexec": {
            "startup": false,
            "wait_interval": 0
          }
        }
      },
      "cell_type": "code",
      "source": [
        "import scipy.io as sio\n",
        "import os\n",
        "from sklearn.metrics import accuracy_score, confusion_matrix"
      ],
      "execution_count": 0,
      "outputs": []
    },
    {
      "metadata": {
        "id": "hg4AxSvF-mdL",
        "colab_type": "code",
        "colab": {
          "autoexec": {
            "startup": false,
            "wait_interval": 0
          }
        }
      },
      "cell_type": "code",
      "source": [
        "def load_mat_set(directory):\n",
        "    #Load the clases\n",
        "    cls = os.listdir(directory)\n",
        "    #Create empty arrays\n",
        "    X = []\n",
        "    Y = []\n",
        "    #Load the set\n",
        "    for cl in cls:\n",
        "        for mat in os.listdir(directory + '/' + cl):\n",
        "            X.append(sio.loadmat(directory + '/' + cl + '/' + mat)['stored'][0])\n",
        "            Y.append(cl)\n",
        "        \n",
        "    return X, Y\n",
        "\n",
        "X_train , Y_train = load_mat_set('./MIT-10-Classes/Feats/TrainSet')\n",
        "X_test, Y_test = load_mat_set('./MIT-10-Classes/Feats/TestSet')"
      ],
      "execution_count": 0,
      "outputs": []
    },
    {
      "metadata": {
        "id": "IdWPqtH93uf-",
        "colab_type": "code",
        "colab": {
          "autoexec": {
            "startup": false,
            "wait_interval": 0
          },
          "base_uri": "https://localhost:8080/",
          "height": 51
        },
        "outputId": "3090b2ce-1065-4558-889e-666208520f8b",
        "executionInfo": {
          "status": "ok",
          "timestamp": 1525437900103,
          "user_tz": 180,
          "elapsed": 1667,
          "user": {
            "displayName": "Francisco Rencoret",
            "photoUrl": "https://lh3.googleusercontent.com/a/default-user=s128",
            "userId": "106375429238400575303"
          }
        }
      },
      "cell_type": "code",
      "source": [
        "ls './MIT-10-Classes/Imgs/TrainSetImgs'"
      ],
      "execution_count": 24,
      "outputs": [
        {
          "output_type": "stream",
          "text": [
            "\u001b[0m\u001b[01;34mbowling\u001b[0m/   \u001b[01;34mconcert_hall\u001b[0m/  \u001b[01;34mgameroom\u001b[0m/    \u001b[01;34mlaundromat\u001b[0m/  \u001b[01;34mstudiomusic\u001b[0m/\r\n",
            "\u001b[01;34mcloister\u001b[0m/  \u001b[01;34mflorist\u001b[0m/       \u001b[01;34mgreenhouse\u001b[0m/  \u001b[01;34mpantry\u001b[0m/      \u001b[01;34mwinecellar\u001b[0m/\r\n"
          ],
          "name": "stdout"
        }
      ]
    },
    {
      "metadata": {
        "id": "0THulDhP-nwF",
        "colab_type": "code",
        "colab": {
          "autoexec": {
            "startup": false,
            "wait_interval": 0
          },
          "base_uri": "https://localhost:8080/",
          "height": 85
        },
        "outputId": "fffbf7e1-4b35-457e-d518-30cce7f0e1b8",
        "executionInfo": {
          "status": "ok",
          "timestamp": 1525437900803,
          "user_tz": 180,
          "elapsed": 628,
          "user": {
            "displayName": "Francisco Rencoret",
            "photoUrl": "https://lh3.googleusercontent.com/a/default-user=s128",
            "userId": "106375429238400575303"
          }
        }
      },
      "cell_type": "code",
      "source": [
        "#Print the dimensions of dataset\n",
        "print('X_train : {}'.format(len((X_train))))\n",
        "print('Y_train : {}'.format(len((Y_train))))\n",
        "print('X_test : {}'.format(len((X_test))))\n",
        "print('Y_test : {}'.format(len((Y_test))))"
      ],
      "execution_count": 25,
      "outputs": [
        {
          "output_type": "stream",
          "text": [
            "X_train : 799\n",
            "Y_train : 799\n",
            "X_test : 201\n",
            "Y_test : 201\n"
          ],
          "name": "stdout"
        }
      ]
    },
    {
      "metadata": {
        "id": "P25k4mDO-qof",
        "colab_type": "text"
      },
      "cell_type": "markdown",
      "source": [
        "Para esta activdad vamos a entrenar un SVM. Para el SVM, vamos a usar la libreria skilearn que provee un SVM ya implementado"
      ]
    },
    {
      "metadata": {
        "id": "24DzABzW-sss",
        "colab_type": "code",
        "colab": {
          "autoexec": {
            "startup": false,
            "wait_interval": 0
          }
        }
      },
      "cell_type": "code",
      "source": [
        "from sklearn import svm"
      ],
      "execution_count": 0,
      "outputs": []
    },
    {
      "metadata": {
        "id": "_ytLLpzo-vTw",
        "colab_type": "code",
        "colab": {
          "autoexec": {
            "startup": false,
            "wait_interval": 0
          }
        }
      },
      "cell_type": "code",
      "source": [
        "#Instance a SVC model from sklearn. LinearSVC is a type of SVM for multiclass clasification.\n",
        "#LinearSVC trains n_classes models using one-vs-rest clasifiers (each model clasifies one class). \n",
        "#For classifying, every classifier is tested and the result with the higher probability is chosen.\n",
        "clf = svm.LinearSVC()"
      ],
      "execution_count": 0,
      "outputs": []
    },
    {
      "metadata": {
        "id": "iVaQEhJt-wqN",
        "colab_type": "code",
        "colab": {
          "autoexec": {
            "startup": false,
            "wait_interval": 0
          },
          "base_uri": "https://localhost:8080/",
          "height": 85
        },
        "outputId": "32723cea-9cfa-40f6-da62-3ab00706bd27",
        "executionInfo": {
          "status": "ok",
          "timestamp": 1525437904895,
          "user_tz": 180,
          "elapsed": 2321,
          "user": {
            "displayName": "Francisco Rencoret",
            "photoUrl": "https://lh3.googleusercontent.com/a/default-user=s128",
            "userId": "106375429238400575303"
          }
        }
      },
      "cell_type": "code",
      "source": [
        "clf.fit(X_train, Y_train)"
      ],
      "execution_count": 28,
      "outputs": [
        {
          "output_type": "execute_result",
          "data": {
            "text/plain": [
              "LinearSVC(C=1.0, class_weight=None, dual=True, fit_intercept=True,\n",
              "     intercept_scaling=1, loss='squared_hinge', max_iter=1000,\n",
              "     multi_class='ovr', penalty='l2', random_state=None, tol=0.0001,\n",
              "     verbose=0)"
            ]
          },
          "metadata": {
            "tags": []
          },
          "execution_count": 28
        }
      ]
    },
    {
      "metadata": {
        "id": "5-xrF36f-y4k",
        "colab_type": "text"
      },
      "cell_type": "markdown",
      "source": [
        "Primero, vamos a probar el modelo sobre el set de entrenamiento"
      ]
    },
    {
      "metadata": {
        "id": "ZyT9qaKp-0aO",
        "colab_type": "code",
        "colab": {
          "autoexec": {
            "startup": false,
            "wait_interval": 0
          },
          "base_uri": "https://localhost:8080/",
          "height": 34
        },
        "outputId": "f2ba75c0-4b0d-4e8e-8028-449ec5304cb0",
        "executionInfo": {
          "status": "ok",
          "timestamp": 1525437905619,
          "user_tz": 180,
          "elapsed": 518,
          "user": {
            "displayName": "Francisco Rencoret",
            "photoUrl": "https://lh3.googleusercontent.com/a/default-user=s128",
            "userId": "106375429238400575303"
          }
        }
      },
      "cell_type": "code",
      "source": [
        "Y_train_pred = clf.predict(X_train)\n",
        "accuracy_score(Y_train, Y_train_pred)"
      ],
      "execution_count": 29,
      "outputs": [
        {
          "output_type": "execute_result",
          "data": {
            "text/plain": [
              "1.0"
            ]
          },
          "metadata": {
            "tags": []
          },
          "execution_count": 29
        }
      ]
    },
    {
      "metadata": {
        "id": "undTNtyw-1v9",
        "colab_type": "text"
      },
      "cell_type": "markdown",
      "source": [
        "El clasificador tiene 100% efectividad sobre el set de entrenamiento. Esto podría indicar que el modelo calló en over-fitting, como mencionamos anteriormente, esto podría ocurrir porque la dimensioón de los datos - 4096 - es mucho mayor que la cantidad de datos - 799 -. Para verificar esto, veamos el rendimiento sobre el set de test"
      ]
    },
    {
      "metadata": {
        "id": "3QWSl-Cq-3E9",
        "colab_type": "code",
        "colab": {
          "autoexec": {
            "startup": false,
            "wait_interval": 0
          }
        }
      },
      "cell_type": "code",
      "source": [
        "Y_pred = clf.predict(X_test)"
      ],
      "execution_count": 0,
      "outputs": []
    },
    {
      "metadata": {
        "id": "OX5mjmH0-4jd",
        "colab_type": "code",
        "colab": {
          "autoexec": {
            "startup": false,
            "wait_interval": 0
          },
          "base_uri": "https://localhost:8080/",
          "height": 34
        },
        "outputId": "4a70d385-d3c6-441f-d2a8-fb314632657c",
        "executionInfo": {
          "status": "ok",
          "timestamp": 1525437907380,
          "user_tz": 180,
          "elapsed": 860,
          "user": {
            "displayName": "Francisco Rencoret",
            "photoUrl": "https://lh3.googleusercontent.com/a/default-user=s128",
            "userId": "106375429238400575303"
          }
        }
      },
      "cell_type": "code",
      "source": [
        "accuracy_score(Y_test, Y_pred)"
      ],
      "execution_count": 31,
      "outputs": [
        {
          "output_type": "execute_result",
          "data": {
            "text/plain": [
              "0.9701492537313433"
            ]
          },
          "metadata": {
            "tags": []
          },
          "execution_count": 31
        }
      ]
    },
    {
      "metadata": {
        "id": "hQYDpce9-6Lb",
        "colab_type": "text"
      },
      "cell_type": "markdown",
      "source": [
        "Podemos notar que tiene una accuracy score de 97%, lo que es bastante bueno. Como se parecen ambos rendimientos, podemos descartar el hecho de que el modelo se over-fittio porque efectivamente pudo clasificar muy bien el set de test. Adicionalmente mostramos la matriz de confusión"
      ]
    },
    {
      "metadata": {
        "id": "9ObNviT6-73Q",
        "colab_type": "code",
        "colab": {
          "autoexec": {
            "startup": false,
            "wait_interval": 0
          },
          "base_uri": "https://localhost:8080/",
          "height": 187
        },
        "outputId": "989b5ce3-f88e-47c0-d303-f50659dbd4c5",
        "executionInfo": {
          "status": "ok",
          "timestamp": 1525437908108,
          "user_tz": 180,
          "elapsed": 523,
          "user": {
            "displayName": "Francisco Rencoret",
            "photoUrl": "https://lh3.googleusercontent.com/a/default-user=s128",
            "userId": "106375429238400575303"
          }
        }
      },
      "cell_type": "code",
      "source": [
        "confusion_matrix(Y_test, Y_pred)"
      ],
      "execution_count": 32,
      "outputs": [
        {
          "output_type": "execute_result",
          "data": {
            "text/plain": [
              "array([[20,  0,  0,  0,  0,  0,  0,  0,  0,  0],\n",
              "       [ 0, 20,  0,  0,  0,  0,  0,  0,  0,  0],\n",
              "       [ 0,  0, 19,  0,  0,  0,  0,  0,  0,  1],\n",
              "       [ 0,  0,  0, 19,  0,  0,  0,  0,  0,  0],\n",
              "       [ 0,  0,  1,  0, 19,  0,  0,  0,  0,  0],\n",
              "       [ 0,  0,  0,  0,  0, 19,  0,  0,  0,  1],\n",
              "       [ 1,  0,  0,  0,  0,  0, 20,  1,  0,  0],\n",
              "       [ 0,  0,  0,  1,  0,  0,  0, 19,  0,  0],\n",
              "       [ 0,  0,  0,  0,  0,  0,  0,  0, 19,  0],\n",
              "       [ 0,  0,  0,  0,  0,  0,  0,  0,  0, 21]])"
            ]
          },
          "metadata": {
            "tags": []
          },
          "execution_count": 32
        }
      ]
    },
    {
      "metadata": {
        "id": "apwln9rp-9qe",
        "colab_type": "text"
      },
      "cell_type": "markdown",
      "source": [
        "## Actividad 8"
      ]
    },
    {
      "metadata": {
        "id": "oFdsRDAz_A_U",
        "colab_type": "text"
      },
      "cell_type": "markdown",
      "source": [
        "Comenzamos compilando el modelo creado. Vamos a usar la función de perdida categorical_crossentropy que nos permite clasificar multiples clases . Vamos a usar el optimizador adam porque hemos visto en otras CNN que funciona muy bien."
      ]
    },
    {
      "metadata": {
        "id": "ON_XvRAZ_E3p",
        "colab_type": "text"
      },
      "cell_type": "markdown",
      "source": [
        "La estructura de AlexNet que haciamos creado anteriormente realmente no nos funciona para este set de datos. Nosotros habiamos creado una capa densa al final que tenia 1000 neuronas, es decir, que clasificaba 1000 categorias. El dataset MIT-10-Classes contiene solo 10 clases, por lo que debemos remover esa ultima capa y volver a agregar una densa de solo 10 neuronas:"
      ]
    },
    {
      "metadata": {
        "id": "EY_0dC4G_Jix",
        "colab_type": "code",
        "colab": {
          "autoexec": {
            "startup": false,
            "wait_interval": 0
          },
          "base_uri": "https://localhost:8080/",
          "height": 1020
        },
        "outputId": "af5d90b4-7c1b-4e69-9ddd-fd37ebee77f2",
        "executionInfo": {
          "status": "ok",
          "timestamp": 1525437908943,
          "user_tz": 180,
          "elapsed": 537,
          "user": {
            "displayName": "Francisco Rencoret",
            "photoUrl": "https://lh3.googleusercontent.com/a/default-user=s128",
            "userId": "106375429238400575303"
          }
        }
      },
      "cell_type": "code",
      "source": [
        "modelAlexNet.layers.pop()\n",
        "modelAlexNet.add(Dense(10, activation='softmax'))\n",
        "modelAlexNet.summary()"
      ],
      "execution_count": 33,
      "outputs": [
        {
          "output_type": "stream",
          "text": [
            "_________________________________________________________________\n",
            "Layer (type)                 Output Shape              Param #   \n",
            "=================================================================\n",
            "zero_padding2d_1 (ZeroPaddin (None, 228, 228, 3)       0         \n",
            "_________________________________________________________________\n",
            "conv2d_1 (Conv2D)            (None, 55, 55, 96)        34944     \n",
            "_________________________________________________________________\n",
            "activation_1 (Activation)    (None, 55, 55, 96)        0         \n",
            "_________________________________________________________________\n",
            "batch_normalization_1 (Batch (None, 55, 55, 96)        384       \n",
            "_________________________________________________________________\n",
            "max_pooling2d_1 (MaxPooling2 (None, 27, 27, 96)        0         \n",
            "_________________________________________________________________\n",
            "zero_padding2d_2 (ZeroPaddin (None, 31, 31, 96)        0         \n",
            "_________________________________________________________________\n",
            "conv2d_2 (Conv2D)            (None, 27, 27, 256)       614656    \n",
            "_________________________________________________________________\n",
            "activation_2 (Activation)    (None, 27, 27, 256)       0         \n",
            "_________________________________________________________________\n",
            "batch_normalization_2 (Batch (None, 27, 27, 256)       1024      \n",
            "_________________________________________________________________\n",
            "max_pooling2d_2 (MaxPooling2 (None, 13, 13, 256)       0         \n",
            "_________________________________________________________________\n",
            "zero_padding2d_3 (ZeroPaddin (None, 15, 15, 256)       0         \n",
            "_________________________________________________________________\n",
            "conv2d_3 (Conv2D)            (None, 13, 13, 384)       885120    \n",
            "_________________________________________________________________\n",
            "activation_3 (Activation)    (None, 13, 13, 384)       0         \n",
            "_________________________________________________________________\n",
            "zero_padding2d_4 (ZeroPaddin (None, 15, 15, 384)       0         \n",
            "_________________________________________________________________\n",
            "conv2d_4 (Conv2D)            (None, 13, 13, 384)       1327488   \n",
            "_________________________________________________________________\n",
            "activation_4 (Activation)    (None, 13, 13, 384)       0         \n",
            "_________________________________________________________________\n",
            "zero_padding2d_5 (ZeroPaddin (None, 15, 15, 384)       0         \n",
            "_________________________________________________________________\n",
            "conv2d_5 (Conv2D)            (None, 13, 13, 256)       884992    \n",
            "_________________________________________________________________\n",
            "activation_5 (Activation)    (None, 13, 13, 256)       0         \n",
            "_________________________________________________________________\n",
            "max_pooling2d_3 (MaxPooling2 (None, 6, 6, 256)         0         \n",
            "_________________________________________________________________\n",
            "flatten_1 (Flatten)          (None, 9216)              0         \n",
            "_________________________________________________________________\n",
            "dense_1 (Dense)              (None, 4096)              37752832  \n",
            "_________________________________________________________________\n",
            "dropout_1 (Dropout)          (None, 4096)              0         \n",
            "_________________________________________________________________\n",
            "dense_2 (Dense)              (None, 4096)              16781312  \n",
            "_________________________________________________________________\n",
            "dropout_2 (Dropout)          (None, 4096)              0         \n",
            "_________________________________________________________________\n",
            "dense_4 (Dense)              (None, 10)                110       \n",
            "=================================================================\n",
            "Total params: 58,282,862\n",
            "Trainable params: 58,282,158\n",
            "Non-trainable params: 704\n",
            "_________________________________________________________________\n"
          ],
          "name": "stdout"
        }
      ]
    },
    {
      "metadata": {
        "id": "e0HIcPsonUHB",
        "colab_type": "code",
        "colab": {
          "autoexec": {
            "startup": false,
            "wait_interval": 0
          }
        }
      },
      "cell_type": "code",
      "source": [
        "modelAlexNet.compile(optimizer=optimizers.Adam(lr=5e-4),\n",
        "              loss='categorical_crossentropy',\n",
        "              metrics=['accuracy'])"
      ],
      "execution_count": 0,
      "outputs": []
    },
    {
      "metadata": {
        "id": "ScE0uMYs5QIE",
        "colab_type": "code",
        "colab": {
          "autoexec": {
            "startup": false,
            "wait_interval": 0
          }
        }
      },
      "cell_type": "code",
      "source": [
        "import numpy as np\n",
        "import cv2\n",
        "import os"
      ],
      "execution_count": 0,
      "outputs": []
    },
    {
      "metadata": {
        "id": "lIBFdV0s5SU2",
        "colab_type": "code",
        "colab": {
          "autoexec": {
            "startup": false,
            "wait_interval": 0
          }
        }
      },
      "cell_type": "code",
      "source": [
        "def load_set(directory):\n",
        "    #Load the clases\n",
        "    cls = os.listdir(directory)\n",
        "    #Create empty arrays\n",
        "    X = []\n",
        "    Y = []\n",
        "    #Load the set\n",
        "    for cl in cls:\n",
        "        for img in os.listdir(directory + '/' + cl):\n",
        "            img_arr = img_to_array(load_img(directory + '/' + cl + '/' + img))\n",
        "            resized = cv2.resize(img_arr, (224, 224))\n",
        "            X.append(resized)\n",
        "            Y.append(cl)\n",
        "    return np.array(X), np.array(Y)"
      ],
      "execution_count": 0,
      "outputs": []
    },
    {
      "metadata": {
        "id": "dbqg_VKlvLkt",
        "colab_type": "code",
        "colab": {
          "autoexec": {
            "startup": false,
            "wait_interval": 0
          }
        }
      },
      "cell_type": "code",
      "source": [
        "X_train, Y_train_string = load_set('./MIT-10-Classes/Imgs/TrainSetImgs')\n",
        "X_test, Y_test_string = load_set('./MIT-10-Classes/Imgs/TestSetImgs')"
      ],
      "execution_count": 0,
      "outputs": []
    },
    {
      "metadata": {
        "id": "IeUSQx5x5ymi",
        "colab_type": "code",
        "colab": {
          "autoexec": {
            "startup": false,
            "wait_interval": 0
          },
          "base_uri": "https://localhost:8080/",
          "height": 85
        },
        "outputId": "453f55aa-15c9-4455-a670-285b67a37629",
        "executionInfo": {
          "status": "ok",
          "timestamp": 1525437968915,
          "user_tz": 180,
          "elapsed": 589,
          "user": {
            "displayName": "Francisco Rencoret",
            "photoUrl": "https://lh3.googleusercontent.com/a/default-user=s128",
            "userId": "106375429238400575303"
          }
        }
      },
      "cell_type": "code",
      "source": [
        "print('X train set has {} elements'.format(X_train.shape[0]))\n",
        "print('Y train set has {} elements'.format(Y_train_string.shape[0]))\n",
        "print('X test set has {} elements'.format(X_test.shape[0]))\n",
        "print('Y test set has {} elements'.format(Y_test_string.shape[0]))"
      ],
      "execution_count": 39,
      "outputs": [
        {
          "output_type": "stream",
          "text": [
            "X train set has 799 elements\n",
            "Y train set has 799 elements\n",
            "X test set has 201 elements\n",
            "Y test set has 201 elements\n"
          ],
          "name": "stdout"
        }
      ]
    },
    {
      "metadata": {
        "id": "76I3hW0BpTnu",
        "colab_type": "code",
        "colab": {
          "autoexec": {
            "startup": false,
            "wait_interval": 0
          }
        }
      },
      "cell_type": "code",
      "source": [
        "from sklearn.preprocessing import LabelEncoder"
      ],
      "execution_count": 0,
      "outputs": []
    },
    {
      "metadata": {
        "id": "JkH5WT8xo-ZQ",
        "colab_type": "code",
        "colab": {
          "autoexec": {
            "startup": false,
            "wait_interval": 0
          }
        }
      },
      "cell_type": "code",
      "source": [
        "def one_hot_encoder(string_set):\n",
        "  # Convert train string classes to vector of dim (1,N). Vector has a 1 on the\n",
        "  # corresponding class and 0 on the rest.\n",
        "  encoder_train = LabelEncoder()\n",
        "  encoder_train.fit(string_set)\n",
        "  encoded_Y = encoder_train.transform(string_set)\n",
        "  Y_train = to_categorical(encoded_Y)\n",
        "  return Y_train"
      ],
      "execution_count": 0,
      "outputs": []
    },
    {
      "metadata": {
        "id": "HukIr4ty7Pk8",
        "colab_type": "code",
        "colab": {
          "autoexec": {
            "startup": false,
            "wait_interval": 0
          }
        }
      },
      "cell_type": "code",
      "source": [
        "Y_train = one_hot_encoder(Y_train_string)\n",
        "Y_test = one_hot_encoder(Y_test_string)"
      ],
      "execution_count": 0,
      "outputs": []
    },
    {
      "metadata": {
        "id": "iBwtxmLa1VUF",
        "colab_type": "code",
        "colab": {
          "autoexec": {
            "startup": false,
            "wait_interval": 0
          }
        }
      },
      "cell_type": "code",
      "source": [
        "checkpoints = ModelCheckpoint(filepath='checkpoints/AlexNet.hdf5', verbose=1, save_best_only=True)\n",
        "history = History()"
      ],
      "execution_count": 0,
      "outputs": []
    },
    {
      "metadata": {
        "id": "1lKto55oM-lL",
        "colab_type": "text"
      },
      "cell_type": "markdown",
      "source": [
        "Creamos estos dos callbacks para que nos ayuden a ver el desarollo del entrenamiento de manera eficiente.\n",
        "\n",
        "Con el ModelCheckpoint vamos almacenando la mejor versión del modelo al final de cada época (sobre escribe si el modelo actual es mejor que el modelo almacenado). \n",
        "\n",
        "Con el History almacenamos el información asociada al rendimiento del modelo, como la evolución de el acuraccy y la val_loss. \n"
      ]
    },
    {
      "metadata": {
        "id": "_1jgAPn42foe",
        "colab_type": "code",
        "colab": {
          "autoexec": {
            "startup": false,
            "wait_interval": 0
          },
          "base_uri": "https://localhost:8080/",
          "height": 3471
        },
        "outputId": "5c907f71-4f3b-4bc3-9575-26edc9784a76",
        "executionInfo": {
          "status": "ok",
          "timestamp": 1525438621163,
          "user_tz": 180,
          "elapsed": 419299,
          "user": {
            "displayName": "Francisco Rencoret",
            "photoUrl": "https://lh3.googleusercontent.com/a/default-user=s128",
            "userId": "106375429238400575303"
          }
        }
      },
      "cell_type": "code",
      "source": [
        "modelAlexNet.fit(X_train, Y_train, \n",
        "          batch_size = 32,\n",
        "          epochs=50,\n",
        "          verbose=1,\n",
        "          callbacks = [checkpoints, history],\n",
        "          validation_data = (X_test, Y_test))"
      ],
      "execution_count": 51,
      "outputs": [
        {
          "output_type": "stream",
          "text": [
            "Train on 799 samples, validate on 201 samples\n",
            "Epoch 1/50\n",
            "799/799 [==============================] - 5s 6ms/step - loss: 2.3329 - acc: 0.1001 - val_loss: 2.3247 - val_acc: 0.0995\n",
            "\n",
            "Epoch 00001: val_loss improved from inf to 2.32471, saving model to checkpoints/AlexNet.hdf5\n",
            "Epoch 2/50\n",
            "799/799 [==============================] - 5s 6ms/step - loss: 2.3307 - acc: 0.1001 - val_loss: 2.3226 - val_acc: 0.0995\n",
            "\n",
            "Epoch 00002: val_loss improved from 2.32471 to 2.32264, saving model to checkpoints/AlexNet.hdf5\n",
            "Epoch 3/50\n",
            "799/799 [==============================] - 5s 6ms/step - loss: 2.3284 - acc: 0.1001 - val_loss: 2.3209 - val_acc: 0.0995\n",
            "\n",
            "Epoch 00003: val_loss improved from 2.32264 to 2.32093, saving model to checkpoints/AlexNet.hdf5\n",
            "Epoch 4/50\n",
            "799/799 [==============================] - 5s 6ms/step - loss: 2.3264 - acc: 0.1001 - val_loss: 2.3192 - val_acc: 0.0995\n",
            "\n",
            "Epoch 00004: val_loss improved from 2.32093 to 2.31924, saving model to checkpoints/AlexNet.hdf5\n",
            "Epoch 5/50\n",
            "799/799 [==============================] - 5s 6ms/step - loss: 2.3245 - acc: 0.1001 - val_loss: 2.3177 - val_acc: 0.0995\n",
            "\n",
            "Epoch 00005: val_loss improved from 2.31924 to 2.31773, saving model to checkpoints/AlexNet.hdf5\n",
            "Epoch 6/50\n",
            "512/799 [==================>...........] - ETA: 1s - loss: 2.3153 - acc: 0.1113"
          ],
          "name": "stdout"
        },
        {
          "output_type": "stream",
          "text": [
            "799/799 [==============================] - 5s 6ms/step - loss: 2.3228 - acc: 0.1001 - val_loss: 2.3164 - val_acc: 0.0995\n",
            "\n",
            "Epoch 00006: val_loss improved from 2.31773 to 2.31636, saving model to checkpoints/AlexNet.hdf5\n",
            "Epoch 7/50\n",
            "799/799 [==============================] - 5s 6ms/step - loss: 2.3215 - acc: 0.1001 - val_loss: 2.3147 - val_acc: 0.0995\n",
            "\n",
            "Epoch 00007: val_loss improved from 2.31636 to 2.31475, saving model to checkpoints/AlexNet.hdf5\n",
            "Epoch 8/50\n",
            "799/799 [==============================] - 5s 6ms/step - loss: 2.3196 - acc: 0.1001 - val_loss: 2.3138 - val_acc: 0.0995\n",
            "\n",
            "Epoch 00008: val_loss improved from 2.31475 to 2.31377, saving model to checkpoints/AlexNet.hdf5\n",
            "Epoch 9/50\n",
            "799/799 [==============================] - 5s 6ms/step - loss: 2.3183 - acc: 0.1001 - val_loss: 2.3126 - val_acc: 0.0995\n",
            "\n",
            "Epoch 00009: val_loss improved from 2.31377 to 2.31265, saving model to checkpoints/AlexNet.hdf5\n",
            "Epoch 10/50\n",
            "799/799 [==============================] - 5s 6ms/step - loss: 2.3170 - acc: 0.1001 - val_loss: 2.3117 - val_acc: 0.0995\n",
            "\n",
            "Epoch 00010: val_loss improved from 2.31265 to 2.31169, saving model to checkpoints/AlexNet.hdf5\n",
            "Epoch 11/50\n",
            "736/799 [==========================>...] - ETA: 0s - loss: 2.3180 - acc: 0.0978"
          ],
          "name": "stdout"
        },
        {
          "output_type": "stream",
          "text": [
            "799/799 [==============================] - 5s 6ms/step - loss: 2.3159 - acc: 0.1001 - val_loss: 2.3107 - val_acc: 0.0995\n",
            "\n",
            "Epoch 00011: val_loss improved from 2.31169 to 2.31069, saving model to checkpoints/AlexNet.hdf5\n",
            "Epoch 12/50\n",
            "799/799 [==============================] - 5s 6ms/step - loss: 2.3148 - acc: 0.1001 - val_loss: 2.3100 - val_acc: 0.0995\n",
            "\n",
            "Epoch 00012: val_loss improved from 2.31069 to 2.30998, saving model to checkpoints/AlexNet.hdf5\n",
            "Epoch 13/50\n",
            "799/799 [==============================] - 5s 6ms/step - loss: 2.3137 - acc: 0.1001 - val_loss: 2.3093 - val_acc: 0.0995\n",
            "\n",
            "Epoch 00013: val_loss improved from 2.30998 to 2.30929, saving model to checkpoints/AlexNet.hdf5\n",
            "Epoch 14/50\n",
            "799/799 [==============================] - 5s 6ms/step - loss: 2.3129 - acc: 0.1001 - val_loss: 2.3085 - val_acc: 0.0995\n",
            "\n",
            "Epoch 00014: val_loss improved from 2.30929 to 2.30852, saving model to checkpoints/AlexNet.hdf5\n",
            "Epoch 15/50\n",
            "799/799 [==============================] - 5s 6ms/step - loss: 2.3120 - acc: 0.1001 - val_loss: 2.3079 - val_acc: 0.0995\n",
            "\n",
            "Epoch 00015: val_loss improved from 2.30852 to 2.30787, saving model to checkpoints/AlexNet.hdf5\n",
            "Epoch 16/50\n",
            "768/799 [===========================>..] - ETA: 0s - loss: 2.3114 - acc: 0.1016"
          ],
          "name": "stdout"
        },
        {
          "output_type": "stream",
          "text": [
            "\b\b\b\b\b\b\b\b\b\b\b\b\b\b\b\b\b\b\b\b\b\b\b\b\b\b\b\b\b\b\b\b\b\b\b\b\b\b\b\b\b\b\b\b\b\b\b\b\b\b\b\b\b\b\b\b\b\b\b\b\b\b\b\b\b\b\b\b\b\b\b\b\b\b\b\b\b\b\b\r799/799 [==============================] - 5s 6ms/step - loss: 2.3112 - acc: 0.1001 - val_loss: 2.3073 - val_acc: 0.0995\n",
            "\n",
            "Epoch 00016: val_loss improved from 2.30787 to 2.30732, saving model to checkpoints/AlexNet.hdf5\n",
            "Epoch 17/50\n",
            "799/799 [==============================] - 5s 6ms/step - loss: 2.3105 - acc: 0.1001 - val_loss: 2.3068 - val_acc: 0.0995\n",
            "\n",
            "Epoch 00017: val_loss improved from 2.30732 to 2.30680, saving model to checkpoints/AlexNet.hdf5\n",
            "Epoch 18/50\n",
            "799/799 [==============================] - 5s 6ms/step - loss: 2.3099 - acc: 0.1001 - val_loss: 2.3063 - val_acc: 0.0995\n",
            "\n",
            "Epoch 00018: val_loss improved from 2.30680 to 2.30633, saving model to checkpoints/AlexNet.hdf5\n",
            "Epoch 19/50\n",
            "799/799 [==============================] - 5s 6ms/step - loss: 2.3092 - acc: 0.1001 - val_loss: 2.3059 - val_acc: 0.0995\n",
            "\n",
            "Epoch 00019: val_loss improved from 2.30633 to 2.30589, saving model to checkpoints/AlexNet.hdf5\n",
            "Epoch 20/50\n",
            "799/799 [==============================] - 5s 6ms/step - loss: 2.3087 - acc: 0.1001 - val_loss: 2.3056 - val_acc: 0.0995\n",
            "\n",
            "Epoch 00020: val_loss improved from 2.30589 to 2.30555, saving model to checkpoints/AlexNet.hdf5\n",
            "Epoch 21/50\n",
            "512/799 [==================>...........] - ETA: 1s - loss: 2.3073 - acc: 0.0977"
          ],
          "name": "stdout"
        },
        {
          "output_type": "stream",
          "text": [
            "799/799 [==============================] - 5s 6ms/step - loss: 2.3082 - acc: 0.1001 - val_loss: 2.3051 - val_acc: 0.0995\n",
            "\n",
            "Epoch 00021: val_loss improved from 2.30555 to 2.30514, saving model to checkpoints/AlexNet.hdf5\n",
            "Epoch 22/50\n",
            "799/799 [==============================] - 5s 6ms/step - loss: 2.3078 - acc: 0.1001 - val_loss: 2.3049 - val_acc: 0.0995\n",
            "\n",
            "Epoch 00022: val_loss improved from 2.30514 to 2.30490, saving model to checkpoints/AlexNet.hdf5\n",
            "Epoch 23/50\n",
            "799/799 [==============================] - 5s 6ms/step - loss: 2.3074 - acc: 0.1001 - val_loss: 2.3046 - val_acc: 0.0995\n",
            "\n",
            "Epoch 00023: val_loss improved from 2.30490 to 2.30455, saving model to checkpoints/AlexNet.hdf5\n",
            "Epoch 24/50\n",
            "799/799 [==============================] - 5s 6ms/step - loss: 2.3068 - acc: 0.1001 - val_loss: 2.3044 - val_acc: 0.0995\n",
            "\n",
            "Epoch 00024: val_loss improved from 2.30455 to 2.30435, saving model to checkpoints/AlexNet.hdf5\n",
            "Epoch 25/50\n",
            "799/799 [==============================] - 5s 6ms/step - loss: 2.3065 - acc: 0.1001 - val_loss: 2.3041 - val_acc: 0.0995\n",
            "\n",
            "Epoch 00025: val_loss improved from 2.30435 to 2.30409, saving model to checkpoints/AlexNet.hdf5\n",
            "Epoch 26/50\n",
            "736/799 [==========================>...] - ETA: 0s - loss: 2.3059 - acc: 0.0965"
          ],
          "name": "stdout"
        },
        {
          "output_type": "stream",
          "text": [
            "799/799 [==============================] - 5s 6ms/step - loss: 2.3062 - acc: 0.1001 - val_loss: 2.3039 - val_acc: 0.0995\n",
            "\n",
            "Epoch 00026: val_loss improved from 2.30409 to 2.30390, saving model to checkpoints/AlexNet.hdf5\n",
            "Epoch 27/50\n",
            "799/799 [==============================] - 5s 6ms/step - loss: 2.3059 - acc: 0.1001 - val_loss: 2.3038 - val_acc: 0.0995\n",
            "\n",
            "Epoch 00027: val_loss improved from 2.30390 to 2.30376, saving model to checkpoints/AlexNet.hdf5\n",
            "Epoch 28/50\n",
            "799/799 [==============================] - 5s 6ms/step - loss: 2.3057 - acc: 0.1001 - val_loss: 2.3035 - val_acc: 0.0995\n",
            "\n",
            "Epoch 00028: val_loss improved from 2.30376 to 2.30351, saving model to checkpoints/AlexNet.hdf5\n",
            "Epoch 29/50\n",
            "799/799 [==============================] - 5s 6ms/step - loss: 2.3054 - acc: 0.1001 - val_loss: 2.3034 - val_acc: 0.0995\n",
            "\n",
            "Epoch 00029: val_loss improved from 2.30351 to 2.30342, saving model to checkpoints/AlexNet.hdf5\n",
            "Epoch 30/50\n",
            "799/799 [==============================] - 5s 6ms/step - loss: 2.3051 - acc: 0.1001 - val_loss: 2.3033 - val_acc: 0.0995\n",
            "\n",
            "Epoch 00030: val_loss improved from 2.30342 to 2.30334, saving model to checkpoints/AlexNet.hdf5\n",
            "Epoch 31/50\n",
            "736/799 [==========================>...] - ETA: 0s - loss: 2.3041 - acc: 0.1046"
          ],
          "name": "stdout"
        },
        {
          "output_type": "stream",
          "text": [
            "799/799 [==============================] - 5s 6ms/step - loss: 2.3049 - acc: 0.1001 - val_loss: 2.3032 - val_acc: 0.0995\n",
            "\n",
            "Epoch 00031: val_loss improved from 2.30334 to 2.30321, saving model to checkpoints/AlexNet.hdf5\n",
            "Epoch 32/50\n",
            "799/799 [==============================] - 5s 6ms/step - loss: 2.3047 - acc: 0.1001 - val_loss: 2.3031 - val_acc: 0.0995\n",
            "\n",
            "Epoch 00032: val_loss improved from 2.30321 to 2.30308, saving model to checkpoints/AlexNet.hdf5\n",
            "Epoch 33/50\n",
            "799/799 [==============================] - 5s 6ms/step - loss: 2.3045 - acc: 0.0851 - val_loss: 2.3030 - val_acc: 0.0995\n",
            "\n",
            "Epoch 00033: val_loss improved from 2.30308 to 2.30301, saving model to checkpoints/AlexNet.hdf5\n",
            "Epoch 34/50\n",
            "799/799 [==============================] - 5s 6ms/step - loss: 2.3044 - acc: 0.0939 - val_loss: 2.3029 - val_acc: 0.0995\n",
            "\n",
            "Epoch 00034: val_loss improved from 2.30301 to 2.30295, saving model to checkpoints/AlexNet.hdf5\n",
            "Epoch 35/50\n",
            "799/799 [==============================] - 5s 6ms/step - loss: 2.3043 - acc: 0.1001 - val_loss: 2.3029 - val_acc: 0.0995\n",
            "\n",
            "Epoch 00035: val_loss improved from 2.30295 to 2.30292, saving model to checkpoints/AlexNet.hdf5\n",
            "Epoch 36/50\n",
            "736/799 [==========================>...] - ETA: 0s - loss: 2.3043 - acc: 0.1033"
          ],
          "name": "stdout"
        },
        {
          "output_type": "stream",
          "text": [
            "799/799 [==============================] - 5s 6ms/step - loss: 2.3041 - acc: 0.1001 - val_loss: 2.3028 - val_acc: 0.0995\n",
            "\n",
            "Epoch 00036: val_loss improved from 2.30292 to 2.30284, saving model to checkpoints/AlexNet.hdf5\n",
            "Epoch 37/50\n",
            "799/799 [==============================] - 5s 6ms/step - loss: 2.3041 - acc: 0.1001 - val_loss: 2.3028 - val_acc: 0.0995\n",
            "\n",
            "Epoch 00037: val_loss improved from 2.30284 to 2.30279, saving model to checkpoints/AlexNet.hdf5\n",
            "Epoch 38/50\n",
            "799/799 [==============================] - 5s 6ms/step - loss: 2.3039 - acc: 0.1001 - val_loss: 2.3027 - val_acc: 0.0995\n",
            "\n",
            "Epoch 00038: val_loss improved from 2.30279 to 2.30271, saving model to checkpoints/AlexNet.hdf5\n",
            "Epoch 39/50\n",
            "799/799 [==============================] - 5s 6ms/step - loss: 2.3037 - acc: 0.0864 - val_loss: 2.3027 - val_acc: 0.0995\n",
            "\n",
            "Epoch 00039: val_loss improved from 2.30271 to 2.30269, saving model to checkpoints/AlexNet.hdf5\n",
            "Epoch 40/50\n",
            "799/799 [==============================] - 5s 6ms/step - loss: 2.3036 - acc: 0.1001 - val_loss: 2.3027 - val_acc: 0.0995\n",
            "\n",
            "Epoch 00040: val_loss improved from 2.30269 to 2.30266, saving model to checkpoints/AlexNet.hdf5\n",
            "Epoch 41/50\n",
            "736/799 [==========================>...] - ETA: 0s - loss: 2.3033 - acc: 0.0870"
          ],
          "name": "stdout"
        },
        {
          "output_type": "stream",
          "text": [
            "799/799 [==============================] - 5s 6ms/step - loss: 2.3035 - acc: 0.0876 - val_loss: 2.3027 - val_acc: 0.0995\n",
            "\n",
            "Epoch 00041: val_loss did not improve from 2.30266\n",
            "Epoch 42/50\n",
            "799/799 [==============================] - 5s 6ms/step - loss: 2.3035 - acc: 0.1001 - val_loss: 2.3026 - val_acc: 0.0995\n",
            "\n",
            "Epoch 00042: val_loss improved from 2.30266 to 2.30263, saving model to checkpoints/AlexNet.hdf5\n",
            "Epoch 43/50\n",
            "799/799 [==============================] - 5s 6ms/step - loss: 2.3034 - acc: 0.1001 - val_loss: 2.3026 - val_acc: 0.0995\n",
            "\n",
            "Epoch 00043: val_loss improved from 2.30263 to 2.30261, saving model to checkpoints/AlexNet.hdf5\n",
            "Epoch 44/50\n",
            "799/799 [==============================] - 5s 6ms/step - loss: 2.3033 - acc: 0.1001 - val_loss: 2.3026 - val_acc: 0.0995\n",
            "\n",
            "Epoch 00044: val_loss did not improve from 2.30261\n",
            "Epoch 45/50\n",
            "799/799 [==============================] - 5s 6ms/step - loss: 2.3033 - acc: 0.1001 - val_loss: 2.3026 - val_acc: 0.0995\n",
            "\n",
            "Epoch 00045: val_loss did not improve from 2.30261\n",
            "Epoch 46/50\n",
            "799/799 [==============================] - 5s 6ms/step - loss: 2.3032 - acc: 0.1001 - val_loss: 2.3026 - val_acc: 0.0995\n",
            "\n",
            "Epoch 00046: val_loss did not improve from 2.30261\n",
            "Epoch 47/50\n",
            "256/799 [========>.....................] - ETA: 2s - loss: 2.3021 - acc: 0.0977"
          ],
          "name": "stdout"
        },
        {
          "output_type": "stream",
          "text": [
            "799/799 [==============================] - 5s 6ms/step - loss: 2.3032 - acc: 0.1001 - val_loss: 2.3026 - val_acc: 0.0995\n",
            "\n",
            "Epoch 00047: val_loss improved from 2.30261 to 2.30259, saving model to checkpoints/AlexNet.hdf5\n",
            "Epoch 48/50\n",
            "799/799 [==============================] - 5s 6ms/step - loss: 2.3031 - acc: 0.1001 - val_loss: 2.3026 - val_acc: 0.0995\n",
            "\n",
            "Epoch 00048: val_loss did not improve from 2.30259\n",
            "Epoch 49/50\n",
            "799/799 [==============================] - 5s 6ms/step - loss: 2.3031 - acc: 0.1001 - val_loss: 2.3026 - val_acc: 0.0995\n",
            "\n",
            "Epoch 00049: val_loss did not improve from 2.30259\n",
            "Epoch 50/50\n",
            "799/799 [==============================] - 5s 6ms/step - loss: 2.3031 - acc: 0.0926 - val_loss: 2.3026 - val_acc: 0.0995\n",
            "\n",
            "Epoch 00050: val_loss did not improve from 2.30259\n"
          ],
          "name": "stdout"
        },
        {
          "output_type": "execute_result",
          "data": {
            "text/plain": [
              "<keras.callbacks.History at 0x7f0139ba1358>"
            ]
          },
          "metadata": {
            "tags": []
          },
          "execution_count": 51
        }
      ]
    },
    {
      "metadata": {
        "id": "Do6gVS7iOy-L",
        "colab_type": "text"
      },
      "cell_type": "markdown",
      "source": [
        "Como no tenemos set de validación, lo que hicimos fue usar el set de test como validación. Entendemos que hacer esto podría crear un bias sobre el set de test porque lo estamos 'usando' para el entrenamiento, pero como no incluimos EarlyStopping u otro callback que tomara decisiones sobre el rendimiento y loss sobre el set de validación, notamos que no afecta en nada solamente nos ayuda a ver el rendimiento del modelo sobre el set de test. Es decir, está ahí con un proposito simplemente analítico y no cumple niuna función para el entrenamiento, manteniendo el set sin bias."
      ]
    },
    {
      "metadata": {
        "id": "pHrykj7ln8D4",
        "colab_type": "code",
        "colab": {
          "autoexec": {
            "startup": false,
            "wait_interval": 0
          },
          "base_uri": "https://localhost:8080/",
          "height": 34
        },
        "outputId": "84bcee9b-320a-43e7-acc1-f56d4c9ee18e",
        "executionInfo": {
          "status": "ok",
          "timestamp": 1524597364622,
          "user_tz": 180,
          "elapsed": 4829,
          "user": {
            "displayName": "Francisco RENCORET DOMINGUEZ",
            "photoUrl": "https://lh3.googleusercontent.com/a/default-user=s128",
            "userId": "105993607523039650316"
          }
        }
      },
      "cell_type": "code",
      "source": [
        "print(\"Saving Model\")\n",
        "modelAlexNet.save('modelAlexNet.h5')"
      ],
      "execution_count": 65,
      "outputs": [
        {
          "output_type": "stream",
          "text": [
            "Saving Model\n"
          ],
          "name": "stdout"
        }
      ]
    },
    {
      "metadata": {
        "id": "4wCVMkKG1-Xe",
        "colab_type": "text"
      },
      "cell_type": "markdown",
      "source": [
        "Evaluamos nuestro modelo"
      ]
    },
    {
      "metadata": {
        "id": "gQskxiRx2A6C",
        "colab_type": "code",
        "colab": {
          "autoexec": {
            "startup": false,
            "wait_interval": 0
          },
          "base_uri": "https://localhost:8080/",
          "height": 51
        },
        "outputId": "0eb302f5-1acb-4fff-f535-e61a1defb4e8",
        "executionInfo": {
          "status": "ok",
          "timestamp": 1525439038469,
          "user_tz": 180,
          "elapsed": 838,
          "user": {
            "displayName": "Francisco Rencoret",
            "photoUrl": "https://lh3.googleusercontent.com/a/default-user=s128",
            "userId": "106375429238400575303"
          }
        }
      },
      "cell_type": "code",
      "source": [
        "metrics = modelAlexNet.evaluate(X_test, Y_test)\n",
        "metrics"
      ],
      "execution_count": 52,
      "outputs": [
        {
          "output_type": "stream",
          "text": [
            "201/201 [==============================] - 0s 2ms/step\n"
          ],
          "name": "stdout"
        },
        {
          "output_type": "execute_result",
          "data": {
            "text/plain": [
              "[2.302625533953235, 0.09950248756218906]"
            ]
          },
          "metadata": {
            "tags": []
          },
          "execution_count": 52
        }
      ]
    },
    {
      "metadata": {
        "id": "ItCpg5inTU-v",
        "colab_type": "code",
        "colab": {
          "autoexec": {
            "startup": false,
            "wait_interval": 0
          },
          "base_uri": "https://localhost:8080/",
          "height": 187
        },
        "outputId": "cf0e676d-0c3d-4fe7-f33c-4ecdbe4c4c3c",
        "executionInfo": {
          "status": "ok",
          "timestamp": 1525440003812,
          "user_tz": 180,
          "elapsed": 807,
          "user": {
            "displayName": "Francisco Rencoret",
            "photoUrl": "https://lh3.googleusercontent.com/a/default-user=s128",
            "userId": "106375429238400575303"
          }
        }
      },
      "cell_type": "code",
      "source": [
        "#Revisamos la estratificación de los datos\n",
        "for cl in os.listdir('MIT-10-Classes/Imgs/TrainSetImgs/'):\n",
        "  print('La clase {} tiene {} datos de train'.format(cl, len(os.listdir('MIT-10-Classes/Imgs/TrainSetImgs/'+cl))))"
      ],
      "execution_count": 68,
      "outputs": [
        {
          "output_type": "stream",
          "text": [
            "La clase bowling tiene 80 datos de train\n",
            "La clase studiomusic tiene 81 datos de train\n",
            "La clase concert_hall tiene 80 datos de train\n",
            "La clase laundromat tiene 78 datos de train\n",
            "La clase winecellar tiene 79 datos de train\n",
            "La clase pantry tiene 80 datos de train\n",
            "La clase gameroom tiene 80 datos de train\n",
            "La clase florist tiene 81 datos de train\n",
            "La clase cloister tiene 80 datos de train\n",
            "La clase greenhouse tiene 80 datos de train\n"
          ],
          "name": "stdout"
        }
      ]
    },
    {
      "metadata": {
        "id": "HC3ulUzzQK3k",
        "colab_type": "text"
      },
      "cell_type": "markdown",
      "source": [
        "Podemos ver que obtuvimos una pérdida de 2.3026 y una acuraccy de 9.95%. A pesar de que lo entrenamos con 50 épocas, el modelo no aprendió nada porque los resultados obtenidos se asimilan a una elección uniforme sobre 10 clases (9.95% $\\approx$ 10%). Es decir, el modelo predice igual a que sí estuviera predijiendo random sobre las clases.\n",
        "\n",
        "Este rendimiento es de esperarse porque AlexNet es una red profunda que con solamente 800 datos simplemente obtiene demasiado bias y no logra aprender nada sobre ellos. De hecho, podemos notar que los datos están estratificados por lo que para cada clase hay solamente 80 datos, lo que es muy poco para que la red pueda aprender sobre ella. ImageNet (set con el que fue entrenado AlexNet) tiene 15 millones de imágenes y definitivamente 800 << 15.000.000\n",
        "\n",
        "Para mejorar este rendimiento definitivamente deberiamos agrandar el set de train o intentar con otro optimizador en caso de que Adam no se este comportando bien. "
      ]
    },
    {
      "metadata": {
        "id": "Xh4V-ZFqQJX_",
        "colab_type": "code",
        "colab": {
          "autoexec": {
            "startup": false,
            "wait_interval": 0
          }
        }
      },
      "cell_type": "code",
      "source": [
        "import matplotlib.pyplot as plt\n",
        "\n",
        "def print_acc_and_loss(history):\n",
        "  # list all data in history\n",
        "  print(history.history.keys())\n",
        "  # summarize history for loss\n",
        "  plt.plot(history.history['loss'])\n",
        "  plt.plot(history.history['val_loss'])\n",
        "  plt.title('model loss')\n",
        "  plt.ylabel('loss')\n",
        "  plt.xlabel('epoch')\n",
        "  plt.legend(['train', 'val'], loc='upper left')\n",
        "  plt.show()\n",
        "  # summarize history for accuracy\n",
        "  plt.plot(history.history['acc'])\n",
        "  plt.plot(history.history['val_acc'])\n",
        "  plt.title('model accuracy')\n",
        "  plt.ylabel('accuracy')\n",
        "  plt.xlabel('epoch')\n",
        "  plt.legend(['train', 'val'], loc='upper left')\n",
        "  plt.show()\n",
        "  "
      ],
      "execution_count": 0,
      "outputs": []
    },
    {
      "metadata": {
        "id": "gy-r5psbWXuz",
        "colab_type": "code",
        "colab": {
          "autoexec": {
            "startup": false,
            "wait_interval": 0
          },
          "base_uri": "https://localhost:8080/",
          "height": 752
        },
        "outputId": "ac88af7c-cb2d-4caa-897e-d33cf045122d",
        "executionInfo": {
          "status": "ok",
          "timestamp": 1525440911816,
          "user_tz": 180,
          "elapsed": 1276,
          "user": {
            "displayName": "Francisco Rencoret",
            "photoUrl": "https://lh3.googleusercontent.com/a/default-user=s128",
            "userId": "106375429238400575303"
          }
        }
      },
      "cell_type": "code",
      "source": [
        "print_acc_and_loss(history)"
      ],
      "execution_count": 75,
      "outputs": [
        {
          "output_type": "stream",
          "text": [
            "dict_keys(['val_loss', 'val_acc', 'loss', 'acc'])\n"
          ],
          "name": "stdout"
        },
        {
          "output_type": "display_data",
          "data": {
            "image/png": "[encoded data removed]",
            "text/plain": [
              "<matplotlib.figure.Figure at 0x7f01399571d0>"
            ]
          },
          "metadata": {
            "tags": []
          }
        },
        {
          "output_type": "display_data",
          "data": {
            "image/png": "[encoded data removed]",
            "text/plain": [
              "<matplotlib.figure.Figure at 0x7f0139acbcc0>"
            ]
          },
          "metadata": {
            "tags": []
          }
        }
      ]
    },
    {
      "metadata": {
        "id": "H82Zj_y3Vxxw",
        "colab_type": "text"
      },
      "cell_type": "markdown",
      "source": [
        "Podemos notar que la pérdida sobre el train y val efectivamente bajó con las épocas, pero si nos fijamos porcentualmente no bajo mucho. Comenzó con una pérdida de 2.3247 y hacía las últimas épocas se estabilizó en 2.305, es decir disminuyó solamente 1%. Esto claramente nos indica que el entrenamiento no fue capaz de mejorar casi nada la pérdida inicial , es decir, no aprendió casi nada.\n",
        "\n",
        "Esto hace sentido mirando la gráfica del accuracy. Para el set de train, la accuracy se mantuvo en uniforme (10%) y en ciertas épocas bajo casi a 8%. La red no fue capaz de aprender nada sobre el set de train, por lo que siguiendo la teoría de las probabilidades, debería tener como máximo 10% de rendimiento. Lo mismo ocurre con el rendimiento sobre el set de val, donde nunca supera el 10%."
      ]
    },
    {
      "metadata": {
        "id": "qu1wTwg6wTou",
        "colab_type": "text"
      },
      "cell_type": "markdown",
      "source": [
        "# Parte 2: Reconocimiento de Visual"
      ]
    },
    {
      "metadata": {
        "id": "IEu9V7cY-K6D",
        "colab_type": "text"
      },
      "cell_type": "markdown",
      "source": [
        "## Actividad 9"
      ]
    },
    {
      "metadata": {
        "id": "u65LZre1EDUx",
        "colab_type": "code",
        "colab": {
          "autoexec": {
            "startup": false,
            "wait_interval": 0
          },
          "base_uri": "https://localhost:8080/",
          "height": 918
        },
        "outputId": "65238cca-1b05-42e6-f65e-b5fcbb046272",
        "executionInfo": {
          "status": "ok",
          "timestamp": 1525441487596,
          "user_tz": 180,
          "elapsed": 568,
          "user": {
            "displayName": "Francisco Rencoret",
            "photoUrl": "https://lh3.googleusercontent.com/a/default-user=s128",
            "userId": "106375429238400575303"
          }
        }
      },
      "cell_type": "code",
      "source": [
        "#Vamos a hacer un summary de ambas para ver las principales diferencias:\n",
        "vgg16 = applications.VGG16(weights = None )\n",
        "vgg16.summary()"
      ],
      "execution_count": 78,
      "outputs": [
        {
          "output_type": "stream",
          "text": [
            "_________________________________________________________________\n",
            "Layer (type)                 Output Shape              Param #   \n",
            "=================================================================\n",
            "input_2 (InputLayer)         (None, 224, 224, 3)       0         \n",
            "_________________________________________________________________\n",
            "block1_conv1 (Conv2D)        (None, 224, 224, 64)      1792      \n",
            "_________________________________________________________________\n",
            "block1_conv2 (Conv2D)        (None, 224, 224, 64)      36928     \n",
            "_________________________________________________________________\n",
            "block1_pool (MaxPooling2D)   (None, 112, 112, 64)      0         \n",
            "_________________________________________________________________\n",
            "block2_conv1 (Conv2D)        (None, 112, 112, 128)     73856     \n",
            "_________________________________________________________________\n",
            "block2_conv2 (Conv2D)        (None, 112, 112, 128)     147584    \n",
            "_________________________________________________________________\n",
            "block2_pool (MaxPooling2D)   (None, 56, 56, 128)       0         \n",
            "_________________________________________________________________\n",
            "block3_conv1 (Conv2D)        (None, 56, 56, 256)       295168    \n",
            "_________________________________________________________________\n",
            "block3_conv2 (Conv2D)        (None, 56, 56, 256)       590080    \n",
            "_________________________________________________________________\n",
            "block3_conv3 (Conv2D)        (None, 56, 56, 256)       590080    \n",
            "_________________________________________________________________\n",
            "block3_pool (MaxPooling2D)   (None, 28, 28, 256)       0         \n",
            "_________________________________________________________________\n",
            "block4_conv1 (Conv2D)        (None, 28, 28, 512)       1180160   \n",
            "_________________________________________________________________\n",
            "block4_conv2 (Conv2D)        (None, 28, 28, 512)       2359808   \n",
            "_________________________________________________________________\n",
            "block4_conv3 (Conv2D)        (None, 28, 28, 512)       2359808   \n",
            "_________________________________________________________________\n",
            "block4_pool (MaxPooling2D)   (None, 14, 14, 512)       0         \n",
            "_________________________________________________________________\n",
            "block5_conv1 (Conv2D)        (None, 14, 14, 512)       2359808   \n",
            "_________________________________________________________________\n",
            "block5_conv2 (Conv2D)        (None, 14, 14, 512)       2359808   \n",
            "_________________________________________________________________\n",
            "block5_conv3 (Conv2D)        (None, 14, 14, 512)       2359808   \n",
            "_________________________________________________________________\n",
            "block5_pool (MaxPooling2D)   (None, 7, 7, 512)         0         \n",
            "_________________________________________________________________\n",
            "flatten (Flatten)            (None, 25088)             0         \n",
            "_________________________________________________________________\n",
            "fc1 (Dense)                  (None, 4096)              102764544 \n",
            "_________________________________________________________________\n",
            "fc2 (Dense)                  (None, 4096)              16781312  \n",
            "_________________________________________________________________\n",
            "predictions (Dense)          (None, 1000)              4097000   \n",
            "=================================================================\n",
            "Total params: 138,357,544\n",
            "Trainable params: 138,357,544\n",
            "Non-trainable params: 0\n",
            "_________________________________________________________________\n"
          ],
          "name": "stdout"
        }
      ]
    },
    {
      "metadata": {
        "id": "bJYPQYLnZgS6",
        "colab_type": "code",
        "colab": {
          "autoexec": {
            "startup": false,
            "wait_interval": 0
          },
          "base_uri": "https://localhost:8080/",
          "height": 6426
        },
        "outputId": "2a9e0d6a-a582-4067-9676-890661a4bc95",
        "executionInfo": {
          "status": "ok",
          "timestamp": 1525441539058,
          "user_tz": 180,
          "elapsed": 6594,
          "user": {
            "displayName": "Francisco Rencoret",
            "photoUrl": "https://lh3.googleusercontent.com/a/default-user=s128",
            "userId": "106375429238400575303"
          }
        }
      },
      "cell_type": "code",
      "source": [
        "resnet50 = applications.resnet50.ResNet50(weights=None)\n",
        "resnet50.summary()"
      ],
      "execution_count": 79,
      "outputs": [
        {
          "output_type": "stream",
          "text": [
            "__________________________________________________________________________________________________\n",
            "Layer (type)                    Output Shape         Param #     Connected to                     \n",
            "==================================================================================================\n",
            "input_3 (InputLayer)            (None, 224, 224, 3)  0                                            \n",
            "__________________________________________________________________________________________________\n",
            "conv1_pad (ZeroPadding2D)       (None, 230, 230, 3)  0           input_3[0][0]                    \n",
            "__________________________________________________________________________________________________\n",
            "conv1 (Conv2D)                  (None, 112, 112, 64) 9472        conv1_pad[0][0]                  \n",
            "__________________________________________________________________________________________________\n",
            "bn_conv1 (BatchNormalization)   (None, 112, 112, 64) 256         conv1[0][0]                      \n",
            "__________________________________________________________________________________________________\n",
            "activation_6 (Activation)       (None, 112, 112, 64) 0           bn_conv1[0][0]                   \n",
            "__________________________________________________________________________________________________\n",
            "max_pooling2d_4 (MaxPooling2D)  (None, 55, 55, 64)   0           activation_6[0][0]               \n",
            "__________________________________________________________________________________________________\n",
            "res2a_branch2a (Conv2D)         (None, 55, 55, 64)   4160        max_pooling2d_4[0][0]            \n",
            "__________________________________________________________________________________________________\n",
            "bn2a_branch2a (BatchNormalizati (None, 55, 55, 64)   256         res2a_branch2a[0][0]             \n",
            "__________________________________________________________________________________________________\n",
            "activation_7 (Activation)       (None, 55, 55, 64)   0           bn2a_branch2a[0][0]              \n",
            "__________________________________________________________________________________________________\n",
            "res2a_branch2b (Conv2D)         (None, 55, 55, 64)   36928       activation_7[0][0]               \n",
            "__________________________________________________________________________________________________\n",
            "bn2a_branch2b (BatchNormalizati (None, 55, 55, 64)   256         res2a_branch2b[0][0]             \n",
            "__________________________________________________________________________________________________\n",
            "activation_8 (Activation)       (None, 55, 55, 64)   0           bn2a_branch2b[0][0]              \n",
            "__________________________________________________________________________________________________\n",
            "res2a_branch2c (Conv2D)         (None, 55, 55, 256)  16640       activation_8[0][0]               \n",
            "__________________________________________________________________________________________________\n",
            "res2a_branch1 (Conv2D)          (None, 55, 55, 256)  16640       max_pooling2d_4[0][0]            \n",
            "__________________________________________________________________________________________________\n",
            "bn2a_branch2c (BatchNormalizati (None, 55, 55, 256)  1024        res2a_branch2c[0][0]             \n",
            "__________________________________________________________________________________________________\n",
            "bn2a_branch1 (BatchNormalizatio (None, 55, 55, 256)  1024        res2a_branch1[0][0]              \n",
            "__________________________________________________________________________________________________\n",
            "add_1 (Add)                     (None, 55, 55, 256)  0           bn2a_branch2c[0][0]              \n",
            "                                                                 bn2a_branch1[0][0]               \n",
            "__________________________________________________________________________________________________\n",
            "activation_9 (Activation)       (None, 55, 55, 256)  0           add_1[0][0]                      \n",
            "__________________________________________________________________________________________________\n",
            "res2b_branch2a (Conv2D)         (None, 55, 55, 64)   16448       activation_9[0][0]               \n",
            "__________________________________________________________________________________________________\n",
            "bn2b_branch2a (BatchNormalizati (None, 55, 55, 64)   256         res2b_branch2a[0][0]             \n",
            "__________________________________________________________________________________________________\n",
            "activation_10 (Activation)      (None, 55, 55, 64)   0           bn2b_branch2a[0][0]              \n",
            "__________________________________________________________________________________________________\n",
            "res2b_branch2b (Conv2D)         (None, 55, 55, 64)   36928       activation_10[0][0]              \n",
            "__________________________________________________________________________________________________\n",
            "bn2b_branch2b (BatchNormalizati (None, 55, 55, 64)   256         res2b_branch2b[0][0]             \n",
            "__________________________________________________________________________________________________\n",
            "activation_11 (Activation)      (None, 55, 55, 64)   0           bn2b_branch2b[0][0]              \n",
            "__________________________________________________________________________________________________\n",
            "res2b_branch2c (Conv2D)         (None, 55, 55, 256)  16640       activation_11[0][0]              \n",
            "__________________________________________________________________________________________________\n",
            "bn2b_branch2c (BatchNormalizati (None, 55, 55, 256)  1024        res2b_branch2c[0][0]             \n",
            "__________________________________________________________________________________________________\n",
            "add_2 (Add)                     (None, 55, 55, 256)  0           bn2b_branch2c[0][0]              \n",
            "                                                                 activation_9[0][0]               \n",
            "__________________________________________________________________________________________________\n",
            "activation_12 (Activation)      (None, 55, 55, 256)  0           add_2[0][0]                      \n",
            "__________________________________________________________________________________________________\n",
            "res2c_branch2a (Conv2D)         (None, 55, 55, 64)   16448       activation_12[0][0]              \n",
            "__________________________________________________________________________________________________\n",
            "bn2c_branch2a (BatchNormalizati (None, 55, 55, 64)   256         res2c_branch2a[0][0]             \n",
            "__________________________________________________________________________________________________\n",
            "activation_13 (Activation)      (None, 55, 55, 64)   0           bn2c_branch2a[0][0]              \n",
            "__________________________________________________________________________________________________\n",
            "res2c_branch2b (Conv2D)         (None, 55, 55, 64)   36928       activation_13[0][0]              \n",
            "__________________________________________________________________________________________________\n",
            "bn2c_branch2b (BatchNormalizati (None, 55, 55, 64)   256         res2c_branch2b[0][0]             \n",
            "__________________________________________________________________________________________________\n",
            "activation_14 (Activation)      (None, 55, 55, 64)   0           bn2c_branch2b[0][0]              \n",
            "__________________________________________________________________________________________________\n",
            "res2c_branch2c (Conv2D)         (None, 55, 55, 256)  16640       activation_14[0][0]              \n",
            "__________________________________________________________________________________________________\n",
            "bn2c_branch2c (BatchNormalizati (None, 55, 55, 256)  1024        res2c_branch2c[0][0]             \n",
            "__________________________________________________________________________________________________\n",
            "add_3 (Add)                     (None, 55, 55, 256)  0           bn2c_branch2c[0][0]              \n",
            "                                                                 activation_12[0][0]              \n",
            "__________________________________________________________________________________________________\n",
            "activation_15 (Activation)      (None, 55, 55, 256)  0           add_3[0][0]                      \n",
            "__________________________________________________________________________________________________\n",
            "res3a_branch2a (Conv2D)         (None, 28, 28, 128)  32896       activation_15[0][0]              \n",
            "__________________________________________________________________________________________________\n",
            "bn3a_branch2a (BatchNormalizati (None, 28, 28, 128)  512         res3a_branch2a[0][0]             \n",
            "__________________________________________________________________________________________________\n",
            "activation_16 (Activation)      (None, 28, 28, 128)  0           bn3a_branch2a[0][0]              \n",
            "__________________________________________________________________________________________________\n",
            "res3a_branch2b (Conv2D)         (None, 28, 28, 128)  147584      activation_16[0][0]              \n",
            "__________________________________________________________________________________________________\n",
            "bn3a_branch2b (BatchNormalizati (None, 28, 28, 128)  512         res3a_branch2b[0][0]             \n",
            "__________________________________________________________________________________________________\n",
            "activation_17 (Activation)      (None, 28, 28, 128)  0           bn3a_branch2b[0][0]              \n",
            "__________________________________________________________________________________________________\n",
            "res3a_branch2c (Conv2D)         (None, 28, 28, 512)  66048       activation_17[0][0]              \n",
            "__________________________________________________________________________________________________\n",
            "res3a_branch1 (Conv2D)          (None, 28, 28, 512)  131584      activation_15[0][0]              \n",
            "__________________________________________________________________________________________________\n",
            "bn3a_branch2c (BatchNormalizati (None, 28, 28, 512)  2048        res3a_branch2c[0][0]             \n",
            "__________________________________________________________________________________________________\n",
            "bn3a_branch1 (BatchNormalizatio (None, 28, 28, 512)  2048        res3a_branch1[0][0]              \n",
            "__________________________________________________________________________________________________\n",
            "add_4 (Add)                     (None, 28, 28, 512)  0           bn3a_branch2c[0][0]              \n",
            "                                                                 bn3a_branch1[0][0]               \n",
            "__________________________________________________________________________________________________\n",
            "activation_18 (Activation)      (None, 28, 28, 512)  0           add_4[0][0]                      \n",
            "__________________________________________________________________________________________________\n",
            "res3b_branch2a (Conv2D)         (None, 28, 28, 128)  65664       activation_18[0][0]              \n",
            "__________________________________________________________________________________________________\n",
            "bn3b_branch2a (BatchNormalizati (None, 28, 28, 128)  512         res3b_branch2a[0][0]             \n",
            "__________________________________________________________________________________________________\n",
            "activation_19 (Activation)      (None, 28, 28, 128)  0           bn3b_branch2a[0][0]              \n",
            "__________________________________________________________________________________________________\n",
            "res3b_branch2b (Conv2D)         (None, 28, 28, 128)  147584      activation_19[0][0]              \n",
            "__________________________________________________________________________________________________\n",
            "bn3b_branch2b (BatchNormalizati (None, 28, 28, 128)  512         res3b_branch2b[0][0]             \n",
            "__________________________________________________________________________________________________\n",
            "activation_20 (Activation)      (None, 28, 28, 128)  0           bn3b_branch2b[0][0]              \n",
            "__________________________________________________________________________________________________\n",
            "res3b_branch2c (Conv2D)         (None, 28, 28, 512)  66048       activation_20[0][0]              \n",
            "__________________________________________________________________________________________________\n",
            "bn3b_branch2c (BatchNormalizati (None, 28, 28, 512)  2048        res3b_branch2c[0][0]             \n",
            "__________________________________________________________________________________________________\n",
            "add_5 (Add)                     (None, 28, 28, 512)  0           bn3b_branch2c[0][0]              \n",
            "                                                                 activation_18[0][0]              \n",
            "__________________________________________________________________________________________________\n",
            "activation_21 (Activation)      (None, 28, 28, 512)  0           add_5[0][0]                      \n",
            "__________________________________________________________________________________________________\n",
            "res3c_branch2a (Conv2D)         (None, 28, 28, 128)  65664       activation_21[0][0]              \n",
            "__________________________________________________________________________________________________\n",
            "bn3c_branch2a (BatchNormalizati (None, 28, 28, 128)  512         res3c_branch2a[0][0]             \n",
            "__________________________________________________________________________________________________\n",
            "activation_22 (Activation)      (None, 28, 28, 128)  0           bn3c_branch2a[0][0]              \n",
            "__________________________________________________________________________________________________\n",
            "res3c_branch2b (Conv2D)         (None, 28, 28, 128)  147584      activation_22[0][0]              \n",
            "__________________________________________________________________________________________________\n",
            "bn3c_branch2b (BatchNormalizati (None, 28, 28, 128)  512         res3c_branch2b[0][0]             \n",
            "__________________________________________________________________________________________________\n",
            "activation_23 (Activation)      (None, 28, 28, 128)  0           bn3c_branch2b[0][0]              \n",
            "__________________________________________________________________________________________________\n",
            "res3c_branch2c (Conv2D)         (None, 28, 28, 512)  66048       activation_23[0][0]              \n",
            "__________________________________________________________________________________________________\n",
            "bn3c_branch2c (BatchNormalizati (None, 28, 28, 512)  2048        res3c_branch2c[0][0]             \n",
            "__________________________________________________________________________________________________\n",
            "add_6 (Add)                     (None, 28, 28, 512)  0           bn3c_branch2c[0][0]              \n",
            "                                                                 activation_21[0][0]              \n",
            "__________________________________________________________________________________________________\n",
            "activation_24 (Activation)      (None, 28, 28, 512)  0           add_6[0][0]                      \n",
            "__________________________________________________________________________________________________\n",
            "res3d_branch2a (Conv2D)         (None, 28, 28, 128)  65664       activation_24[0][0]              \n",
            "__________________________________________________________________________________________________\n",
            "bn3d_branch2a (BatchNormalizati (None, 28, 28, 128)  512         res3d_branch2a[0][0]             \n",
            "__________________________________________________________________________________________________\n",
            "activation_25 (Activation)      (None, 28, 28, 128)  0           bn3d_branch2a[0][0]              \n",
            "__________________________________________________________________________________________________\n",
            "res3d_branch2b (Conv2D)         (None, 28, 28, 128)  147584      activation_25[0][0]              \n",
            "__________________________________________________________________________________________________\n",
            "bn3d_branch2b (BatchNormalizati (None, 28, 28, 128)  512         res3d_branch2b[0][0]             \n",
            "__________________________________________________________________________________________________\n",
            "activation_26 (Activation)      (None, 28, 28, 128)  0           bn3d_branch2b[0][0]              \n",
            "__________________________________________________________________________________________________\n",
            "res3d_branch2c (Conv2D)         (None, 28, 28, 512)  66048       activation_26[0][0]              \n",
            "__________________________________________________________________________________________________\n",
            "bn3d_branch2c (BatchNormalizati (None, 28, 28, 512)  2048        res3d_branch2c[0][0]             \n",
            "__________________________________________________________________________________________________\n",
            "add_7 (Add)                     (None, 28, 28, 512)  0           bn3d_branch2c[0][0]              \n",
            "                                                                 activation_24[0][0]              \n",
            "__________________________________________________________________________________________________\n",
            "activation_27 (Activation)      (None, 28, 28, 512)  0           add_7[0][0]                      \n",
            "__________________________________________________________________________________________________\n",
            "res4a_branch2a (Conv2D)         (None, 14, 14, 256)  131328      activation_27[0][0]              \n",
            "__________________________________________________________________________________________________\n",
            "bn4a_branch2a (BatchNormalizati (None, 14, 14, 256)  1024        res4a_branch2a[0][0]             \n",
            "__________________________________________________________________________________________________\n",
            "activation_28 (Activation)      (None, 14, 14, 256)  0           bn4a_branch2a[0][0]              \n",
            "__________________________________________________________________________________________________\n",
            "res4a_branch2b (Conv2D)         (None, 14, 14, 256)  590080      activation_28[0][0]              \n",
            "__________________________________________________________________________________________________\n",
            "bn4a_branch2b (BatchNormalizati (None, 14, 14, 256)  1024        res4a_branch2b[0][0]             \n",
            "__________________________________________________________________________________________________\n",
            "activation_29 (Activation)      (None, 14, 14, 256)  0           bn4a_branch2b[0][0]              \n",
            "__________________________________________________________________________________________________\n",
            "res4a_branch2c (Conv2D)         (None, 14, 14, 1024) 263168      activation_29[0][0]              \n",
            "__________________________________________________________________________________________________\n",
            "res4a_branch1 (Conv2D)          (None, 14, 14, 1024) 525312      activation_27[0][0]              \n",
            "__________________________________________________________________________________________________\n",
            "bn4a_branch2c (BatchNormalizati (None, 14, 14, 1024) 4096        res4a_branch2c[0][0]             \n",
            "__________________________________________________________________________________________________\n",
            "bn4a_branch1 (BatchNormalizatio (None, 14, 14, 1024) 4096        res4a_branch1[0][0]              \n",
            "__________________________________________________________________________________________________\n",
            "add_8 (Add)                     (None, 14, 14, 1024) 0           bn4a_branch2c[0][0]              \n",
            "                                                                 bn4a_branch1[0][0]               \n",
            "__________________________________________________________________________________________________\n",
            "activation_30 (Activation)      (None, 14, 14, 1024) 0           add_8[0][0]                      \n",
            "__________________________________________________________________________________________________\n",
            "res4b_branch2a (Conv2D)         (None, 14, 14, 256)  262400      activation_30[0][0]              \n",
            "__________________________________________________________________________________________________\n",
            "bn4b_branch2a (BatchNormalizati (None, 14, 14, 256)  1024        res4b_branch2a[0][0]             \n",
            "__________________________________________________________________________________________________\n",
            "activation_31 (Activation)      (None, 14, 14, 256)  0           bn4b_branch2a[0][0]              \n",
            "__________________________________________________________________________________________________\n",
            "res4b_branch2b (Conv2D)         (None, 14, 14, 256)  590080      activation_31[0][0]              \n",
            "__________________________________________________________________________________________________\n",
            "bn4b_branch2b (BatchNormalizati (None, 14, 14, 256)  1024        res4b_branch2b[0][0]             \n",
            "__________________________________________________________________________________________________\n",
            "activation_32 (Activation)      (None, 14, 14, 256)  0           bn4b_branch2b[0][0]              \n",
            "__________________________________________________________________________________________________\n",
            "res4b_branch2c (Conv2D)         (None, 14, 14, 1024) 263168      activation_32[0][0]              \n",
            "__________________________________________________________________________________________________\n",
            "bn4b_branch2c (BatchNormalizati (None, 14, 14, 1024) 4096        res4b_branch2c[0][0]             \n",
            "__________________________________________________________________________________________________\n",
            "add_9 (Add)                     (None, 14, 14, 1024) 0           bn4b_branch2c[0][0]              \n",
            "                                                                 activation_30[0][0]              \n",
            "__________________________________________________________________________________________________\n",
            "activation_33 (Activation)      (None, 14, 14, 1024) 0           add_9[0][0]                      \n",
            "__________________________________________________________________________________________________\n",
            "res4c_branch2a (Conv2D)         (None, 14, 14, 256)  262400      activation_33[0][0]              \n",
            "__________________________________________________________________________________________________\n",
            "bn4c_branch2a (BatchNormalizati (None, 14, 14, 256)  1024        res4c_branch2a[0][0]             \n",
            "__________________________________________________________________________________________________\n",
            "activation_34 (Activation)      (None, 14, 14, 256)  0           bn4c_branch2a[0][0]              \n",
            "__________________________________________________________________________________________________\n",
            "res4c_branch2b (Conv2D)         (None, 14, 14, 256)  590080      activation_34[0][0]              \n",
            "__________________________________________________________________________________________________\n",
            "bn4c_branch2b (BatchNormalizati (None, 14, 14, 256)  1024        res4c_branch2b[0][0]             \n",
            "__________________________________________________________________________________________________\n",
            "activation_35 (Activation)      (None, 14, 14, 256)  0           bn4c_branch2b[0][0]              \n",
            "__________________________________________________________________________________________________\n",
            "res4c_branch2c (Conv2D)         (None, 14, 14, 1024) 263168      activation_35[0][0]              \n",
            "__________________________________________________________________________________________________\n",
            "bn4c_branch2c (BatchNormalizati (None, 14, 14, 1024) 4096        res4c_branch2c[0][0]             \n",
            "__________________________________________________________________________________________________\n",
            "add_10 (Add)                    (None, 14, 14, 1024) 0           bn4c_branch2c[0][0]              \n",
            "                                                                 activation_33[0][0]              \n",
            "__________________________________________________________________________________________________\n",
            "activation_36 (Activation)      (None, 14, 14, 1024) 0           add_10[0][0]                     \n",
            "__________________________________________________________________________________________________\n",
            "res4d_branch2a (Conv2D)         (None, 14, 14, 256)  262400      activation_36[0][0]              \n",
            "__________________________________________________________________________________________________\n",
            "bn4d_branch2a (BatchNormalizati (None, 14, 14, 256)  1024        res4d_branch2a[0][0]             \n",
            "__________________________________________________________________________________________________\n",
            "activation_37 (Activation)      (None, 14, 14, 256)  0           bn4d_branch2a[0][0]              \n",
            "__________________________________________________________________________________________________\n",
            "res4d_branch2b (Conv2D)         (None, 14, 14, 256)  590080      activation_37[0][0]              \n",
            "__________________________________________________________________________________________________\n",
            "bn4d_branch2b (BatchNormalizati (None, 14, 14, 256)  1024        res4d_branch2b[0][0]             \n",
            "__________________________________________________________________________________________________\n",
            "activation_38 (Activation)      (None, 14, 14, 256)  0           bn4d_branch2b[0][0]              \n",
            "__________________________________________________________________________________________________\n",
            "res4d_branch2c (Conv2D)         (None, 14, 14, 1024) 263168      activation_38[0][0]              \n",
            "__________________________________________________________________________________________________\n",
            "bn4d_branch2c (BatchNormalizati (None, 14, 14, 1024) 4096        res4d_branch2c[0][0]             \n",
            "__________________________________________________________________________________________________\n",
            "add_11 (Add)                    (None, 14, 14, 1024) 0           bn4d_branch2c[0][0]              \n",
            "                                                                 activation_36[0][0]              \n",
            "__________________________________________________________________________________________________\n",
            "activation_39 (Activation)      (None, 14, 14, 1024) 0           add_11[0][0]                     \n",
            "__________________________________________________________________________________________________\n",
            "res4e_branch2a (Conv2D)         (None, 14, 14, 256)  262400      activation_39[0][0]              \n",
            "__________________________________________________________________________________________________\n",
            "bn4e_branch2a (BatchNormalizati (None, 14, 14, 256)  1024        res4e_branch2a[0][0]             \n",
            "__________________________________________________________________________________________________\n",
            "activation_40 (Activation)      (None, 14, 14, 256)  0           bn4e_branch2a[0][0]              \n",
            "__________________________________________________________________________________________________\n",
            "res4e_branch2b (Conv2D)         (None, 14, 14, 256)  590080      activation_40[0][0]              \n",
            "__________________________________________________________________________________________________\n",
            "bn4e_branch2b (BatchNormalizati (None, 14, 14, 256)  1024        res4e_branch2b[0][0]             \n",
            "__________________________________________________________________________________________________\n",
            "activation_41 (Activation)      (None, 14, 14, 256)  0           bn4e_branch2b[0][0]              \n",
            "__________________________________________________________________________________________________\n",
            "res4e_branch2c (Conv2D)         (None, 14, 14, 1024) 263168      activation_41[0][0]              \n",
            "__________________________________________________________________________________________________\n",
            "bn4e_branch2c (BatchNormalizati (None, 14, 14, 1024) 4096        res4e_branch2c[0][0]             \n",
            "__________________________________________________________________________________________________\n",
            "add_12 (Add)                    (None, 14, 14, 1024) 0           bn4e_branch2c[0][0]              \n",
            "                                                                 activation_39[0][0]              \n",
            "__________________________________________________________________________________________________\n",
            "activation_42 (Activation)      (None, 14, 14, 1024) 0           add_12[0][0]                     \n",
            "__________________________________________________________________________________________________\n",
            "res4f_branch2a (Conv2D)         (None, 14, 14, 256)  262400      activation_42[0][0]              \n",
            "__________________________________________________________________________________________________\n",
            "bn4f_branch2a (BatchNormalizati (None, 14, 14, 256)  1024        res4f_branch2a[0][0]             \n",
            "__________________________________________________________________________________________________\n",
            "activation_43 (Activation)      (None, 14, 14, 256)  0           bn4f_branch2a[0][0]              \n",
            "__________________________________________________________________________________________________\n",
            "res4f_branch2b (Conv2D)         (None, 14, 14, 256)  590080      activation_43[0][0]              \n",
            "__________________________________________________________________________________________________\n",
            "bn4f_branch2b (BatchNormalizati (None, 14, 14, 256)  1024        res4f_branch2b[0][0]             \n",
            "__________________________________________________________________________________________________\n",
            "activation_44 (Activation)      (None, 14, 14, 256)  0           bn4f_branch2b[0][0]              \n",
            "__________________________________________________________________________________________________\n",
            "res4f_branch2c (Conv2D)         (None, 14, 14, 1024) 263168      activation_44[0][0]              \n",
            "__________________________________________________________________________________________________\n",
            "bn4f_branch2c (BatchNormalizati (None, 14, 14, 1024) 4096        res4f_branch2c[0][0]             \n",
            "__________________________________________________________________________________________________\n",
            "add_13 (Add)                    (None, 14, 14, 1024) 0           bn4f_branch2c[0][0]              \n",
            "                                                                 activation_42[0][0]              \n",
            "__________________________________________________________________________________________________\n",
            "activation_45 (Activation)      (None, 14, 14, 1024) 0           add_13[0][0]                     \n",
            "__________________________________________________________________________________________________\n",
            "res5a_branch2a (Conv2D)         (None, 7, 7, 512)    524800      activation_45[0][0]              \n",
            "__________________________________________________________________________________________________\n",
            "bn5a_branch2a (BatchNormalizati (None, 7, 7, 512)    2048        res5a_branch2a[0][0]             \n",
            "__________________________________________________________________________________________________\n",
            "activation_46 (Activation)      (None, 7, 7, 512)    0           bn5a_branch2a[0][0]              \n",
            "__________________________________________________________________________________________________\n",
            "res5a_branch2b (Conv2D)         (None, 7, 7, 512)    2359808     activation_46[0][0]              \n",
            "__________________________________________________________________________________________________\n",
            "bn5a_branch2b (BatchNormalizati (None, 7, 7, 512)    2048        res5a_branch2b[0][0]             \n",
            "__________________________________________________________________________________________________\n",
            "activation_47 (Activation)      (None, 7, 7, 512)    0           bn5a_branch2b[0][0]              \n",
            "__________________________________________________________________________________________________\n",
            "res5a_branch2c (Conv2D)         (None, 7, 7, 2048)   1050624     activation_47[0][0]              \n",
            "__________________________________________________________________________________________________\n",
            "res5a_branch1 (Conv2D)          (None, 7, 7, 2048)   2099200     activation_45[0][0]              \n",
            "__________________________________________________________________________________________________\n",
            "bn5a_branch2c (BatchNormalizati (None, 7, 7, 2048)   8192        res5a_branch2c[0][0]             \n",
            "__________________________________________________________________________________________________\n",
            "bn5a_branch1 (BatchNormalizatio (None, 7, 7, 2048)   8192        res5a_branch1[0][0]              \n",
            "__________________________________________________________________________________________________\n",
            "add_14 (Add)                    (None, 7, 7, 2048)   0           bn5a_branch2c[0][0]              \n",
            "                                                                 bn5a_branch1[0][0]               \n",
            "__________________________________________________________________________________________________\n",
            "activation_48 (Activation)      (None, 7, 7, 2048)   0           add_14[0][0]                     \n",
            "__________________________________________________________________________________________________\n",
            "res5b_branch2a (Conv2D)         (None, 7, 7, 512)    1049088     activation_48[0][0]              \n",
            "__________________________________________________________________________________________________\n",
            "bn5b_branch2a (BatchNormalizati (None, 7, 7, 512)    2048        res5b_branch2a[0][0]             \n",
            "__________________________________________________________________________________________________\n",
            "activation_49 (Activation)      (None, 7, 7, 512)    0           bn5b_branch2a[0][0]              \n",
            "__________________________________________________________________________________________________\n",
            "res5b_branch2b (Conv2D)         (None, 7, 7, 512)    2359808     activation_49[0][0]              \n",
            "__________________________________________________________________________________________________\n",
            "bn5b_branch2b (BatchNormalizati (None, 7, 7, 512)    2048        res5b_branch2b[0][0]             \n",
            "__________________________________________________________________________________________________\n",
            "activation_50 (Activation)      (None, 7, 7, 512)    0           bn5b_branch2b[0][0]              \n",
            "__________________________________________________________________________________________________\n",
            "res5b_branch2c (Conv2D)         (None, 7, 7, 2048)   1050624     activation_50[0][0]              \n",
            "__________________________________________________________________________________________________\n",
            "bn5b_branch2c (BatchNormalizati (None, 7, 7, 2048)   8192        res5b_branch2c[0][0]             \n",
            "__________________________________________________________________________________________________\n",
            "add_15 (Add)                    (None, 7, 7, 2048)   0           bn5b_branch2c[0][0]              \n",
            "                                                                 activation_48[0][0]              \n",
            "__________________________________________________________________________________________________\n",
            "activation_51 (Activation)      (None, 7, 7, 2048)   0           add_15[0][0]                     \n",
            "__________________________________________________________________________________________________\n",
            "res5c_branch2a (Conv2D)         (None, 7, 7, 512)    1049088     activation_51[0][0]              \n",
            "__________________________________________________________________________________________________\n",
            "bn5c_branch2a (BatchNormalizati (None, 7, 7, 512)    2048        res5c_branch2a[0][0]             \n",
            "__________________________________________________________________________________________________\n",
            "activation_52 (Activation)      (None, 7, 7, 512)    0           bn5c_branch2a[0][0]              \n",
            "__________________________________________________________________________________________________\n",
            "res5c_branch2b (Conv2D)         (None, 7, 7, 512)    2359808     activation_52[0][0]              \n",
            "__________________________________________________________________________________________________\n",
            "bn5c_branch2b (BatchNormalizati (None, 7, 7, 512)    2048        res5c_branch2b[0][0]             \n",
            "__________________________________________________________________________________________________\n",
            "activation_53 (Activation)      (None, 7, 7, 512)    0           bn5c_branch2b[0][0]              \n",
            "__________________________________________________________________________________________________\n",
            "res5c_branch2c (Conv2D)         (None, 7, 7, 2048)   1050624     activation_53[0][0]              \n",
            "__________________________________________________________________________________________________\n",
            "bn5c_branch2c (BatchNormalizati (None, 7, 7, 2048)   8192        res5c_branch2c[0][0]             \n",
            "__________________________________________________________________________________________________\n",
            "add_16 (Add)                    (None, 7, 7, 2048)   0           bn5c_branch2c[0][0]              \n",
            "                                                                 activation_51[0][0]              \n",
            "__________________________________________________________________________________________________\n",
            "activation_54 (Activation)      (None, 7, 7, 2048)   0           add_16[0][0]                     \n",
            "__________________________________________________________________________________________________\n",
            "avg_pool (AveragePooling2D)     (None, 1, 1, 2048)   0           activation_54[0][0]              \n",
            "__________________________________________________________________________________________________\n",
            "flatten_2 (Flatten)             (None, 2048)         0           avg_pool[0][0]                   \n",
            "__________________________________________________________________________________________________\n",
            "fc1000 (Dense)                  (None, 1000)         2049000     flatten_2[0][0]                  \n",
            "==================================================================================================\n",
            "Total params: 25,636,712\n",
            "Trainable params: 25,583,592\n",
            "Non-trainable params: 53,120\n",
            "__________________________________________________________________________________________________\n"
          ],
          "name": "stdout"
        }
      ]
    },
    {
      "metadata": {
        "id": "McEjlS2FaDqk",
        "colab_type": "text"
      },
      "cell_type": "markdown",
      "source": [
        "Cuadro comparativo de VGG16 y ResNet50: \n",
        "\n",
        "<table>\n",
        "  <tr>\n",
        "    <td></td>\n",
        "    <td>Total Parámetros</td>\n",
        "    <td>Parámetros no entrenables</td>\n",
        "    <td>Capas convolucionales</td>\n",
        "    <td>Capas densas</td>\n",
        "    <td>Top-1 Imagenet</td>\n",
        "    <td>Top-5 Imagenet</td>\n",
        "  </tr>\n",
        "  <tr>\n",
        "    <td>VGG16</td>\n",
        "    <td>138,357,544</td>\n",
        "    <td>0</td>\n",
        "    <td>13</td>\n",
        "    <td>3</td>\n",
        "    <td>27.00</td>\n",
        "    <td>8.80</td>\n",
        "  </tr>\n",
        "  <tr>\n",
        "    <td>ResNet50</td>\n",
        "    <td>25,636,712</td>\n",
        "    <td>53,120</td>\n",
        "    <td>53</td>\n",
        "    <td>1</td>\n",
        "    <td>24.01</td>\n",
        "    <td>7.02</td>\n",
        "  </tr>\n",
        "</table>"
      ]
    },
    {
      "metadata": {
        "id": "Xbjv9He9hN7W",
        "colab_type": "text"
      },
      "cell_type": "markdown",
      "source": [
        "###Parámetros:\n",
        "\n",
        "La VGG16 tiene 5 veces más la cantidad de parámetros que tiene ResNet50. Análizando las estrucutas, notamos que la VGG16 es mucho menos profunda que ResNet50, por lo que esa gran cantidad de parámetros viene dado por las últimas 3 capas densas. Esto definitivamente es un problema de VGG16 poruqe entrenar 138 millones de parámetros es muy costoso computacionalmente, pero si cambiaramos el clasificador por uno que requiera menos pesos ahorraríamos éste problema. Por otra parte, podemos ver que todos los pesos de VGG16 son entrenables mientras que ResNet50 tiene 53.120 pesos que no se entrenan. Esto viene de Batch Normalization que usa ResNet50, mientras que VGG16 no lo hace.\n",
        "\n",
        "###Capas Convolucionales:\n",
        "\n",
        "Notamos que VGG16 tiene solamente 13 capas de convolución mientras que ResNet50 tiene 53. Aquí hay una notoría diferencia de profundidad. Como VGG16 solamente tiene 13 capas de convolución, no tienen que usar tantas prácticas para reducir el overfitting (solo usa MaxPooling), mientras que ResNet50 usa 53 capas por lo que si debe aplicar estas. Podemos ver que ResNet50 aplica MaxPooling y mucho BatchNormalization para reducir el overfitting. \n",
        "\n",
        "###Capas Densas:\n",
        "\n",
        "VGG16 tiene 3 capas densas mientras que ResNet50 tiene solamente 1. Como mencionamos anteriormente, son esas 3 capas densas que le aportan más de 120 millones de parámetros. Todos podrían pensar que un clasificador de profundidad 3 podría clasificar mejor que uno de profundidad 1, pero creemos que es importante considerar el input al clasificador para poder afirmar esto. VGG16 entrega un tensor de un 'nivel de abstracción 13', mientras que ResNet50 entrega un tensor de un 'nivel de abstracción 53', entonces puede que una profundidad 1 sea igual de efectiva que una profundidad de 3 para ese input. \n",
        "\n",
        "###Rendimiento sobre Imagenet:\n",
        "\n",
        "El error Top-1 es revisa si la clase correcta es igual a la clase predicha por el modelo, mientras que el error Top-5 revisa si la clase correcta está dentro de las mejores 5 predicciones del modelo.\n",
        "\n",
        "Podemos ver que ResNet50 supera a VGG16 en ambos errores. Para el Top-1 lo supera por 3% mientras que para el Top-5 lo supera en 1.7%. A pesar de que pueda que no parezca mucho, estas diferencias son grandes y los modelos del estado del arte se diferencian y superan por cantidades de esta magnitud."
      ]
    },
    {
      "metadata": {
        "id": "l9hRMBuxw1vQ",
        "colab_type": "text"
      },
      "cell_type": "markdown",
      "source": [
        "## Actividad 10"
      ]
    },
    {
      "metadata": {
        "id": "RXWo28_j0dXY",
        "colab_type": "code",
        "colab": {
          "autoexec": {
            "startup": false,
            "wait_interval": 0
          },
          "base_uri": "https://localhost:8080/",
          "height": 105
        },
        "outputId": "669cd473-fcec-4580-f204-2f7f7fe2e46a",
        "executionInfo": {
          "status": "ok",
          "timestamp": 1525271222664,
          "user_tz": 180,
          "elapsed": 3200,
          "user": {
            "displayName": "Francisco RENCORET DOMINGUEZ",
            "photoUrl": "https://lh3.googleusercontent.com/a/default-user=s128",
            "userId": "105993607523039650316"
          }
        }
      },
      "cell_type": "code",
      "source": [
        "!ps ax | grep python\n",
        "!mkdir checkpoints\n"
      ],
      "execution_count": 1,
      "outputs": [
        {
          "output_type": "stream",
          "text": [
            "   92 ?        Sl     0:00 /usr/bin/python2 /usr/local/bin/jupyter-notebook -y --no-browser --log-level=DEBUG --debug --NotebookApp.allow_origin=\"*\" --NotebookApp.log_format=\"%(message)s\" --NotebookApp.token= --Session.key=\"\" --Session.keyfile=\"\" --ContentsManager.untitled_directory=\"Untitled Folder\" --ContentsManager.untitled_file=\"Untitled File\" --ContentsManager.untitled_notebook=\"Untitled Notebook\" --NotebookNotary.algorithm=\"sha1\" --KernelManager.autorestart=True --MultiKernelManager.default_kernel_name=\"python2\" --ip=\"127.0.0.1\" --port=9000 --port-retries=0 --notebook-dir=\"/content\" --NotebookNotary.algorithm=sha256 --NotebookNotary.secret_file=/content/datalab/.config/notary_secret --NotebookApp.base_url=/tun/m/gpu-90afe372-7141-4adc-a6c9-0829da8b96ea/\r\n",
            "  113 ?        Ssl    0:03 /usr/bin/python3 -m ipykernel_launcher -f /content/.local/share/jupyter/runtime/kernel-5b4c0cc0-8fbb-44e1-bd3e-4c5fcb19381e.json\r\n",
            "  133 pts/0    Ss+    0:00 /bin/sh -c ps ax | grep python\r\n",
            "  135 pts/0    S+     0:00 grep python\r\n"
          ],
          "name": "stdout"
        }
      ]
    },
    {
      "metadata": {
        "id": "bmlteqyL0lTO",
        "colab_type": "code",
        "colab": {
          "autoexec": {
            "startup": false,
            "wait_interval": 0
          },
          "base_uri": "https://localhost:8080/",
          "height": 34
        },
        "outputId": "8995cb60-8eeb-4c3b-a2ac-88e41f2d3b1c",
        "executionInfo": {
          "status": "ok",
          "timestamp": 1525219229371,
          "user_tz": 180,
          "elapsed": 1712,
          "user": {
            "displayName": "Francisco RENCORET DOMINGUEZ",
            "photoUrl": "https://lh3.googleusercontent.com/a/default-user=s128",
            "userId": "105993607523039650316"
          }
        }
      },
      "cell_type": "code",
      "source": [
        "!kill -89 236"
      ],
      "execution_count": 4,
      "outputs": [
        {
          "output_type": "stream",
          "text": [
            "/bin/sh: 1: kill: Illegal option -8\r\n"
          ],
          "name": "stdout"
        }
      ]
    },
    {
      "metadata": {
        "id": "muMmqX-2tdDf",
        "colab_type": "code",
        "colab": {
          "autoexec": {
            "startup": false,
            "wait_interval": 0
          },
          "base_uri": "https://localhost:8080/",
          "height": 34
        },
        "outputId": "00b967d5-f6af-4903-9c89-3a12fab58575",
        "executionInfo": {
          "status": "ok",
          "timestamp": 1525219231330,
          "user_tz": 180,
          "elapsed": 635,
          "user": {
            "displayName": "Francisco RENCORET DOMINGUEZ",
            "photoUrl": "https://lh3.googleusercontent.com/a/default-user=s128",
            "userId": "105993607523039650316"
          }
        }
      },
      "cell_type": "code",
      "source": [
        "\"\"#No cache bien como usar estos comandos, asique los tengo comentados por mientras\n",
        "# !if [ ! -d ]; then wget ; fi\n",
        "# !if [ ! -d ]; then unzip -q ; fi"
      ],
      "execution_count": 5,
      "outputs": [
        {
          "output_type": "execute_result",
          "data": {
            "text/plain": [
              "''"
            ]
          },
          "metadata": {
            "tags": []
          },
          "execution_count": 5
        }
      ]
    },
    {
      "metadata": {
        "id": "iaJ83OgvwhZh",
        "colab_type": "code",
        "colab": {
          "autoexec": {
            "startup": false,
            "wait_interval": 0
          },
          "base_uri": "https://localhost:8080/",
          "height": 309
        },
        "outputId": "8cc70c7b-7c6e-446b-849d-c391308119e3",
        "executionInfo": {
          "status": "ok",
          "timestamp": 1525271300758,
          "user_tz": 180,
          "elapsed": 77974,
          "user": {
            "displayName": "Francisco RENCORET DOMINGUEZ",
            "photoUrl": "https://lh3.googleusercontent.com/a/default-user=s128",
            "userId": "105993607523039650316"
          }
        }
      },
      "cell_type": "code",
      "source": [
        "#Settings set\n",
        "!wget https://www.dropbox.com/s/bc8b71zay6s9rb4/Places25.zip?dl=0\n",
        "!unzip -q Places25.zip?dl=0\n",
        "\n",
        "#Faces set\n",
        "# !wget https://www.dropbox.com/s/nnl2rnrsz960jyj/Places25.zip?dl=0\n",
        "# !unzip -q Places25.zip?dl=0"
      ],
      "execution_count": 2,
      "outputs": [
        {
          "output_type": "stream",
          "text": [
            "--2018-05-02 14:26:48--  https://www.dropbox.com/s/bc8b71zay6s9rb4/Places25.zip?dl=0\n",
            "Resolving www.dropbox.com (www.dropbox.com)... 162.125.9.1, 2620:100:601f:1::a27d:901\n",
            "Connecting to www.dropbox.com (www.dropbox.com)|162.125.9.1|:443... connected.\n",
            "HTTP request sent, awaiting response... 302 Found\n",
            "Location: https://dl.dropboxusercontent.com/content_link/rWDqN1ajb3qebTVLObmJTsHf89g4EpOI8O7gQEYVu7RovYdAOcdlCujjlaMU9x1w/file [following]\n",
            "--2018-05-02 14:26:48--  https://dl.dropboxusercontent.com/content_link/rWDqN1ajb3qebTVLObmJTsHf89g4EpOI8O7gQEYVu7RovYdAOcdlCujjlaMU9x1w/file\n",
            "Resolving dl.dropboxusercontent.com (dl.dropboxusercontent.com)... 162.125.9.6, 2620:100:601f:6::a27d:906\n",
            "Connecting to dl.dropboxusercontent.com (dl.dropboxusercontent.com)|162.125.9.6|:443... connected.\n",
            "HTTP request sent, awaiting response... 200 OK\n",
            "Length: 1748690805 (1.6G) [application/zip]\n",
            "Saving to: ‘Places25.zip?dl=0’\n",
            "\n",
            "Places25.zip?dl=0    91%[=================>  ]   1.48G  35.6MB/s    eta 5s     "
          ],
          "name": "stdout"
        },
        {
          "output_type": "stream",
          "text": [
            "Places25.zip?dl=0   100%[===================>]   1.63G  34.4MB/s    in 47s     \n",
            "\n",
            "2018-05-02 14:27:36 (35.8 MB/s) - ‘Places25.zip?dl=0’ saved [1748690805/1748690805]\n",
            "\n"
          ],
          "name": "stdout"
        }
      ]
    },
    {
      "metadata": {
        "id": "LXGti_W6vCns",
        "colab_type": "code",
        "colab": {
          "autoexec": {
            "startup": false,
            "wait_interval": 0
          },
          "base_uri": "https://localhost:8080/",
          "height": 34
        },
        "outputId": "b164cddd-bcfe-48fc-b2bb-553bbc84797b",
        "executionInfo": {
          "status": "ok",
          "timestamp": 1525047958878,
          "user_tz": 180,
          "elapsed": 1852,
          "user": {
            "displayName": "Raimundo Manterola",
            "photoUrl": "//lh6.googleusercontent.com/-8YXattyAAPc/AAAAAAAAAAI/AAAAAAAAAAs/4eQTWPFW4YM/s50-c-k-no/photo.jpg",
            "userId": "108401720196473743384"
          }
        }
      },
      "cell_type": "code",
      "source": [
        "]=ls"
      ],
      "execution_count": 5,
      "outputs": [
        {
          "output_type": "stream",
          "text": [
            "\u001b[0m\u001b[01;34mcheckpoints\u001b[0m/  \u001b[01;34mdatalab\u001b[0m/  \u001b[34;42mPlaces25\u001b[0m/  Places25.zip?dl=0\r\n"
          ],
          "name": "stdout"
        }
      ]
    },
    {
      "metadata": {
        "id": "62YM4XjMK19U",
        "colab_type": "text"
      },
      "cell_type": "markdown",
      "source": [
        "## Probando con VGG16"
      ]
    },
    {
      "metadata": {
        "id": "jYOE0LPHKF6I",
        "colab_type": "text"
      },
      "cell_type": "markdown",
      "source": [
        "Comenzaremos por probar con una arquitectura de VGG16"
      ]
    },
    {
      "metadata": {
        "id": "5VYUZckOqtp8",
        "colab_type": "code",
        "colab": {
          "autoexec": {
            "startup": false,
            "wait_interval": 0
          },
          "base_uri": "https://localhost:8080/",
          "height": 51
        },
        "outputId": "26928322-24d4-47db-f238-310eedbf9ac2",
        "executionInfo": {
          "status": "ok",
          "timestamp": 1525227718309,
          "user_tz": 180,
          "elapsed": 10534,
          "user": {
            "displayName": "Francisco RENCORET DOMINGUEZ",
            "photoUrl": "https://lh3.googleusercontent.com/a/default-user=s128",
            "userId": "105993607523039650316"
          }
        }
      },
      "cell_type": "code",
      "source": [
        "train_datagen = ImageDataGenerator()\n",
        "test_datagen = ImageDataGenerator()\n",
        "\n",
        "train_generator = train_datagen.flow_from_directory(\n",
        "        'Places25/train',\n",
        "        target_size=(224, 224),\n",
        "        batch_size=64,\n",
        "        class_mode='categorical')\n",
        "\n",
        "validation_generator = test_datagen.flow_from_directory(\n",
        "        'Places25/val',\n",
        "        target_size=(224, 224),\n",
        "        batch_size=64,\n",
        "        class_mode='categorical')"
      ],
      "execution_count": 10,
      "outputs": [
        {
          "output_type": "stream",
          "text": [
            "Found 100001 images belonging to 25 classes.\n",
            "Found 12500 images belonging to 25 classes.\n"
          ],
          "name": "stdout"
        }
      ]
    },
    {
      "metadata": {
        "id": "CeaB5MGtxUpU",
        "colab_type": "code",
        "colab": {
          "autoexec": {
            "startup": false,
            "wait_interval": 0
          }
        }
      },
      "cell_type": "code",
      "source": [
        "vgg16 = applications.vgg16.VGG16(weights=None, classes=25)"
      ],
      "execution_count": 0,
      "outputs": []
    },
    {
      "metadata": {
        "id": "a-TfU674x_Pc",
        "colab_type": "code",
        "colab": {
          "autoexec": {
            "startup": false,
            "wait_interval": 0
          },
          "base_uri": "https://localhost:8080/",
          "height": 918
        },
        "outputId": "1fbcc11f-4a3b-4623-e4a0-70584676a6e8",
        "executionInfo": {
          "status": "ok",
          "timestamp": 1525227720353,
          "user_tz": 180,
          "elapsed": 531,
          "user": {
            "displayName": "Francisco RENCORET DOMINGUEZ",
            "photoUrl": "https://lh3.googleusercontent.com/a/default-user=s128",
            "userId": "105993607523039650316"
          }
        }
      },
      "cell_type": "code",
      "source": [
        "vgg16.summary()"
      ],
      "execution_count": 13,
      "outputs": [
        {
          "output_type": "stream",
          "text": [
            "_________________________________________________________________\n",
            "Layer (type)                 Output Shape              Param #   \n",
            "=================================================================\n",
            "input_1 (InputLayer)         (None, 224, 224, 3)       0         \n",
            "_________________________________________________________________\n",
            "block1_conv1 (Conv2D)        (None, 224, 224, 64)      1792      \n",
            "_________________________________________________________________\n",
            "block1_conv2 (Conv2D)        (None, 224, 224, 64)      36928     \n",
            "_________________________________________________________________\n",
            "block1_pool (MaxPooling2D)   (None, 112, 112, 64)      0         \n",
            "_________________________________________________________________\n",
            "block2_conv1 (Conv2D)        (None, 112, 112, 128)     73856     \n",
            "_________________________________________________________________\n",
            "block2_conv2 (Conv2D)        (None, 112, 112, 128)     147584    \n",
            "_________________________________________________________________\n",
            "block2_pool (MaxPooling2D)   (None, 56, 56, 128)       0         \n",
            "_________________________________________________________________\n",
            "block3_conv1 (Conv2D)        (None, 56, 56, 256)       295168    \n",
            "_________________________________________________________________\n",
            "block3_conv2 (Conv2D)        (None, 56, 56, 256)       590080    \n",
            "_________________________________________________________________\n",
            "block3_conv3 (Conv2D)        (None, 56, 56, 256)       590080    \n",
            "_________________________________________________________________\n",
            "block3_pool (MaxPooling2D)   (None, 28, 28, 256)       0         \n",
            "_________________________________________________________________\n",
            "block4_conv1 (Conv2D)        (None, 28, 28, 512)       1180160   \n",
            "_________________________________________________________________\n",
            "block4_conv2 (Conv2D)        (None, 28, 28, 512)       2359808   \n",
            "_________________________________________________________________\n",
            "block4_conv3 (Conv2D)        (None, 28, 28, 512)       2359808   \n",
            "_________________________________________________________________\n",
            "block4_pool (MaxPooling2D)   (None, 14, 14, 512)       0         \n",
            "_________________________________________________________________\n",
            "block5_conv1 (Conv2D)        (None, 14, 14, 512)       2359808   \n",
            "_________________________________________________________________\n",
            "block5_conv2 (Conv2D)        (None, 14, 14, 512)       2359808   \n",
            "_________________________________________________________________\n",
            "block5_conv3 (Conv2D)        (None, 14, 14, 512)       2359808   \n",
            "_________________________________________________________________\n",
            "block5_pool (MaxPooling2D)   (None, 7, 7, 512)         0         \n",
            "_________________________________________________________________\n",
            "flatten (Flatten)            (None, 25088)             0         \n",
            "_________________________________________________________________\n",
            "fc1 (Dense)                  (None, 4096)              102764544 \n",
            "_________________________________________________________________\n",
            "fc2 (Dense)                  (None, 4096)              16781312  \n",
            "_________________________________________________________________\n",
            "predictions (Dense)          (None, 25)                102425    \n",
            "=================================================================\n",
            "Total params: 134,362,969\n",
            "Trainable params: 134,362,969\n",
            "Non-trainable params: 0\n",
            "_________________________________________________________________\n"
          ],
          "name": "stdout"
        }
      ]
    },
    {
      "metadata": {
        "id": "koyDSOKSyJqE",
        "colab_type": "code",
        "colab": {
          "autoexec": {
            "startup": false,
            "wait_interval": 0
          }
        }
      },
      "cell_type": "code",
      "source": [
        "## Compilamos el modelo\n",
        "\n",
        "vgg16.compile(loss = 'categorical_crossentropy',\n",
        "              optimizer= optimizers.Adam(lr=5e-4),\n",
        "              metrics = ['accuracy'])"
      ],
      "execution_count": 0,
      "outputs": []
    },
    {
      "metadata": {
        "id": "h_hWmL0jN2_4",
        "colab_type": "code",
        "colab": {
          "autoexec": {
            "startup": false,
            "wait_interval": 0
          }
        }
      },
      "cell_type": "code",
      "source": [
        "checkpoints = ModelCheckpoint(filepath='checkpoints/vgg16_places.hdf5', verbose=1, save_best_only=True)\n",
        "history = History()\n",
        "earlyStopping = EarlyStopping(monitor='val_loss', min_delta=0.1, patience=3, verbose=1, mode='auto')"
      ],
      "execution_count": 0,
      "outputs": []
    },
    {
      "metadata": {
        "id": "ys0rRhGLQaI_",
        "colab_type": "text"
      },
      "cell_type": "markdown",
      "source": [
        "Load pre-trained model\n"
      ]
    },
    {
      "metadata": {
        "id": "tnc6XsKRTMef",
        "colab_type": "code",
        "colab": {
          "autoexec": {
            "startup": false,
            "wait_interval": 0
          },
          "base_uri": "https://localhost:8080/",
          "height": 340
        },
        "outputId": "9042df56-5778-4df8-9764-e7c8ee5b349f",
        "executionInfo": {
          "status": "ok",
          "timestamp": 1525272074614,
          "user_tz": 180,
          "elapsed": 877,
          "user": {
            "displayName": "Francisco RENCORET DOMINGUEZ",
            "photoUrl": "https://lh3.googleusercontent.com/a/default-user=s128",
            "userId": "105993607523039650316"
          }
        }
      },
      "cell_type": "code",
      "source": [
        "#List elements in drive to obtain id\n",
        "file_list = drive.ListFile({'q': \"'root' in parents and trashed=false\"}).GetList()\n",
        "for file1 in file_list:\n",
        "  print('title: %s, id: %s' % (file1['title'], file1['id']))"
      ],
      "execution_count": 11,
      "outputs": [
        {
          "output_type": "stream",
          "text": [
            "title: vgg16_places_01, id: 19dZS7PQXo-_L7QzjeVvbtV0TwToVHW7o\n",
            "title: DeepLearning, id: 1HyF6aclJNw7fTE_DpWGCmysE80jK9iit\n",
            "title: Experimento de ciencias, id: 1N0bL6tc4VW7LB2S7b7F5pdsamUIqEipcXric40A63Rk\n",
            "title: Taller de Convergencia Medial, id: 1TrJkP6vc0MPoTEkDnes7PCD2tNmAe0Kj\n",
            "title: IIC2154.2017-2.Grupo4, id: 0ByyHWdiVgKjFc05icFBuemc2RjQ\n",
            "title: IA, id: 1GW4IS8UZcd2Zo4AqRk7jbK4Kd8poI9UY\n",
            "title: Mineria de Datos, id: 0B4QFg9cQT-fna1B3RlVGaG8tV0U\n",
            "title: Classroom, id: 0B4QFg9cQT-fnfnBMRFpyaHd6dmI4ZHhoSTRTYU04eEExZ0trUzJkSXNvaDBZU3N1Sk9pV1k\n",
            "title: Portada , id: 1sLMQ3texdZyAndO9Pss9q1-r63W_Qb0MH3HJsP43FnU\n",
            "title: Contabilidad, id: 0B4QFg9cQT-fnLVNvZEdaaG5zWEk\n",
            "title: Sistemas Operativos, id: 0B4QFg9cQT-fnMjFwS1hZUnc2bHc\n",
            "title: Startup Semester @ Berkeley, id: 0B4QFg9cQT-fnMVdOUTVwaEYtZFk\n",
            "title: Ingenieria de Software, id: 0B4QFg9cQT-fndEdtRmFJLXltV2c\n",
            "title: Bitcoin, id: 0B4QFg9cQT-fnMjU1c0RGNV9NS28\n",
            "title: Bases De Datos, id: 0B4QFg9cQT-fnd3M4d1NyVUN6d2M\n",
            "title: Organizacion y Comportamiento de la empresa, id: 0B4QFg9cQT-fncHRIVk1DYU02dFk\n",
            "title: Sistemas, id: 0B4QFg9cQT-fnaXFpWktWaGF3eHc\n",
            "title: Innovacion, id: 0B4QFg9cQT-fnWEJ4Nmd3MFVRMWs\n",
            "title: Examen de Título Parte 1 - Comunidad IngUC, id: 0Bz5cwEXUYZc6RC1XNXJvS1JNOXc\n"
          ],
          "name": "stdout"
        }
      ]
    },
    {
      "metadata": {
        "id": "lwTCChUEQ_MK",
        "colab_type": "code",
        "colab": {
          "autoexec": {
            "startup": false,
            "wait_interval": 0
          }
        }
      },
      "cell_type": "code",
      "source": [
        "# 3. Load a file by ID and print its contents.\n",
        "pre_trained_weights = drive.CreateFile({'id': '19dZS7PQXo-_L7QzjeVvbtV0TwToVHW7o'})"
      ],
      "execution_count": 0,
      "outputs": []
    },
    {
      "metadata": {
        "id": "QAepLgSgVDIh",
        "colab_type": "code",
        "colab": {
          "autoexec": {
            "startup": false,
            "wait_interval": 0
          },
          "base_uri": "https://localhost:8080/",
          "height": 34
        },
        "outputId": "2b63eee6-cec8-4848-cc4a-39c5f0cdabe1",
        "executionInfo": {
          "status": "ok",
          "timestamp": 1525272566606,
          "user_tz": 180,
          "elapsed": 556,
          "user": {
            "displayName": "Francisco RENCORET DOMINGUEZ",
            "photoUrl": "https://lh3.googleusercontent.com/a/default-user=s128",
            "userId": "105993607523039650316"
          }
        }
      },
      "cell_type": "code",
      "source": [
        "pre_trained_weights.FetchMetadata()"
      ],
      "execution_count": 23,
      "outputs": [
        {
          "output_type": "stream",
          "text": [
            "None\n"
          ],
          "name": "stdout"
        }
      ]
    },
    {
      "metadata": {
        "id": "EXK2yzSiQdTa",
        "colab_type": "code",
        "colab": {
          "autoexec": {
            "startup": false,
            "wait_interval": 0
          },
          "base_uri": "https://localhost:8080/",
          "height": 521
        },
        "outputId": "4f2995c4-821e-4caa-c790-3b11ab3d399d",
        "executionInfo": {
          "status": "error",
          "timestamp": 1525272136549,
          "user_tz": 180,
          "elapsed": 626,
          "user": {
            "displayName": "Francisco RENCORET DOMINGUEZ",
            "photoUrl": "https://lh3.googleusercontent.com/a/default-user=s128",
            "userId": "105993607523039650316"
          }
        }
      },
      "cell_type": "code",
      "source": [
        "vgg16 = load_model(pre_trained_weights)"
      ],
      "execution_count": 14,
      "outputs": [
        {
          "output_type": "error",
          "ename": "TypeError",
          "evalue": "ignored",
          "traceback": [
            "\u001b[0;31m---------------------------------------------------------------------------\u001b[0m",
            "\u001b[0;31mTypeError\u001b[0m                                 Traceback (most recent call last)",
            "\u001b[0;32m<ipython-input-14-2509d6b16066>\u001b[0m in \u001b[0;36m<module>\u001b[0;34m()\u001b[0m\n\u001b[0;32m----> 1\u001b[0;31m \u001b[0mvgg16\u001b[0m \u001b[0;34m=\u001b[0m \u001b[0mload_model\u001b[0m\u001b[0;34m(\u001b[0m\u001b[0mpre_trained_weights\u001b[0m\u001b[0;34m)\u001b[0m\u001b[0;34m\u001b[0m\u001b[0m\n\u001b[0m",
            "\u001b[0;32m/usr/local/lib/python3.6/dist-packages/keras/models.py\u001b[0m in \u001b[0;36mload_model\u001b[0;34m(filepath, custom_objects, compile)\u001b[0m\n\u001b[1;32m    258\u001b[0m     \u001b[0mopened_new_file\u001b[0m \u001b[0;34m=\u001b[0m \u001b[0;32mnot\u001b[0m \u001b[0misinstance\u001b[0m\u001b[0;34m(\u001b[0m\u001b[0mfilepath\u001b[0m\u001b[0;34m,\u001b[0m \u001b[0mh5py\u001b[0m\u001b[0;34m.\u001b[0m\u001b[0mFile\u001b[0m\u001b[0;34m)\u001b[0m\u001b[0;34m\u001b[0m\u001b[0m\n\u001b[1;32m    259\u001b[0m     \u001b[0;32mif\u001b[0m \u001b[0mopened_new_file\u001b[0m\u001b[0;34m:\u001b[0m\u001b[0;34m\u001b[0m\u001b[0m\n\u001b[0;32m--> 260\u001b[0;31m         \u001b[0mf\u001b[0m \u001b[0;34m=\u001b[0m \u001b[0mh5py\u001b[0m\u001b[0;34m.\u001b[0m\u001b[0mFile\u001b[0m\u001b[0;34m(\u001b[0m\u001b[0mfilepath\u001b[0m\u001b[0;34m,\u001b[0m \u001b[0mmode\u001b[0m\u001b[0;34m=\u001b[0m\u001b[0;34m'r'\u001b[0m\u001b[0;34m)\u001b[0m\u001b[0;34m\u001b[0m\u001b[0m\n\u001b[0m\u001b[1;32m    261\u001b[0m     \u001b[0;32melse\u001b[0m\u001b[0;34m:\u001b[0m\u001b[0;34m\u001b[0m\u001b[0m\n\u001b[1;32m    262\u001b[0m         \u001b[0mf\u001b[0m \u001b[0;34m=\u001b[0m \u001b[0mfilepath\u001b[0m\u001b[0;34m\u001b[0m\u001b[0m\n",
            "\u001b[0;32m/usr/local/lib/python3.6/dist-packages/h5py/_hl/files.py\u001b[0m in \u001b[0;36m__init__\u001b[0;34m(self, name, mode, driver, libver, userblock_size, swmr, **kwds)\u001b[0m\n\u001b[1;32m    264\u001b[0m                 \u001b[0mfid\u001b[0m \u001b[0;34m=\u001b[0m \u001b[0mh5i\u001b[0m\u001b[0;34m.\u001b[0m\u001b[0mget_file_id\u001b[0m\u001b[0;34m(\u001b[0m\u001b[0mname\u001b[0m\u001b[0;34m)\u001b[0m\u001b[0;34m\u001b[0m\u001b[0m\n\u001b[1;32m    265\u001b[0m         \u001b[0;32melse\u001b[0m\u001b[0;34m:\u001b[0m\u001b[0;34m\u001b[0m\u001b[0m\n\u001b[0;32m--> 266\u001b[0;31m             \u001b[0mname\u001b[0m \u001b[0;34m=\u001b[0m \u001b[0mfilename_encode\u001b[0m\u001b[0;34m(\u001b[0m\u001b[0mname\u001b[0m\u001b[0;34m)\u001b[0m\u001b[0;34m\u001b[0m\u001b[0m\n\u001b[0m\u001b[1;32m    267\u001b[0m             \u001b[0;32mwith\u001b[0m \u001b[0mphil\u001b[0m\u001b[0;34m:\u001b[0m\u001b[0;34m\u001b[0m\u001b[0m\n\u001b[1;32m    268\u001b[0m                 \u001b[0mfapl\u001b[0m \u001b[0;34m=\u001b[0m \u001b[0mmake_fapl\u001b[0m\u001b[0;34m(\u001b[0m\u001b[0mdriver\u001b[0m\u001b[0;34m,\u001b[0m \u001b[0mlibver\u001b[0m\u001b[0;34m,\u001b[0m \u001b[0;34m**\u001b[0m\u001b[0mkwds\u001b[0m\u001b[0;34m)\u001b[0m\u001b[0;34m\u001b[0m\u001b[0m\n",
            "\u001b[0;32m/usr/local/lib/python3.6/dist-packages/h5py/_hl/compat.py\u001b[0m in \u001b[0;36mfilename_encode\u001b[0;34m(filename)\u001b[0m\n\u001b[1;32m    109\u001b[0m     \u001b[0mfilenames\u001b[0m \u001b[0;32min\u001b[0m \u001b[0mh5py\u001b[0m \u001b[0;32mfor\u001b[0m \u001b[0mmore\u001b[0m \u001b[0minformation\u001b[0m\u001b[0;34m.\u001b[0m\u001b[0;34m\u001b[0m\u001b[0m\n\u001b[1;32m    110\u001b[0m     \"\"\"\n\u001b[0;32m--> 111\u001b[0;31m     \u001b[0mfilename\u001b[0m \u001b[0;34m=\u001b[0m \u001b[0mfspath\u001b[0m\u001b[0;34m(\u001b[0m\u001b[0mfilename\u001b[0m\u001b[0;34m)\u001b[0m\u001b[0;34m\u001b[0m\u001b[0m\n\u001b[0m\u001b[1;32m    112\u001b[0m     \u001b[0;32mif\u001b[0m \u001b[0msys\u001b[0m\u001b[0;34m.\u001b[0m\u001b[0mplatform\u001b[0m \u001b[0;34m==\u001b[0m \u001b[0;34m\"win32\"\u001b[0m\u001b[0;34m:\u001b[0m\u001b[0;34m\u001b[0m\u001b[0m\n\u001b[1;32m    113\u001b[0m         \u001b[0;32mif\u001b[0m \u001b[0misinstance\u001b[0m\u001b[0;34m(\u001b[0m\u001b[0mfilename\u001b[0m\u001b[0;34m,\u001b[0m \u001b[0msix\u001b[0m\u001b[0;34m.\u001b[0m\u001b[0mtext_type\u001b[0m\u001b[0;34m)\u001b[0m\u001b[0;34m:\u001b[0m\u001b[0;34m\u001b[0m\u001b[0m\n",
            "\u001b[0;31mTypeError\u001b[0m: expected str, bytes or os.PathLike object, not GoogleDriveFile"
          ]
        }
      ]
    },
    {
      "metadata": {
        "id": "p-lSXyMWzo4q",
        "colab_type": "code",
        "colab": {
          "autoexec": {
            "startup": false,
            "wait_interval": 0
          },
          "base_uri": "https://localhost:8080/",
          "height": 343
        },
        "outputId": "85f8dc82-403a-4abd-a10c-d524906d4caf",
        "executionInfo": {
          "status": "ok",
          "timestamp": 1525240046366,
          "user_tz": 180,
          "elapsed": 12313296,
          "user": {
            "displayName": "Francisco RENCORET DOMINGUEZ",
            "photoUrl": "https://lh3.googleusercontent.com/a/default-user=s128",
            "userId": "105993607523039650316"
          }
        }
      },
      "cell_type": "code",
      "source": [
        "vgg16.fit_generator(\n",
        "        train_generator,\n",
        "        steps_per_epoch= train_generator.samples // 64,\n",
        "        epochs=12,\n",
        "        validation_data=validation_generator,\n",
        "        validation_steps=validation_generator.samples // 64,\n",
        "        callbacks = [checkpoints, history, earlyStopping])\n",
        "\n",
        "# vgg16.fit(X_train, \n",
        "#           Y_train, \n",
        "#           batch_size = 32,\n",
        "#           epochs=10,\n",
        "#           verbose=1,\n",
        "#           callbacks = [checkpoints, history],\n",
        "#           validation_data = (X_val, Y_val))\n",
        "\n",
        "print(\"Saving Model\")\n",
        "vgg16.save('vgg16_places.h5')"
      ],
      "execution_count": 18,
      "outputs": [
        {
          "output_type": "stream",
          "text": [
            "Epoch 1/12\n",
            "1561/1562 [============================>.] - ETA: 1s - loss: 3.2356 - acc: 0.0384"
          ],
          "name": "stdout"
        },
        {
          "output_type": "stream",
          "text": [
            "\b\b\b\b\b\b\b\b\b\b\b\b\b\b\b\b\b\b\b\b\b\b\b\b\b\b\b\b\b\b\b\b\b\b\b\b\b\b\b\b\b\b\b\b\b\b\b\b\b\b\b\b\b\b\b\b\b\b\b\b\b\b\b\b\b\b\b\b\b\b\b\b\b\b\b\b\b\b\b\b\b\r1562/1562 [==============================] - 3107s 2s/step - loss: 3.2355 - acc: 0.0384 - val_loss: 3.2189 - val_acc: 0.0399\n",
            "\n",
            "Epoch 00001: val_loss improved from inf to 3.21890, saving model to checkpoints/vgg16_places.hdf5\n",
            "Epoch 2/12\n",
            " 247/1562 [===>..........................] - ETA: 41:13 - loss: 3.2189 - acc: 0.0404"
          ],
          "name": "stdout"
        },
        {
          "output_type": "stream",
          "text": [
            "1561/1562 [============================>.] - ETA: 1s - loss: 3.2190 - acc: 0.0402"
          ],
          "name": "stdout"
        },
        {
          "output_type": "stream",
          "text": [
            "\b\b\b\b\b\b\b\b\b\b\b\b\b\b\b\b\b\b\b\b\b\b\b\b\b\b\b\b\b\b\b\b\b\b\b\b\b\b\b\b\b\b\b\b\b\b\b\b\b\b\b\b\b\b\b\b\b\b\b\b\b\b\b\b\b\b\b\b\b\b\b\b\b\b\b\b\b\b\b\b\b\r1562/1562 [==============================] - 3054s 2s/step - loss: 3.2190 - acc: 0.0402 - val_loss: 3.2189 - val_acc: 0.0399\n",
            "\n",
            "Epoch 00002: val_loss improved from 3.21890 to 3.21888, saving model to checkpoints/vgg16_places.hdf5\n",
            "Epoch 3/12\n",
            " 244/1562 [===>..........................] - ETA: 41:23 - loss: 3.2189 - acc: 0.0402"
          ],
          "name": "stdout"
        },
        {
          "output_type": "stream",
          "text": [
            "1561/1562 [============================>.] - ETA: 1s - loss: 3.2190 - acc: 0.0391"
          ],
          "name": "stdout"
        },
        {
          "output_type": "stream",
          "text": [
            "\b\b\b\b\b\b\b\b\b\b\b\b\b\b\b\b\b\b\b\b\b\b\b\b\b\b\b\b\b\b\b\b\b\b\b\b\b\b\b\b\b\b\b\b\b\b\b\b\b\b\b\b\b\b\b\b\b\b\b\b\b\b\b\b\b\b\b\b\b\b\b\b\b\b\b\b\b\b\b\b\b\r1562/1562 [==============================] - 3053s 2s/step - loss: 3.2190 - acc: 0.0391 - val_loss: 3.2189 - val_acc: 0.0401\n",
            "\n",
            "Epoch 00003: val_loss did not improve from 3.21888\n",
            "Epoch 4/12\n",
            " 281/1562 [====>.........................] - ETA: 40:13 - loss: 3.2189 - acc: 0.0390"
          ],
          "name": "stdout"
        },
        {
          "output_type": "stream",
          "text": [
            "1561/1562 [============================>.] - ETA: 1s - loss: 3.2190 - acc: 0.0395"
          ],
          "name": "stdout"
        },
        {
          "output_type": "stream",
          "text": [
            "\b\b\b\b\b\b\b\b\b\b\b\b\b\b\b\b\b\b\b\b\b\b\b\b\b\b\b\b\b\b\b\b\b\b\b\b\b\b\b\b\b\b\b\b\b\b\b\b\b\b\b\b\b\b\b\b\b\b\b\b\b\b\b\b\b\b\b\b\b\b\b\b\b\b\b\b\b\b\b\b\b\r1562/1562 [==============================] - 3054s 2s/step - loss: 3.2190 - acc: 0.0395 - val_loss: 3.2189 - val_acc: 0.0399\n",
            "\n",
            "Epoch 00004: val_loss improved from 3.21888 to 3.21888, saving model to checkpoints/vgg16_places.hdf5\n",
            "Epoch 00004: early stopping\n",
            "Saving Model\n"
          ],
          "name": "stdout"
        }
      ]
    },
    {
      "metadata": {
        "id": "WVyUgDCTP3fI",
        "colab_type": "code",
        "colab": {
          "autoexec": {
            "startup": false,
            "wait_interval": 0
          }
        }
      },
      "cell_type": "code",
      "source": [
        ""
      ],
      "execution_count": 0,
      "outputs": []
    },
    {
      "metadata": {
        "id": "69TLXV3GKJ-P",
        "colab_type": "code",
        "colab": {
          "autoexec": {
            "startup": false,
            "wait_interval": 0
          },
          "base_uri": "https://localhost:8080/",
          "height": 34
        },
        "outputId": "606a664f-99e4-4504-f0c9-a0bcf1488613",
        "executionInfo": {
          "status": "ok",
          "timestamp": 1525240074245,
          "user_tz": 180,
          "elapsed": 27824,
          "user": {
            "displayName": "Francisco RENCORET DOMINGUEZ",
            "photoUrl": "https://lh3.googleusercontent.com/a/default-user=s128",
            "userId": "105993607523039650316"
          }
        }
      },
      "cell_type": "code",
      "source": [
        "uploaded = drive.CreateFile({'title': 'vgg16_places_01'})\n",
        "uploaded.SetContentFile('vgg16_places.h5')\n",
        "uploaded.Upload()\n",
        "print('Uploaded file with ID {}'.format(uploaded.get('id')))"
      ],
      "execution_count": 19,
      "outputs": [
        {
          "output_type": "stream",
          "text": [
            "Uploaded file with ID 19dZS7PQXo-_L7QzjeVvbtV0TwToVHW7o\n"
          ],
          "name": "stdout"
        }
      ]
    },
    {
      "metadata": {
        "id": "bSsJFVwupzB7",
        "colab_type": "code",
        "colab": {
          "autoexec": {
            "startup": false,
            "wait_interval": 0
          }
        }
      },
      "cell_type": "code",
      "source": [
        "import matplotlib.pyplot as plt"
      ],
      "execution_count": 0,
      "outputs": []
    },
    {
      "metadata": {
        "id": "xOEeEo3MqHa9",
        "colab_type": "code",
        "colab": {
          "autoexec": {
            "startup": false,
            "wait_interval": 0
          },
          "base_uri": "https://localhost:8080/",
          "height": 752
        },
        "outputId": "3b99efc5-6eee-4195-f948-6ed7b0889ce7",
        "executionInfo": {
          "status": "ok",
          "timestamp": 1525240076605,
          "user_tz": 180,
          "elapsed": 1317,
          "user": {
            "displayName": "Francisco RENCORET DOMINGUEZ",
            "photoUrl": "https://lh3.googleusercontent.com/a/default-user=s128",
            "userId": "105993607523039650316"
          }
        }
      },
      "cell_type": "code",
      "source": [
        "# list all data in history\n",
        "print(history.history.keys())\n",
        "# summarize history for accuracy\n",
        "plt.plot(history.history['acc'])\n",
        "plt.plot(history.history['val_acc'])\n",
        "plt.title('model accuracy')\n",
        "plt.ylabel('accuracy')\n",
        "plt.xlabel('epoch')\n",
        "plt.legend(['train', 'val'], loc='upper left')\n",
        "plt.show()\n",
        "# summarize history for loss\n",
        "plt.plot(history.history['loss'])\n",
        "plt.plot(history.history['val_loss'])\n",
        "plt.title('model loss')\n",
        "plt.ylabel('loss')\n",
        "plt.xlabel('epoch')\n",
        "plt.legend(['train', 'val'], loc='upper left')\n",
        "plt.show()"
      ],
      "execution_count": 21,
      "outputs": [
        {
          "output_type": "stream",
          "text": [
            "dict_keys(['val_loss', 'val_acc', 'loss', 'acc'])\n"
          ],
          "name": "stdout"
        },
        {
          "output_type": "display_data",
          "data": {
            "image/png": "[encoded data removed]",
            "text/plain": [
              "<matplotlib.figure.Figure at 0x7f7d5a2cb390>"
            ]
          },
          "metadata": {
            "tags": []
          }
        },
        {
          "output_type": "display_data",
          "data": {
            "image/png": "[encoded data removed]",
            "text/plain": [
              "<matplotlib.figure.Figure at 0x7f7d5a1ffda0>"
            ]
          },
          "metadata": {
            "tags": []
          }
        }
      ]
    },
    {
      "metadata": {
        "id": "NJjjYyq9mTpE",
        "colab_type": "code",
        "colab": {
          "autoexec": {
            "startup": false,
            "wait_interval": 0
          }
        }
      },
      "cell_type": "code",
      "source": [
        "X_test, Y_test = load_set(\"Places25/test/\", N_test)\n"
      ],
      "execution_count": 0,
      "outputs": []
    },
    {
      "metadata": {
        "id": "n6ant9PrLBME",
        "colab_type": "text"
      },
      "cell_type": "markdown",
      "source": [
        "## Probando con ResNet"
      ]
    },
    {
      "metadata": {
        "id": "f5ZCPXYZcZwu",
        "colab_type": "text"
      },
      "cell_type": "markdown",
      "source": [
        "Probamos utilizando la arquitectura de ResNet"
      ]
    },
    {
      "metadata": {
        "id": "4mFztKzs1Dkb",
        "colab_type": "code",
        "colab": {
          "autoexec": {
            "startup": false,
            "wait_interval": 0
          },
          "base_uri": "https://localhost:8080/",
          "height": 255
        },
        "outputId": "e288baf0-c024-4c00-e6e2-2e3a19b87aee",
        "executionInfo": {
          "status": "ok",
          "timestamp": 1525322904798,
          "user_tz": 240,
          "elapsed": 29893,
          "user": {
            "displayName": "Francisco RENCORET DOMINGUEZ",
            "photoUrl": "https://lh3.googleusercontent.com/a/default-user=s128",
            "userId": "105993607523039650316"
          }
        }
      },
      "cell_type": "code",
      "source": [
        "#Settings set\n",
        "!wget https://www.dropbox.com/s/bc8b71zay6s9rb4/Places25.zip?dl=0\n",
        "!unzip -q Places25.zip?dl=0"
      ],
      "execution_count": 5,
      "outputs": [
        {
          "output_type": "stream",
          "text": [
            "--2018-05-03 04:47:56--  https://www.dropbox.com/s/bc8b71zay6s9rb4/Places25.zip?dl=0\n",
            "Resolving www.dropbox.com (www.dropbox.com)... 162.125.66.1, 2620:100:6022:1::a27d:4201\n",
            "Connecting to www.dropbox.com (www.dropbox.com)|162.125.66.1|:443... connected.\n",
            "HTTP request sent, awaiting response... 302 Found\n",
            "Location: https://dl.dropboxusercontent.com/content_link/X4eSMhi8ptiUcFxiJ8MlZuDOmdlHnoD1vQFLoKCm5IOa3KccG3ITfDAKLlFKvYY6/file [following]\n",
            "--2018-05-03 04:47:57--  https://dl.dropboxusercontent.com/content_link/X4eSMhi8ptiUcFxiJ8MlZuDOmdlHnoD1vQFLoKCm5IOa3KccG3ITfDAKLlFKvYY6/file\n",
            "Resolving dl.dropboxusercontent.com (dl.dropboxusercontent.com)... 162.125.9.6, 2620:100:601f:6::a27d:906\n",
            "Connecting to dl.dropboxusercontent.com (dl.dropboxusercontent.com)|162.125.9.6|:443... connected.\n",
            "HTTP request sent, awaiting response... 200 OK\n",
            "Length: 1748690805 (1.6G) [application/zip]\n",
            "Saving to: ‘Places25.zip?dl=0.1’\n",
            "\n",
            "Places25.zip?dl=0.1  43%[=======>            ] 719.77M  32.5MB/s    eta 29s    ^C\n",
            "replace Places25/test/alley/00004000.jpg? [y]es, [n]o, [A]ll, [N]one, [r]ename: ^C\n"
          ],
          "name": "stdout"
        }
      ]
    },
    {
      "metadata": {
        "id": "_pRyPHTRLPxj",
        "colab_type": "code",
        "colab": {
          "autoexec": {
            "startup": false,
            "wait_interval": 0
          }
        }
      },
      "cell_type": "code",
      "source": [
        "resnet50 = applications.resnet50.ResNet50(weights=None, classes=25)"
      ],
      "execution_count": 0,
      "outputs": []
    },
    {
      "metadata": {
        "id": "NqkIA58FL2Ji",
        "colab_type": "code",
        "colab": {
          "autoexec": {
            "startup": false,
            "wait_interval": 0
          },
          "base_uri": "https://localhost:8080/",
          "height": 51
        },
        "outputId": "4d264405-94fe-40b9-fa22-6cc9874907d6",
        "executionInfo": {
          "status": "ok",
          "timestamp": 1525281155315,
          "user_tz": 240,
          "elapsed": 12798,
          "user": {
            "displayName": "Francisco RENCORET DOMINGUEZ",
            "photoUrl": "https://lh3.googleusercontent.com/a/default-user=s128",
            "userId": "105993607523039650316"
          }
        }
      },
      "cell_type": "code",
      "source": [
        "#Load the images\n",
        "train_datagen = ImageDataGenerator()\n",
        "\n",
        "train_generator = train_datagen.flow_from_directory(\n",
        "        'Places25/train/',\n",
        "        target_size=(224, 224),\n",
        "        batch_size=64,\n",
        "        class_mode='categorical')\n",
        "\n",
        "val_generator = train_datagen.flow_from_directory(\n",
        "        'Places25/val/',\n",
        "        target_size=(224, 224),\n",
        "        batch_size=64,\n",
        "        class_mode='categorical')"
      ],
      "execution_count": 8,
      "outputs": [
        {
          "output_type": "stream",
          "text": [
            "Found 100001 images belonging to 25 classes.\n",
            "Found 12500 images belonging to 25 classes.\n"
          ],
          "name": "stdout"
        }
      ]
    },
    {
      "metadata": {
        "id": "Dg_7Tee1NX5A",
        "colab_type": "code",
        "colab": {
          "autoexec": {
            "startup": false,
            "wait_interval": 0
          }
        }
      },
      "cell_type": "code",
      "source": [
        "checkpoints = ModelCheckpoint(filepath='checkpoints/restnet50_places.hdf5', verbose=1, save_best_only=True)\n",
        "history = History()\n",
        "earlyStopping = EarlyStopping(monitor='val_loss', min_delta=0.1, patience=3, verbose=1, mode='auto')"
      ],
      "execution_count": 0,
      "outputs": []
    },
    {
      "metadata": {
        "id": "wqRw7w7CNyLt",
        "colab_type": "code",
        "colab": {
          "autoexec": {
            "startup": false,
            "wait_interval": 0
          }
        }
      },
      "cell_type": "code",
      "source": [
        "resnet50.compile(loss = 'categorical_crossentropy',\n",
        "              optimizer= optimizers.Adam(lr=5e-4),\n",
        "              metrics = ['accuracy'])"
      ],
      "execution_count": 0,
      "outputs": []
    },
    {
      "metadata": {
        "id": "zO93aIHsM2ef",
        "colab_type": "code",
        "colab": {
          "autoexec": {
            "startup": false,
            "wait_interval": 0
          },
          "base_uri": "https://localhost:8080/",
          "height": 666
        },
        "outputId": "55030156-a322-470c-b636-7c8719cdf590",
        "executionInfo": {
          "status": "ok",
          "timestamp": 1525306474473,
          "user_tz": 240,
          "elapsed": 25306972,
          "user": {
            "displayName": "Francisco RENCORET DOMINGUEZ",
            "photoUrl": "https://lh3.googleusercontent.com/a/default-user=s128",
            "userId": "105993607523039650316"
          }
        }
      },
      "cell_type": "code",
      "source": [
        "resnet50.fit_generator(\n",
        "        train_generator,\n",
        "        steps_per_epoch = train_generator.samples // 64,\n",
        "        epochs=20,\n",
        "        verbose=1,\n",
        "        callbacks = [checkpoints, history, earlyStopping],\n",
        "        validation_data=val_generator,\n",
        "        validation_steps = val_generator.samples // 64)\n",
        "\n",
        "resnet50.save('restnet50_places.h5')"
      ],
      "execution_count": 11,
      "outputs": [
        {
          "output_type": "stream",
          "text": [
            "Epoch 1/20\n",
            "1561/1562 [============================>.] - ETA: 1s - loss: 2.0485 - acc: 0.4011"
          ],
          "name": "stdout"
        },
        {
          "output_type": "stream",
          "text": [
            "\b\b\b\b\b\b\b\b\b\b\b\b\b\b\b\b\b\b\b\b\b\b\b\b\b\b\b\b\b\b\b\b\b\b\b\b\b\b\b\b\b\b\b\b\b\b\b\b\b\b\b\b\b\b\b\b\b\b\b\b\b\b\b\b\b\b\b\b\b\b\b\b\b\b\b\b\b\b\b\b\b\r1562/1562 [==============================] - 2822s 2s/step - loss: 2.0480 - acc: 0.4012 - val_loss: 2.1899 - val_acc: 0.3716\n",
            "\n",
            "Epoch 00001: val_loss improved from inf to 2.18987, saving model to checkpoints/restnet50_places.hdf5\n",
            "Epoch 2/20\n",
            " 244/1562 [===>..........................] - ETA: 37:55 - loss: 1.4905 - acc: 0.5444"
          ],
          "name": "stdout"
        },
        {
          "output_type": "stream",
          "text": [
            "1561/1562 [============================>.] - ETA: 1s - loss: 1.3833 - acc: 0.5754"
          ],
          "name": "stdout"
        },
        {
          "output_type": "stream",
          "text": [
            "\b\b\b\b\b\b\b\b\b\b\b\b\b\b\b\b\b\b\b\b\b\b\b\b\b\b\b\b\b\b\b\b\b\b\b\b\b\b\b\b\b\b\b\b\b\b\b\b\b\b\b\b\b\b\b\b\b\b\b\b\b\b\b\b\b\b\b\b\b\b\b\b\b\b\b\b\b\b\b\b\b\r1562/1562 [==============================] - 2814s 2s/step - loss: 1.3834 - acc: 0.5754 - val_loss: 1.9785 - val_acc: 0.4639\n",
            "\n",
            "Epoch 00002: val_loss improved from 2.18987 to 1.97854, saving model to checkpoints/restnet50_places.hdf5\n",
            "Epoch 3/20\n",
            " 242/1562 [===>..........................] - ETA: 37:27 - loss: 1.1929 - acc: 0.6307"
          ],
          "name": "stdout"
        },
        {
          "output_type": "stream",
          "text": [
            "1561/1562 [============================>.] - ETA: 1s - loss: 1.1428 - acc: 0.6474"
          ],
          "name": "stdout"
        },
        {
          "output_type": "stream",
          "text": [
            "\b\b\b\b\b\b\b\b\b\b\b\b\b\b\b\b\b\b\b\b\b\b\b\b\b\b\b\b\b\b\b\b\b\b\b\b\b\b\b\b\b\b\b\b\b\b\b\b\b\b\b\b\b\b\b\b\b\b\b\b\b\b\b\b\b\b\b\b\b\b\b\b\b\b\b\b\b\b\b\b\b\r1562/1562 [==============================] - 2782s 2s/step - loss: 1.1425 - acc: 0.6474 - val_loss: 1.5963 - val_acc: 0.5345\n",
            "\n",
            "Epoch 00003: val_loss improved from 1.97854 to 1.59634, saving model to checkpoints/restnet50_places.hdf5\n",
            "Epoch 4/20\n",
            " 242/1562 [===>..........................] - ETA: 36:49 - loss: 1.0178 - acc: 0.6807"
          ],
          "name": "stdout"
        },
        {
          "output_type": "stream",
          "text": [
            "1561/1562 [============================>.] - ETA: 1s - loss: 1.0078 - acc: 0.6868"
          ],
          "name": "stdout"
        },
        {
          "output_type": "stream",
          "text": [
            "\b\b\b\b\b\b\b\b\b\b\b\b\b\b\b\b\b\b\b\b\b\b\b\b\b\b\b\b\b\b\b\b\b\b\b\b\b\b\b\b\b\b\b\b\b\b\b\b\b\b\b\b\b\b\b\b\b\b\b\b\b\b\b\b\b\b\b\b\b\b\b\b\b\b\b\b\b\b\b\b\b\r1562/1562 [==============================] - 2784s 2s/step - loss: 1.0077 - acc: 0.6869 - val_loss: 1.9119 - val_acc: 0.4503\n",
            "\n",
            "Epoch 00004: val_loss did not improve from 1.59634\n",
            "Epoch 5/20\n",
            " 281/1562 [====>.........................] - ETA: 36:37 - loss: 0.9025 - acc: 0.7154"
          ],
          "name": "stdout"
        },
        {
          "output_type": "stream",
          "text": [
            "1561/1562 [============================>.] - ETA: 1s - loss: 0.8887 - acc: 0.7214"
          ],
          "name": "stdout"
        },
        {
          "output_type": "stream",
          "text": [
            "\b\b\b\b\b\b\b\b\b\b\b\b\b\b\b\b\b\b\b\b\b\b\b\b\b\b\b\b\b\b\b\b\b\b\b\b\b\b\b\b\b\b\b\b\b\b\b\b\b\b\b\b\b\b\b\b\b\b\b\b\b\b\b\b\b\b\b\b\b\b\b\b\b\b\b\b\b\b\b\b\b\r1562/1562 [==============================] - 2816s 2s/step - loss: 0.8886 - acc: 0.7214 - val_loss: 1.4169 - val_acc: 0.5818\n",
            "\n",
            "Epoch 00005: val_loss improved from 1.59634 to 1.41686, saving model to checkpoints/restnet50_places.hdf5\n",
            "Epoch 6/20\n",
            " 242/1562 [===>..........................] - ETA: 37:42 - loss: 0.7990 - acc: 0.7466"
          ],
          "name": "stdout"
        },
        {
          "output_type": "stream",
          "text": [
            "1561/1562 [============================>.] - ETA: 1s - loss: 0.8083 - acc: 0.7458"
          ],
          "name": "stdout"
        },
        {
          "output_type": "stream",
          "text": [
            "\b\b\b\b\b\b\b\b\b\b\b\b\b\b\b\b\b\b\b\b\b\b\b\b\b\b\b\b\b\b\b\b\b\b\b\b\b\b\b\b\b\b\b\b\b\b\b\b\b\b\b\b\b\b\b\b\b\b\b\b\b\b\b\b\b\b\b\b\b\b\b\b\b\b\b\b\b\b\b\b\b\r1562/1562 [==============================] - 2819s 2s/step - loss: 0.8085 - acc: 0.7457 - val_loss: 0.9785 - val_acc: 0.7014\n",
            "\n",
            "Epoch 00006: val_loss improved from 1.41686 to 0.97850, saving model to checkpoints/restnet50_places.hdf5\n",
            "Epoch 7/20\n",
            " 242/1562 [===>..........................] - ETA: 37:45 - loss: 0.7022 - acc: 0.7750"
          ],
          "name": "stdout"
        },
        {
          "output_type": "stream",
          "text": [
            "1561/1562 [============================>.] - ETA: 1s - loss: 0.7098 - acc: 0.7749"
          ],
          "name": "stdout"
        },
        {
          "output_type": "stream",
          "text": [
            "\b\b\b\b\b\b\b\b\b\b\b\b\b\b\b\b\b\b\b\b\b\b\b\b\b\b\b\b\b\b\b\b\b\b\b\b\b\b\b\b\b\b\b\b\b\b\b\b\b\b\b\b\b\b\b\b\b\b\b\b\b\b\b\b\b\b\b\b\b\b\b\b\b\b\b\b\b\b\b\b\b\r1562/1562 [==============================] - 2819s 2s/step - loss: 0.7099 - acc: 0.7749 - val_loss: 1.3200 - val_acc: 0.6131\n",
            "\n",
            "Epoch 00007: val_loss did not improve from 0.97850\n",
            "Epoch 8/20\n",
            " 281/1562 [====>.........................] - ETA: 36:38 - loss: 0.6135 - acc: 0.8006"
          ],
          "name": "stdout"
        },
        {
          "output_type": "stream",
          "text": [
            "1561/1562 [============================>.] - ETA: 1s - loss: 0.6333 - acc: 0.7978"
          ],
          "name": "stdout"
        },
        {
          "output_type": "stream",
          "text": [
            "\b\b\b\b\b\b\b\b\b\b\b\b\b\b\b\b\b\b\b\b\b\b\b\b\b\b\b\b\b\b\b\b\b\b\b\b\b\b\b\b\b\b\b\b\b\b\b\b\b\b\b\b\b\b\b\b\b\b\b\b\b\b\b\b\b\b\b\b\b\b\b\b\b\b\b\b\b\b\b\b\b\r1562/1562 [==============================] - 2819s 2s/step - loss: 0.6335 - acc: 0.7978 - val_loss: 1.2995 - val_acc: 0.6256\n",
            "\n",
            "Epoch 00008: val_loss did not improve from 0.97850\n",
            "Epoch 9/20\n",
            " 281/1562 [====>.........................] - ETA: 36:41 - loss: 0.5216 - acc: 0.8313"
          ],
          "name": "stdout"
        },
        {
          "output_type": "stream",
          "text": [
            "1561/1562 [============================>.] - ETA: 1s - loss: 0.5403 - acc: 0.8253"
          ],
          "name": "stdout"
        },
        {
          "output_type": "stream",
          "text": [
            "\b\b\b\b\b\b\b\b\b\b\b\b\b\b\b\b\b\b\b\b\b\b\b\b\b\b\b\b\b\b\b\b\b\b\b\b\b\b\b\b\b\b\b\b\b\b\b\b\b\b\b\b\b\b\b\b\b\b\b\b\b\b\b\b\b\b\b\b\b\b\b\b\b\b\b\b\b\b\b\b\b\r1562/1562 [==============================] - 2805s 2s/step - loss: 0.5404 - acc: 0.8253 - val_loss: 0.9208 - val_acc: 0.7194\n",
            "\n",
            "Epoch 00009: val_loss improved from 0.97850 to 0.92076, saving model to checkpoints/restnet50_places.hdf5\n",
            "Epoch 00009: early stopping\n"
          ],
          "name": "stdout"
        }
      ]
    },
    {
      "metadata": {
        "id": "54ggbuPpckBk",
        "colab_type": "text"
      },
      "cell_type": "markdown",
      "source": [
        "Podemos observar que nuestro modelo no tuvo una mejora significativa en su función de perdida en el set de validación en las últimas tres épocas, por lo que se deja de entrenar para evitar un overfitting"
      ]
    },
    {
      "metadata": {
        "id": "ce5X3AxIzz0W",
        "colab_type": "code",
        "colab": {
          "autoexec": {
            "startup": false,
            "wait_interval": 0
          },
          "base_uri": "https://localhost:8080/",
          "height": 34
        },
        "outputId": "ff4ca865-02b9-4c60-e7b0-a45abd18cc8d",
        "executionInfo": {
          "status": "ok",
          "timestamp": 1525306484138,
          "user_tz": 240,
          "elapsed": 9630,
          "user": {
            "displayName": "Francisco RENCORET DOMINGUEZ",
            "photoUrl": "https://lh3.googleusercontent.com/a/default-user=s128",
            "userId": "105993607523039650316"
          }
        }
      },
      "cell_type": "code",
      "source": [
        "uploaded = drive.CreateFile({'title': 'restnet50_places'})\n",
        "uploaded.SetContentFile('restnet50_places.h5')\n",
        "uploaded.Upload()\n",
        "print('Uploaded file with ID {}'.format(uploaded.get('id')))"
      ],
      "execution_count": 12,
      "outputs": [
        {
          "output_type": "stream",
          "text": [
            "Uploaded file with ID 1JLyEJWwUsaT14kw1ZCfuJahQ2_a94pKz\n"
          ],
          "name": "stdout"
        }
      ]
    },
    {
      "metadata": {
        "id": "Hz7DV_SpgeA2",
        "colab_type": "code",
        "colab": {
          "autoexec": {
            "startup": false,
            "wait_interval": 0
          }
        }
      },
      "cell_type": "code",
      "source": [
        "#Save resnet50 weights\n",
        "resnet50.save_weights('restnet50_places_weights.h5')\n",
        "uploaded = drive.CreateFile({'title': 'restnet50_places_weights'})\n",
        "uploaded.SetContentFile('restnet50_places_weights.h5')\n",
        "uploaded.Upload()\n",
        "print('Uploaded file with ID {}'.format(uploaded.get('id')))"
      ],
      "execution_count": 0,
      "outputs": []
    },
    {
      "metadata": {
        "id": "rdGhOc8eOThx",
        "colab_type": "code",
        "colab": {
          "autoexec": {
            "startup": false,
            "wait_interval": 0
          }
        }
      },
      "cell_type": "code",
      "source": [
        "import matplotlib.pyplot as plt"
      ],
      "execution_count": 0,
      "outputs": []
    },
    {
      "metadata": {
        "id": "xrjdTFIEOAsn",
        "colab_type": "code",
        "colab": {
          "autoexec": {
            "startup": false,
            "wait_interval": 0
          },
          "base_uri": "https://localhost:8080/",
          "height": 752
        },
        "outputId": "b01c1371-ecba-4d9d-e1a0-d94273b0f1dd",
        "executionInfo": {
          "status": "ok",
          "timestamp": 1525306487074,
          "user_tz": 240,
          "elapsed": 1529,
          "user": {
            "displayName": "Francisco RENCORET DOMINGUEZ",
            "photoUrl": "https://lh3.googleusercontent.com/a/default-user=s128",
            "userId": "105993607523039650316"
          }
        }
      },
      "cell_type": "code",
      "source": [
        "# list all data in history\n",
        "print(history.history.keys())\n",
        "# summarize history for accuracy\n",
        "plt.plot(history.history['acc'])\n",
        "plt.plot(history.history['val_acc'])\n",
        "plt.title('model accuracy')\n",
        "plt.ylabel('accuracy')\n",
        "plt.xlabel('epoch')\n",
        "plt.legend(['train', 'val'], loc='upper left')\n",
        "plt.show()\n",
        "# summarize history for loss\n",
        "plt.plot(history.history['loss'])\n",
        "plt.plot(history.history['val_loss'])\n",
        "plt.title('model loss')\n",
        "plt.ylabel('loss')\n",
        "plt.xlabel('epoch')\n",
        "plt.legend(['train', 'val'], loc='upper left')\n",
        "plt.show()"
      ],
      "execution_count": 14,
      "outputs": [
        {
          "output_type": "stream",
          "text": [
            "dict_keys(['val_loss', 'val_acc', 'loss', 'acc'])\n"
          ],
          "name": "stdout"
        },
        {
          "output_type": "display_data",
          "data": {
            "image/png": "[encoded data removed]",
            "text/plain": [
              "<matplotlib.figure.Figure at 0x7f920b93ec88>"
            ]
          },
          "metadata": {
            "tags": []
          }
        },
        {
          "output_type": "display_data",
          "data": {
            "image/png": "[encoded data removed]",
            "text/plain": [
              "<matplotlib.figure.Figure at 0x7f921610bac8>"
            ]
          },
          "metadata": {
            "tags": []
          }
        }
      ]
    },
    {
      "metadata": {
        "id": "F_iOdnZ6c57s",
        "colab_type": "text"
      },
      "cell_type": "markdown",
      "source": [
        "Como podemos obvservar en los graficos mostrados arriba, el accuracy siempre fue subiendo en el set de train, sin embargo, en el set de validacion a partir del epoch 5 comenzó a bajar, para luego volver a lo que habia estado para el epoch 8, por lo que se deja de entrenar. \n",
        "\n",
        "Con el Loss pasó lo mismo, este siempre bajó en el set de training, sin embargo, del epoch 5 al 6 subió en el set de validación, y volvió a bajar para la época 8.\n",
        "\n",
        "El hecho de que haya subido y luego vuelto a bajar, nos lleva a pensar que quizás ponerle paciencia 3 al Early Stop puede haber sido muy poco, y que con mas entrenamiento este valor puede haber seguido bajando, por lo que intentaremos seguir entrenando la red con más epocas."
      ]
    },
    {
      "metadata": {
        "id": "lyMsrO21RkCW",
        "colab_type": "code",
        "colab": {
          "autoexec": {
            "startup": false,
            "wait_interval": 0
          }
        }
      },
      "cell_type": "code",
      "source": [
        "N = 12500\n",
        "N_clases = 25\n",
        "\n",
        "def load_set(directory):\n",
        "    #Load the clases\n",
        "    cls = os.listdir(directory)\n",
        "    #Create empty arrays\n",
        "    X = np.empty((N, 3, 224, 224))\n",
        "    Y = np.zeros((N, N_clases))\n",
        "    #Load the set\n",
        "    curr = 0\n",
        "    for cl in cls:\n",
        "        for i, img_path in enumerate(os.listdir(directory + '/' + cl)):\n",
        "            X[i + curr, ...] = cv2.resize(cv2.imread(directory + '/' + cl + '/' + img_path, cv2.cv2.IMREAD_COLOR), (224, 224)).transpose(2, 0, 1)\n",
        "            Y[i + curr][cls.index(cl)] = 1\n",
        "        curr = curr + i + 1\n",
        "    return X, Y"
      ],
      "execution_count": 0,
      "outputs": []
    },
    {
      "metadata": {
        "id": "2By6MZRLSozY",
        "colab_type": "code",
        "colab": {
          "autoexec": {
            "startup": false,
            "wait_interval": 0
          }
        }
      },
      "cell_type": "code",
      "source": [
        "X_test, Y_test = load_set('Places25/test')"
      ],
      "execution_count": 0,
      "outputs": []
    },
    {
      "metadata": {
        "id": "rmN1CU65UDaj",
        "colab_type": "code",
        "colab": {
          "autoexec": {
            "startup": false,
            "wait_interval": 0
          },
          "base_uri": "https://localhost:8080/",
          "height": 164
        },
        "outputId": "ff9841fb-4a8f-4e79-fd98-199e7bd9d4b5",
        "executionInfo": {
          "status": "error",
          "timestamp": 1525322779422,
          "user_tz": 240,
          "elapsed": 810,
          "user": {
            "displayName": "Francisco RENCORET DOMINGUEZ",
            "photoUrl": "https://lh3.googleusercontent.com/a/default-user=s128",
            "userId": "105993607523039650316"
          }
        }
      },
      "cell_type": "code",
      "source": [
        "X_test[0]"
      ],
      "execution_count": 1,
      "outputs": [
        {
          "output_type": "error",
          "ename": "NameError",
          "evalue": "ignored",
          "traceback": [
            "\u001b[0;31m---------------------------------------------------------------------------\u001b[0m",
            "\u001b[0;31mNameError\u001b[0m                                 Traceback (most recent call last)",
            "\u001b[0;32m<ipython-input-1-04cea84bf598>\u001b[0m in \u001b[0;36m<module>\u001b[0;34m()\u001b[0m\n\u001b[0;32m----> 1\u001b[0;31m \u001b[0mX_test\u001b[0m\u001b[0;34m[\u001b[0m\u001b[0;36m0\u001b[0m\u001b[0;34m]\u001b[0m\u001b[0;34m\u001b[0m\u001b[0m\n\u001b[0m",
            "\u001b[0;31mNameError\u001b[0m: name 'X_test' is not defined"
          ]
        }
      ]
    },
    {
      "metadata": {
        "id": "RWLBcRs3Ur0p",
        "colab_type": "code",
        "colab": {
          "autoexec": {
            "startup": false,
            "wait_interval": 0
          },
          "base_uri": "https://localhost:8080/",
          "height": 232
        },
        "outputId": "13e52299-3c52-4563-f33d-6d5decf9c163",
        "executionInfo": {
          "status": "error",
          "timestamp": 1525322856130,
          "user_tz": 240,
          "elapsed": 607,
          "user": {
            "displayName": "Francisco RENCORET DOMINGUEZ",
            "photoUrl": "https://lh3.googleusercontent.com/a/default-user=s128",
            "userId": "105993607523039650316"
          }
        }
      },
      "cell_type": "code",
      "source": [
        "#Codigo aux pq google me cerro la instancia\n",
        "resnet50 = applications.resnet50.ResNet50(weights=None, classes=25)\n",
        "resnet50.load_weights('restnet50_places_weights.h5')\n",
        "resnet50.compile(loss = 'categorical_crossentropy',\n",
        "              optimizer= optimizers.Adam(lr=5e-4),\n",
        "              metrics = ['accuracy'])"
      ],
      "execution_count": 3,
      "outputs": [
        {
          "output_type": "error",
          "ename": "NameError",
          "evalue": "ignored",
          "traceback": [
            "\u001b[0;31m---------------------------------------------------------------------------\u001b[0m",
            "\u001b[0;31mNameError\u001b[0m                                 Traceback (most recent call last)",
            "\u001b[0;32m<ipython-input-3-e4666629cde7>\u001b[0m in \u001b[0;36m<module>\u001b[0;34m()\u001b[0m\n\u001b[0;32m----> 1\u001b[0;31m \u001b[0mresnet50\u001b[0m \u001b[0;34m=\u001b[0m \u001b[0mapplications\u001b[0m\u001b[0;34m.\u001b[0m\u001b[0mresnet50\u001b[0m\u001b[0;34m.\u001b[0m\u001b[0mResNet50\u001b[0m\u001b[0;34m(\u001b[0m\u001b[0mweights\u001b[0m\u001b[0;34m=\u001b[0m\u001b[0;32mNone\u001b[0m\u001b[0;34m,\u001b[0m \u001b[0mclasses\u001b[0m\u001b[0;34m=\u001b[0m\u001b[0;36m25\u001b[0m\u001b[0;34m)\u001b[0m\u001b[0;34m\u001b[0m\u001b[0m\n\u001b[0m\u001b[1;32m      2\u001b[0m \u001b[0mresnet50\u001b[0m\u001b[0;34m.\u001b[0m\u001b[0mload_weights\u001b[0m\u001b[0;34m(\u001b[0m\u001b[0;34m'restnet50_places_weights.h5'\u001b[0m\u001b[0;34m)\u001b[0m\u001b[0;34m\u001b[0m\u001b[0m\n\u001b[1;32m      3\u001b[0m resnet50.compile(loss = 'categorical_crossentropy',\n\u001b[1;32m      4\u001b[0m               \u001b[0moptimizer\u001b[0m\u001b[0;34m=\u001b[0m \u001b[0moptimizers\u001b[0m\u001b[0;34m.\u001b[0m\u001b[0mAdam\u001b[0m\u001b[0;34m(\u001b[0m\u001b[0mlr\u001b[0m\u001b[0;34m=\u001b[0m\u001b[0;36m5e-4\u001b[0m\u001b[0;34m)\u001b[0m\u001b[0;34m,\u001b[0m\u001b[0;34m\u001b[0m\u001b[0m\n\u001b[1;32m      5\u001b[0m               metrics = ['accuracy'])\n",
            "\u001b[0;31mNameError\u001b[0m: name 'applications' is not defined"
          ]
        }
      ]
    },
    {
      "metadata": {
        "id": "OsKlvCzeUE7v",
        "colab_type": "code",
        "colab": {
          "autoexec": {
            "startup": false,
            "wait_interval": 0
          },
          "base_uri": "https://localhost:8080/",
          "height": 51
        },
        "outputId": "00f693fe-3e2c-4a6e-cb92-87ab8a1c0e44",
        "executionInfo": {
          "status": "ok",
          "timestamp": 1525322650552,
          "user_tz": 240,
          "elapsed": 382,
          "user": {
            "displayName": "Francisco RENCORET DOMINGUEZ",
            "photoUrl": "https://lh3.googleusercontent.com/a/default-user=s128",
            "userId": "105993607523039650316"
          }
        }
      },
      "cell_type": "code",
      "source": [
        "Y_test[0]"
      ],
      "execution_count": 51,
      "outputs": [
        {
          "output_type": "execute_result",
          "data": {
            "text/plain": [
              "array([1., 1., 1., 1., 1., 1., 1., 1., 1., 1., 1., 1., 1., 1., 1., 1., 1.,\n",
              "       1., 1., 1., 1., 1., 1., 1., 1.])"
            ]
          },
          "metadata": {
            "tags": []
          },
          "execution_count": 51
        }
      ]
    },
    {
      "metadata": {
        "id": "6JMeou1UOady",
        "colab_type": "code",
        "colab": {
          "autoexec": {
            "startup": false,
            "wait_interval": 0
          }
        }
      },
      "cell_type": "code",
      "source": [
        "#Create new model and load weights\n",
        "new_resnet50 = applications.resnet50.ResNet50(weights=None, classes=25)\n",
        "new_resnet50.load_weights('restnet50_places_weights.h5')"
      ],
      "execution_count": 0,
      "outputs": []
    },
    {
      "metadata": {
        "id": "ItxJvZe2ga6g",
        "colab_type": "code",
        "colab": {
          "autoexec": {
            "startup": false,
            "wait_interval": 0
          }
        }
      },
      "cell_type": "code",
      "source": [
        "#We are going to reduce the learning rate and try fitting again\n",
        "new_resnet50.compile(loss = 'categorical_crossentropy',\n",
        "              optimizer= optimizers.Adam(lr=1e-4),\n",
        "              metrics = ['accuracy'])"
      ],
      "execution_count": 0,
      "outputs": []
    },
    {
      "metadata": {
        "id": "lyr04u0s2Um-",
        "colab_type": "code",
        "colab": {
          "autoexec": {
            "startup": false,
            "wait_interval": 0
          },
          "base_uri": "https://localhost:8080/",
          "height": 343
        },
        "outputId": "71ab1f07-1cb2-4a01-ef26-be7b4f013865",
        "executionInfo": {
          "status": "ok",
          "timestamp": 1525320827474,
          "user_tz": 240,
          "elapsed": 11314937,
          "user": {
            "displayName": "Francisco RENCORET DOMINGUEZ",
            "photoUrl": "https://lh3.googleusercontent.com/a/default-user=s128",
            "userId": "105993607523039650316"
          }
        }
      },
      "cell_type": "code",
      "source": [
        "new_resnet50.fit_generator(\n",
        "        train_generator,\n",
        "        steps_per_epoch = train_generator.samples // 64,\n",
        "        epochs=20,\n",
        "        verbose=1,\n",
        "        callbacks = [checkpoints, history, earlyStopping],\n",
        "        validation_data=val_generator,\n",
        "        validation_steps = val_generator.samples // 64)"
      ],
      "execution_count": 25,
      "outputs": [
        {
          "output_type": "stream",
          "text": [
            "Epoch 1/20\n",
            "1561/1562 [============================>.] - ETA: 1s - loss: 0.2437 - acc: 0.9234"
          ],
          "name": "stdout"
        },
        {
          "output_type": "stream",
          "text": [
            "\b\b\b\b\b\b\b\b\b\b\b\b\b\b\b\b\b\b\b\b\b\b\b\b\b\b\b\b\b\b\b\b\b\b\b\b\b\b\b\b\b\b\b\b\b\b\b\b\b\b\b\b\b\b\b\b\b\b\b\b\b\b\b\b\b\b\b\b\b\b\b\b\b\b\b\b\b\b\b\b\b\r1562/1562 [==============================] - 2833s 2s/step - loss: 0.2437 - acc: 0.9234 - val_loss: 0.9122 - val_acc: 0.7582\n",
            "\n",
            "Epoch 00001: val_loss improved from 0.92076 to 0.91222, saving model to checkpoints/restnet50_places.hdf5\n",
            "Epoch 2/20\n",
            " 242/1562 [===>..........................] - ETA: 37:53 - loss: 0.1578 - acc: 0.9510"
          ],
          "name": "stdout"
        },
        {
          "output_type": "stream",
          "text": [
            "1561/1562 [============================>.] - ETA: 1s - loss: 0.1635 - acc: 0.9484"
          ],
          "name": "stdout"
        },
        {
          "output_type": "stream",
          "text": [
            "\b\b\b\b\b\b\b\b\b\b\b\b\b\b\b\b\b\b\b\b\b\b\b\b\b\b\b\b\b\b\b\b\b\b\b\b\b\b\b\b\b\b\b\b\b\b\b\b\b\b\b\b\b\b\b\b\b\b\b\b\b\b\b\b\b\b\b\b\b\b\b\b\b\b\b\b\b\b\b\b\b\r1562/1562 [==============================] - 2823s 2s/step - loss: 0.1634 - acc: 0.9484 - val_loss: 0.9623 - val_acc: 0.7583\n",
            "\n",
            "Epoch 00002: val_loss did not improve from 0.91222\n",
            "Epoch 3/20\n",
            " 281/1562 [====>.........................] - ETA: 36:43 - loss: 0.0949 - acc: 0.9709"
          ],
          "name": "stdout"
        },
        {
          "output_type": "stream",
          "text": [
            "1561/1562 [============================>.] - ETA: 1s - loss: 0.1005 - acc: 0.9692"
          ],
          "name": "stdout"
        },
        {
          "output_type": "stream",
          "text": [
            "\b\b\b\b\b\b\b\b\b\b\b\b\b\b\b\b\b\b\b\b\b\b\b\b\b\b\b\b\b\b\b\b\b\b\b\b\b\b\b\b\b\b\b\b\b\b\b\b\b\b\b\b\b\b\b\b\b\b\b\b\b\b\b\b\b\b\b\b\b\b\b\b\b\b\b\b\b\b\b\b\b\r1562/1562 [==============================] - 2807s 2s/step - loss: 0.1005 - acc: 0.9692 - val_loss: 1.0928 - val_acc: 0.7510\n",
            "\n",
            "Epoch 00003: val_loss did not improve from 0.91222\n",
            "Epoch 4/20\n",
            " 281/1562 [====>.........................] - ETA: 36:17 - loss: 0.0591 - acc: 0.9832"
          ],
          "name": "stdout"
        },
        {
          "output_type": "stream",
          "text": [
            "1561/1562 [============================>.] - ETA: 1s - loss: 0.0644 - acc: 0.9806"
          ],
          "name": "stdout"
        },
        {
          "output_type": "stream",
          "text": [
            "\b\b\b\b\b\b\b\b\b\b\b\b\b\b\b\b\b\b\b\b\b\b\b\b\b\b\b\b\b\b\b\b\b\b\b\b\b\b\b\b\b\b\b\b\b\b\b\b\b\b\b\b\b\b\b\b\b\b\b\b\b\b\b\b\b\b\b\b\b\b\b\b\b\b\b\b\b\b\b\b\b\r1562/1562 [==============================] - 2805s 2s/step - loss: 0.0644 - acc: 0.9806 - val_loss: 1.2615 - val_acc: 0.7514\n",
            "\n",
            "Epoch 00004: val_loss did not improve from 0.91222\n",
            "Epoch 00004: early stopping\n"
          ],
          "name": "stdout"
        },
        {
          "output_type": "execute_result",
          "data": {
            "text/plain": [
              "<keras.callbacks.History at 0x7f91a0d74eb8>"
            ]
          },
          "metadata": {
            "tags": []
          },
          "execution_count": 25
        }
      ]
    },
    {
      "metadata": {
        "id": "GWEnd8D0d2qi",
        "colab_type": "text"
      },
      "cell_type": "markdown",
      "source": [
        "Podemos observar que la función de pérdida en el set de validación no mejoró con más entrenamiento, por lo que nos quedaremos con el modelo anterior, de manera de evitar overfiteo.\n"
      ]
    },
    {
      "metadata": {
        "id": "_aWyzH60h9Bj",
        "colab_type": "code",
        "colab": {
          "autoexec": {
            "startup": false,
            "wait_interval": 0
          }
        }
      },
      "cell_type": "code",
      "source": [
        "#Save newResnet50 model and weights\n",
        "new_resnet50.save('restnet50_places_02.h5')\n",
        "new_resnet50.save_weights('restnet50_places_weights_02.h5')"
      ],
      "execution_count": 0,
      "outputs": []
    },
    {
      "metadata": {
        "id": "ZAQ-L5ANPdCk",
        "colab_type": "code",
        "colab": {
          "autoexec": {
            "startup": false,
            "wait_interval": 0
          },
          "base_uri": "https://localhost:8080/",
          "height": 68
        },
        "outputId": "b03cb040-2cb3-40fa-b0fb-8514ed2f5664",
        "executionInfo": {
          "status": "ok",
          "timestamp": 1525321425401,
          "user_tz": 240,
          "elapsed": 1888,
          "user": {
            "displayName": "Francisco RENCORET DOMINGUEZ",
            "photoUrl": "https://lh3.googleusercontent.com/a/default-user=s128",
            "userId": "105993607523039650316"
          }
        }
      },
      "cell_type": "code",
      "source": [
        "ls"
      ],
      "execution_count": 29,
      "outputs": [
        {
          "output_type": "stream",
          "text": [
            "\u001b[0m\u001b[01;34mcheckpoints\u001b[0m/  Places25.zip?dl=0       restnet50_places_weights_02.h5\r\n",
            "\u001b[01;34mdatalab\u001b[0m/      restnet50_places_02.h5  restnet50_places_weights.h5\r\n",
            "\u001b[34;42mPlaces25\u001b[0m/     restnet50_places.h5\r\n"
          ],
          "name": "stdout"
        }
      ]
    },
    {
      "metadata": {
        "id": "7FiWOcq-PLwy",
        "colab_type": "code",
        "colab": {
          "autoexec": {
            "startup": false,
            "wait_interval": 0
          },
          "base_uri": "https://localhost:8080/",
          "height": 1456
        },
        "outputId": "a9b2f431-e668-432e-972d-d09d6ba6717c",
        "executionInfo": {
          "status": "error",
          "timestamp": 1525321368927,
          "user_tz": 240,
          "elapsed": 678,
          "user": {
            "displayName": "Francisco RENCORET DOMINGUEZ",
            "photoUrl": "https://lh3.googleusercontent.com/a/default-user=s128",
            "userId": "105993607523039650316"
          }
        }
      },
      "cell_type": "code",
      "source": [
        "#Upload model\n",
        "uploaded = drive.CreateFile({'title': 'restnet50_places_02'})\n",
        "uploaded.SetContentFile('restnet50_places_02.h5')\n",
        "uploaded.Upload()\n",
        "print('Uploaded file with ID {}'.format(uploaded.get('id')))\n",
        "#Upload weights\n",
        "uploaded = drive.CreateFile({'title': 'restnet50_places_weights_02'})\n",
        "uploaded.SetContentFile('restnet50_places_weights_02.h5')\n",
        "uploaded.Upload()\n",
        "print('Uploaded file with ID {}'.format(uploaded.get('id')))"
      ],
      "execution_count": 28,
      "outputs": [
        {
          "output_type": "error",
          "ename": "InvalidConfigError",
          "evalue": "ignored",
          "traceback": [
            "\u001b[0;31m---------------------------------------------------------------------------\u001b[0m",
            "\u001b[0;31mFileNotFoundError\u001b[0m                         Traceback (most recent call last)",
            "\u001b[0;32m/usr/local/lib/python3.6/dist-packages/oauth2client/clientsecrets.py\u001b[0m in \u001b[0;36m_loadfile\u001b[0;34m(filename)\u001b[0m\n\u001b[1;32m    120\u001b[0m     \u001b[0;32mtry\u001b[0m\u001b[0;34m:\u001b[0m\u001b[0;34m\u001b[0m\u001b[0m\n\u001b[0;32m--> 121\u001b[0;31m         \u001b[0;32mwith\u001b[0m \u001b[0mopen\u001b[0m\u001b[0;34m(\u001b[0m\u001b[0mfilename\u001b[0m\u001b[0;34m,\u001b[0m \u001b[0;34m'r'\u001b[0m\u001b[0;34m)\u001b[0m \u001b[0;32mas\u001b[0m \u001b[0mfp\u001b[0m\u001b[0;34m:\u001b[0m\u001b[0;34m\u001b[0m\u001b[0m\n\u001b[0m\u001b[1;32m    122\u001b[0m             \u001b[0mobj\u001b[0m \u001b[0;34m=\u001b[0m \u001b[0mjson\u001b[0m\u001b[0;34m.\u001b[0m\u001b[0mload\u001b[0m\u001b[0;34m(\u001b[0m\u001b[0mfp\u001b[0m\u001b[0;34m)\u001b[0m\u001b[0;34m\u001b[0m\u001b[0m\n",
            "\u001b[0;31mFileNotFoundError\u001b[0m: [Errno 2] No such file or directory: 'client_secrets.json'",
            "\nDuring handling of the above exception, another exception occurred:\n",
            "\u001b[0;31mInvalidClientSecretsError\u001b[0m                 Traceback (most recent call last)",
            "\u001b[0;32m/usr/local/lib/python3.6/dist-packages/pydrive/auth.py\u001b[0m in \u001b[0;36mLoadClientConfigFile\u001b[0;34m(self, client_config_file)\u001b[0m\n\u001b[1;32m    385\u001b[0m     \u001b[0;32mtry\u001b[0m\u001b[0;34m:\u001b[0m\u001b[0;34m\u001b[0m\u001b[0m\n\u001b[0;32m--> 386\u001b[0;31m       \u001b[0mclient_type\u001b[0m\u001b[0;34m,\u001b[0m \u001b[0mclient_info\u001b[0m \u001b[0;34m=\u001b[0m \u001b[0mclientsecrets\u001b[0m\u001b[0;34m.\u001b[0m\u001b[0mloadfile\u001b[0m\u001b[0;34m(\u001b[0m\u001b[0mclient_config_file\u001b[0m\u001b[0;34m)\u001b[0m\u001b[0;34m\u001b[0m\u001b[0m\n\u001b[0m\u001b[1;32m    387\u001b[0m     \u001b[0;32mexcept\u001b[0m \u001b[0mclientsecrets\u001b[0m\u001b[0;34m.\u001b[0m\u001b[0mInvalidClientSecretsError\u001b[0m \u001b[0;32mas\u001b[0m \u001b[0merror\u001b[0m\u001b[0;34m:\u001b[0m\u001b[0;34m\u001b[0m\u001b[0m\n",
            "\u001b[0;32m/usr/local/lib/python3.6/dist-packages/oauth2client/clientsecrets.py\u001b[0m in \u001b[0;36mloadfile\u001b[0;34m(filename, cache)\u001b[0m\n\u001b[1;32m    164\u001b[0m     \u001b[0;32mif\u001b[0m \u001b[0;32mnot\u001b[0m \u001b[0mcache\u001b[0m\u001b[0;34m:\u001b[0m\u001b[0;34m\u001b[0m\u001b[0m\n\u001b[0;32m--> 165\u001b[0;31m         \u001b[0;32mreturn\u001b[0m \u001b[0m_loadfile\u001b[0m\u001b[0;34m(\u001b[0m\u001b[0mfilename\u001b[0m\u001b[0;34m)\u001b[0m\u001b[0;34m\u001b[0m\u001b[0m\n\u001b[0m\u001b[1;32m    166\u001b[0m \u001b[0;34m\u001b[0m\u001b[0m\n",
            "\u001b[0;32m/usr/local/lib/python3.6/dist-packages/oauth2client/clientsecrets.py\u001b[0m in \u001b[0;36m_loadfile\u001b[0;34m(filename)\u001b[0m\n\u001b[1;32m    124\u001b[0m         raise InvalidClientSecretsError('Error opening file', exc.filename,\n\u001b[0;32m--> 125\u001b[0;31m                                         exc.strerror, exc.errno)\n\u001b[0m\u001b[1;32m    126\u001b[0m     \u001b[0;32mreturn\u001b[0m \u001b[0m_validate_clientsecrets\u001b[0m\u001b[0;34m(\u001b[0m\u001b[0mobj\u001b[0m\u001b[0;34m)\u001b[0m\u001b[0;34m\u001b[0m\u001b[0m\n",
            "\u001b[0;31mInvalidClientSecretsError\u001b[0m: ('Error opening file', 'client_secrets.json', 'No such file or directory', 2)",
            "\nDuring handling of the above exception, another exception occurred:\n",
            "\u001b[0;31mInvalidConfigError\u001b[0m                        Traceback (most recent call last)",
            "\u001b[0;32m<ipython-input-28-3978aaacce2d>\u001b[0m in \u001b[0;36m<module>\u001b[0;34m()\u001b[0m\n\u001b[1;32m      1\u001b[0m \u001b[0muploaded\u001b[0m \u001b[0;34m=\u001b[0m \u001b[0mdrive\u001b[0m\u001b[0;34m.\u001b[0m\u001b[0mCreateFile\u001b[0m\u001b[0;34m(\u001b[0m\u001b[0;34m{\u001b[0m\u001b[0;34m'title'\u001b[0m\u001b[0;34m:\u001b[0m \u001b[0;34m'restnet50_places_02'\u001b[0m\u001b[0;34m}\u001b[0m\u001b[0;34m)\u001b[0m\u001b[0;34m\u001b[0m\u001b[0m\n\u001b[1;32m      2\u001b[0m \u001b[0muploaded\u001b[0m\u001b[0;34m.\u001b[0m\u001b[0mSetContentFile\u001b[0m\u001b[0;34m(\u001b[0m\u001b[0;34m'restnet50_places_02.h5'\u001b[0m\u001b[0;34m)\u001b[0m\u001b[0;34m\u001b[0m\u001b[0m\n\u001b[0;32m----> 3\u001b[0;31m \u001b[0muploaded\u001b[0m\u001b[0;34m.\u001b[0m\u001b[0mUpload\u001b[0m\u001b[0;34m(\u001b[0m\u001b[0;34m)\u001b[0m\u001b[0;34m\u001b[0m\u001b[0m\n\u001b[0m\u001b[1;32m      4\u001b[0m \u001b[0mprint\u001b[0m\u001b[0;34m(\u001b[0m\u001b[0;34m'Uploaded file with ID {}'\u001b[0m\u001b[0;34m.\u001b[0m\u001b[0mformat\u001b[0m\u001b[0;34m(\u001b[0m\u001b[0muploaded\u001b[0m\u001b[0;34m.\u001b[0m\u001b[0mget\u001b[0m\u001b[0;34m(\u001b[0m\u001b[0;34m'id'\u001b[0m\u001b[0;34m)\u001b[0m\u001b[0;34m)\u001b[0m\u001b[0;34m)\u001b[0m\u001b[0;34m\u001b[0m\u001b[0m\n\u001b[1;32m      5\u001b[0m \u001b[0;31m#Upload weights\u001b[0m\u001b[0;34m\u001b[0m\u001b[0;34m\u001b[0m\u001b[0m\n",
            "\u001b[0;32m/usr/local/lib/python3.6/dist-packages/pydrive/files.py\u001b[0m in \u001b[0;36mUpload\u001b[0;34m(self, param)\u001b[0m\n\u001b[1;32m    283\u001b[0m         \u001b[0mself\u001b[0m\u001b[0;34m.\u001b[0m\u001b[0m_FilesPatch\u001b[0m\u001b[0;34m(\u001b[0m\u001b[0mparam\u001b[0m\u001b[0;34m=\u001b[0m\u001b[0mparam\u001b[0m\u001b[0;34m)\u001b[0m\u001b[0;34m\u001b[0m\u001b[0m\n\u001b[1;32m    284\u001b[0m     \u001b[0;32melse\u001b[0m\u001b[0;34m:\u001b[0m\u001b[0;34m\u001b[0m\u001b[0m\n\u001b[0;32m--> 285\u001b[0;31m       \u001b[0mself\u001b[0m\u001b[0;34m.\u001b[0m\u001b[0m_FilesInsert\u001b[0m\u001b[0;34m(\u001b[0m\u001b[0mparam\u001b[0m\u001b[0;34m=\u001b[0m\u001b[0mparam\u001b[0m\u001b[0;34m)\u001b[0m\u001b[0;34m\u001b[0m\u001b[0m\n\u001b[0m\u001b[1;32m    286\u001b[0m \u001b[0;34m\u001b[0m\u001b[0m\n\u001b[1;32m    287\u001b[0m   \u001b[0;32mdef\u001b[0m \u001b[0mTrash\u001b[0m\u001b[0;34m(\u001b[0m\u001b[0mself\u001b[0m\u001b[0;34m,\u001b[0m \u001b[0mparam\u001b[0m\u001b[0;34m=\u001b[0m\u001b[0;32mNone\u001b[0m\u001b[0;34m)\u001b[0m\u001b[0;34m:\u001b[0m\u001b[0;34m\u001b[0m\u001b[0m\n",
            "\u001b[0;32m/usr/local/lib/python3.6/dist-packages/pydrive/auth.py\u001b[0m in \u001b[0;36m_decorated\u001b[0;34m(self, *args, **kwargs)\u001b[0m\n\u001b[1;32m     55\u001b[0m         \u001b[0mself\u001b[0m\u001b[0;34m.\u001b[0m\u001b[0mauth\u001b[0m\u001b[0;34m.\u001b[0m\u001b[0mServiceAuth\u001b[0m\u001b[0;34m(\u001b[0m\u001b[0;34m)\u001b[0m\u001b[0;34m\u001b[0m\u001b[0m\n\u001b[1;32m     56\u001b[0m       \u001b[0;32melse\u001b[0m\u001b[0;34m:\u001b[0m\u001b[0;34m\u001b[0m\u001b[0m\n\u001b[0;32m---> 57\u001b[0;31m         \u001b[0mself\u001b[0m\u001b[0;34m.\u001b[0m\u001b[0mauth\u001b[0m\u001b[0;34m.\u001b[0m\u001b[0mLocalWebserverAuth\u001b[0m\u001b[0;34m(\u001b[0m\u001b[0;34m)\u001b[0m\u001b[0;34m\u001b[0m\u001b[0m\n\u001b[0m\u001b[1;32m     58\u001b[0m \u001b[0;34m\u001b[0m\u001b[0m\n\u001b[1;32m     59\u001b[0m     \u001b[0;31m# Initialise service if not built yet.\u001b[0m\u001b[0;34m\u001b[0m\u001b[0;34m\u001b[0m\u001b[0m\n",
            "\u001b[0;32m/usr/local/lib/python3.6/dist-packages/pydrive/auth.py\u001b[0m in \u001b[0;36m_decorated\u001b[0;34m(self, *args, **kwargs)\u001b[0m\n\u001b[1;32m    111\u001b[0m       \u001b[0mself\u001b[0m\u001b[0;34m.\u001b[0m\u001b[0mLoadCredentials\u001b[0m\u001b[0;34m(\u001b[0m\u001b[0;34m)\u001b[0m\u001b[0;34m\u001b[0m\u001b[0m\n\u001b[1;32m    112\u001b[0m     \u001b[0;32mif\u001b[0m \u001b[0mself\u001b[0m\u001b[0;34m.\u001b[0m\u001b[0mflow\u001b[0m \u001b[0;32mis\u001b[0m \u001b[0;32mNone\u001b[0m\u001b[0;34m:\u001b[0m\u001b[0;34m\u001b[0m\u001b[0m\n\u001b[0;32m--> 113\u001b[0;31m       \u001b[0mself\u001b[0m\u001b[0;34m.\u001b[0m\u001b[0mGetFlow\u001b[0m\u001b[0;34m(\u001b[0m\u001b[0;34m)\u001b[0m\u001b[0;34m\u001b[0m\u001b[0m\n\u001b[0m\u001b[1;32m    114\u001b[0m     \u001b[0;32mif\u001b[0m \u001b[0mself\u001b[0m\u001b[0;34m.\u001b[0m\u001b[0mcredentials\u001b[0m \u001b[0;32mis\u001b[0m \u001b[0;32mNone\u001b[0m\u001b[0;34m:\u001b[0m\u001b[0;34m\u001b[0m\u001b[0m\n\u001b[1;32m    115\u001b[0m       \u001b[0mcode\u001b[0m \u001b[0;34m=\u001b[0m \u001b[0mdecoratee\u001b[0m\u001b[0;34m(\u001b[0m\u001b[0mself\u001b[0m\u001b[0;34m,\u001b[0m \u001b[0;34m*\u001b[0m\u001b[0margs\u001b[0m\u001b[0;34m,\u001b[0m \u001b[0;34m**\u001b[0m\u001b[0mkwargs\u001b[0m\u001b[0;34m)\u001b[0m\u001b[0;34m\u001b[0m\u001b[0m\n",
            "\u001b[0;32m/usr/local/lib/python3.6/dist-packages/pydrive/auth.py\u001b[0m in \u001b[0;36mGetFlow\u001b[0;34m(self)\u001b[0m\n\u001b[1;32m    441\u001b[0m     if not all(config in self.client_config \\\n\u001b[1;32m    442\u001b[0m                for config in self.CLIENT_CONFIGS_LIST):\n\u001b[0;32m--> 443\u001b[0;31m       \u001b[0mself\u001b[0m\u001b[0;34m.\u001b[0m\u001b[0mLoadClientConfig\u001b[0m\u001b[0;34m(\u001b[0m\u001b[0;34m)\u001b[0m\u001b[0;34m\u001b[0m\u001b[0m\n\u001b[0m\u001b[1;32m    444\u001b[0m     constructor_kwargs = {\n\u001b[1;32m    445\u001b[0m         \u001b[0;34m'redirect_uri'\u001b[0m\u001b[0;34m:\u001b[0m \u001b[0mself\u001b[0m\u001b[0;34m.\u001b[0m\u001b[0mclient_config\u001b[0m\u001b[0;34m[\u001b[0m\u001b[0;34m'redirect_uri'\u001b[0m\u001b[0;34m]\u001b[0m\u001b[0;34m,\u001b[0m\u001b[0;34m\u001b[0m\u001b[0m\n",
            "\u001b[0;32m/usr/local/lib/python3.6/dist-packages/pydrive/auth.py\u001b[0m in \u001b[0;36mLoadClientConfig\u001b[0;34m(self, backend)\u001b[0m\n\u001b[1;32m    364\u001b[0m         \u001b[0;32mraise\u001b[0m \u001b[0mInvalidConfigError\u001b[0m\u001b[0;34m(\u001b[0m\u001b[0;34m'Please specify client config backend'\u001b[0m\u001b[0;34m)\u001b[0m\u001b[0;34m\u001b[0m\u001b[0m\n\u001b[1;32m    365\u001b[0m     \u001b[0;32mif\u001b[0m \u001b[0mbackend\u001b[0m \u001b[0;34m==\u001b[0m \u001b[0;34m'file'\u001b[0m\u001b[0;34m:\u001b[0m\u001b[0;34m\u001b[0m\u001b[0m\n\u001b[0;32m--> 366\u001b[0;31m       \u001b[0mself\u001b[0m\u001b[0;34m.\u001b[0m\u001b[0mLoadClientConfigFile\u001b[0m\u001b[0;34m(\u001b[0m\u001b[0;34m)\u001b[0m\u001b[0;34m\u001b[0m\u001b[0m\n\u001b[0m\u001b[1;32m    367\u001b[0m     \u001b[0;32melif\u001b[0m \u001b[0mbackend\u001b[0m \u001b[0;34m==\u001b[0m \u001b[0;34m'settings'\u001b[0m\u001b[0;34m:\u001b[0m\u001b[0;34m\u001b[0m\u001b[0m\n\u001b[1;32m    368\u001b[0m       \u001b[0mself\u001b[0m\u001b[0;34m.\u001b[0m\u001b[0mLoadClientConfigSettings\u001b[0m\u001b[0;34m(\u001b[0m\u001b[0;34m)\u001b[0m\u001b[0;34m\u001b[0m\u001b[0m\n",
            "\u001b[0;32m/usr/local/lib/python3.6/dist-packages/pydrive/auth.py\u001b[0m in \u001b[0;36mLoadClientConfigFile\u001b[0;34m(self, client_config_file)\u001b[0m\n\u001b[1;32m    386\u001b[0m       \u001b[0mclient_type\u001b[0m\u001b[0;34m,\u001b[0m \u001b[0mclient_info\u001b[0m \u001b[0;34m=\u001b[0m \u001b[0mclientsecrets\u001b[0m\u001b[0;34m.\u001b[0m\u001b[0mloadfile\u001b[0m\u001b[0;34m(\u001b[0m\u001b[0mclient_config_file\u001b[0m\u001b[0;34m)\u001b[0m\u001b[0;34m\u001b[0m\u001b[0m\n\u001b[1;32m    387\u001b[0m     \u001b[0;32mexcept\u001b[0m \u001b[0mclientsecrets\u001b[0m\u001b[0;34m.\u001b[0m\u001b[0mInvalidClientSecretsError\u001b[0m \u001b[0;32mas\u001b[0m \u001b[0merror\u001b[0m\u001b[0;34m:\u001b[0m\u001b[0;34m\u001b[0m\u001b[0m\n\u001b[0;32m--> 388\u001b[0;31m       \u001b[0;32mraise\u001b[0m \u001b[0mInvalidConfigError\u001b[0m\u001b[0;34m(\u001b[0m\u001b[0;34m'Invalid client secrets file %s'\u001b[0m \u001b[0;34m%\u001b[0m \u001b[0merror\u001b[0m\u001b[0;34m)\u001b[0m\u001b[0;34m\u001b[0m\u001b[0m\n\u001b[0m\u001b[1;32m    389\u001b[0m     if not client_type in (clientsecrets.TYPE_WEB,\n\u001b[1;32m    390\u001b[0m                            clientsecrets.TYPE_INSTALLED):\n",
            "\u001b[0;31mInvalidConfigError\u001b[0m: Invalid client secrets file ('Error opening file', 'client_secrets.json', 'No such file or directory', 2)"
          ]
        }
      ]
    },
    {
      "metadata": {
        "id": "1BrQj_WjiAa-",
        "colab_type": "code",
        "colab": {
          "autoexec": {
            "startup": false,
            "wait_interval": 0
          },
          "base_uri": "https://localhost:8080/",
          "height": 752
        },
        "outputId": "8eb5d3a2-7e7c-4da2-e7c5-f65be2c3153d",
        "executionInfo": {
          "status": "ok",
          "timestamp": 1525321502069,
          "user_tz": 240,
          "elapsed": 1206,
          "user": {
            "displayName": "Francisco RENCORET DOMINGUEZ",
            "photoUrl": "https://lh3.googleusercontent.com/a/default-user=s128",
            "userId": "105993607523039650316"
          }
        }
      },
      "cell_type": "code",
      "source": [
        "# list all data in history\n",
        "print(history.history.keys())\n",
        "# summarize history for accuracy\n",
        "plt.plot(history.history['acc'])\n",
        "plt.plot(history.history['val_acc'])\n",
        "plt.title('model accuracy')\n",
        "plt.ylabel('accuracy')\n",
        "plt.xlabel('epoch')\n",
        "plt.legend(['train', 'val'], loc='upper left')\n",
        "plt.show()\n",
        "# summarize history for loss\n",
        "plt.plot(history.history['loss'])\n",
        "plt.plot(history.history['val_loss'])\n",
        "plt.title('model loss')\n",
        "plt.ylabel('loss')\n",
        "plt.xlabel('epoch')\n",
        "plt.legend(['train', 'val'], loc='upper left')\n",
        "plt.show()"
      ],
      "execution_count": 30,
      "outputs": [
        {
          "output_type": "stream",
          "text": [
            "dict_keys(['val_loss', 'val_acc', 'loss', 'acc'])\n"
          ],
          "name": "stdout"
        },
        {
          "output_type": "display_data",
          "data": {
            "image/png": "[encoded data removed]",
            "text/plain": [
              "<matplotlib.figure.Figure at 0x7f91ccd54208>"
            ]
          },
          "metadata": {
            "tags": []
          }
        },
        {
          "output_type": "display_data",
          "data": {
            "image/png": "[encoded data removed]",
            "text/plain": [
              "<matplotlib.figure.Figure at 0x7f9216071908>"
            ]
          },
          "metadata": {
            "tags": []
          }
        }
      ]
    },
    {
      "metadata": {
        "id": "w64Erq4Si05R",
        "colab_type": "code",
        "colab": {
          "autoexec": {
            "startup": false,
            "wait_interval": 0
          }
        }
      },
      "cell_type": "code",
      "source": [
        ""
      ],
      "execution_count": 0,
      "outputs": []
    }
  ]
}